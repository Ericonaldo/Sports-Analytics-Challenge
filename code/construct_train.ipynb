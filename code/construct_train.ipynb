{
 "cells": [
  {
   "cell_type": "code",
   "execution_count": 2,
   "metadata": {},
   "outputs": [
    {
     "name": "stderr",
     "output_type": "stream",
     "text": [
      "/Users/mhliu/Program/anaconda3/envs/ml/lib/python3.6/site-packages/lightgbm/__init__.py:46: UserWarning: Starting from version 2.2.1, the library file in distribution wheels for macOS is built by the Apple Clang (Xcode_8.3.3) compiler.\n",
      "This means that in case of installing LightGBM from PyPI via the ``pip install lightgbm`` command, you don't need to install the gcc compiler anymore.\n",
      "Instead of that, you need to install the OpenMP library, which is required for running LightGBM on the system with the Apple Clang compiler.\n",
      "You can install the OpenMP library by the following command: ``brew install libomp``.\n",
      "  \"You can install the OpenMP library by the following command: ``brew install libomp``.\", UserWarning)\n"
     ]
    }
   ],
   "source": [
    "from utils import *\n",
    "\n",
    "data_path = \"../data/XPSG - available resources/\"\n",
    "train_path = \"../data/train/\" # path of processed training data\n",
    "valid_path = \"../data/valid/\" # path of processed validation data\n",
    "processed_path = \"../data/processed/\"\n",
    "model_path = '../models/'\n",
    "\n",
    "train_dir = data_path+\"French Ligue One 20162017 season - Match Day 1- 19/\" # path of raw data\n",
    "player_info = data_path+\"Players and IDs - F40 - L1 20162017.xml\"\n",
    "test_before_change_eg = data_path+\"Example test base before changes specified in the Rules -f24-24-2016-853139-eventdetails_test_hackathon_1.xml\"\n",
    "test_change_eg = data_path+\"Example test base file - f24-24-2016-853285-eventdetails_test_hackathon_2.xml\""
   ]
  },
  {
   "cell_type": "code",
   "execution_count": 2,
   "metadata": {},
   "outputs": [],
   "source": [
    "def construct_one_train(choice_xml, low, high):\n",
    "    \"\"\"\n",
    "    Construct one training set.\n",
    "    args:\n",
    "        choice_xml: the xml of the chosen game whose type is lxml.etree._ElementTree.\n",
    "        low: the start minute of the game.\n",
    "        high: the end minute of the game.\n",
    "    return:\n",
    "        train_xml: the xml of one validation set whose type is lxml.etree._ElementTree.\n",
    "        label_csv: the csv file of label results of this validation set.\n",
    "        \n",
    "    \"\"\"\n",
    "    suff_plyr_list = suff_plyr(choice_xml)\n",
    "    if suff_plyr_list==[]:\n",
    "        return [None, None]\n",
    "    \n",
    "    pick_plyr_id = suff_plyr_list[rnd.randint(0,len(suff_plyr_list)-1)] # randomly choose a sufficient player\n",
    "    events = choice_xml.xpath('//Event')\n",
    "    if low<45:\n",
    "        half_type = 1\n",
    "    else:\n",
    "        half_type = 2\n",
    "    half_events = [i for i in events if i.attrib['period_id']==str(half_type)]\n",
    "    pick_events = [i for i in half_events if low<=(int(i.attrib['min'])+float(i.attrib['min'])/60)<=high]\n",
    "    # check there are suff_plyrs in events\n",
    "    if not suff_plyr_event(pick_events, suff_plyr_list):\n",
    "        return [None, None]\n",
    "    \n",
    "    game = choice_xml.xpath('//Game')[0]\n",
    "    home_id = game.attrib['home_team_id']\n",
    "    away_id = game.attrib['away_team_id']\n",
    "    \n",
    "    \n",
    "    game.attrib['timestamp'] = \"\" \n",
    "    for i in game.attrib.keys(): # substitute before info\n",
    "        game.attrib[i] = \"\"\n",
    "        \n",
    "    for i in pick_events: # substitute team_id and other info\n",
    "        # if 'player_id' in i.attrib:\n",
    "        #    i.attrib['player_id'] = str(int(i.attrib['player_id']==pick_plyr_id))\n",
    "        if 'team_id' in i.attrib:\n",
    "            i.attrib['team_id'] = str(int(i.attrib['team_id']==home_id))\n",
    "        if 'id' in i.attrib:\n",
    "            i.attrib['id'] = \"\"\n",
    "        if 'timestamp' in i.attrib:\n",
    "            i.attrib['timestamp'] = \"\"\n",
    "        if 'last_modified' in i.attrib:\n",
    "            i.attrib['last_modified'] = \"\"\n",
    "        if 'version' in i.attrib:\n",
    "            i.attrib['version'] = \"\"\n",
    "        \n",
    "        for j in i.xpath('Q'):\n",
    "            j.attrib['id'] = \"\"\n",
    "            # When Type ID=140 and 141, qualifier_id=140/141 appears, replace the values by \"\"\n",
    "            if ('qualifier_id' in j.attrib) and (j.attrib['qualifier_id'] == \"140\" or j.attrib['qualifier_id'] == \"141\"):\n",
    "                j.attrib['qualifier_id'] = j.attrib['value'] = \"\"\n",
    "        \n",
    "    for i in pick_events[0:-10]: # substitute ball coor.\n",
    "        i.attrib['x'] = i.attrib['y'] = \"0.0\"\n",
    "    \n",
    "    for i in pick_events[-10:]: # substitute the last 10 events\n",
    "        i.attrib['outcome'] = \"\"\n",
    "        for j in i.xpath('Q'):\n",
    "            j.getparent().remove(j) # same as example\n",
    "        #     j.attrib['qualifier_id'] = j.attrib['value'] = \"\"\n",
    "    \n",
    "    next_event_idx = choice_xml.xpath('//Event').index(pick_events[-1])+1 \n",
    "    next_event = events[next_event_idx] # next event\n",
    "    results = str(pick_plyr_id[1:]) + ',' + str(int(next_event.attrib['team_id']==home_id)) + ',' + \\\n",
    "                            str(next_event.attrib['x'])+ ',' + str(next_event.attrib['y']) # the label results\n",
    "    label_csv = str(results)\n",
    "    \n",
    "    other_event = list(set(choice_xml.xpath('//Event')).difference(set(pick_events)))\n",
    "    for j in other_event:\n",
    "            j.getparent().remove(j)            \n",
    "    tr_xml = choice_xml # Construct val_xml\n",
    "    \n",
    "    return [tr_xml, label_csv]"
   ]
  },
  {
   "cell_type": "code",
   "execution_count": 3,
   "metadata": {},
   "outputs": [],
   "source": [
    "def construct_train_sets(save_path=train_path):\n",
    "    \"\"\"\n",
    "    Construct numbers of validation set.\n",
    "    args:\n",
    "        save_path: the path of saving validation sets.\n",
    "        val_num: the number of validation sets.\n",
    "    return:\n",
    "        a bool if the construction is success. \n",
    "    \"\"\"\n",
    "    files= os.listdir(train_dir)\n",
    "    files = [i for i in files if i[0:3]=='f24']\n",
    "    choice_min = [i*7.5 for i in range(11)]\n",
    "    for choice_file_idx in tqdm(range(len(files))):\n",
    "        for low in choice_min:\n",
    "            # do while loop until returns are not None\n",
    "            choice_xml = lxml.etree.parse(train_dir+files[choice_file_idx]) # randomly choose one game\n",
    "            tr_xml, label_csv = construct_one_train(choice_xml, low, low+15)\n",
    "            if not os.path.exists(save_path+str(choice_file_idx)):\n",
    "                os.mkdir(save_path+str(choice_file_idx))\n",
    "            if tr_xml==None:\n",
    "                print(choice_file_idx, ' is none')\n",
    "                continue\n",
    "            try:\n",
    "                tr_xml.write(save_path+str(choice_file_idx)+'/tr_' + str(low) + '.xml')\n",
    "                with open(save_path+str(choice_file_idx)+'/label_' + str(low) + '.csv', 'w') as f:\n",
    "                    f.write(label_csv)\n",
    "            except IOError:\n",
    "                print(\"Write error!\")\n",
    "                return False"
   ]
  },
  {
   "cell_type": "code",
   "execution_count": 4,
   "metadata": {},
   "outputs": [],
   "source": [
    "def suff_plyr_event(pick_events, suff_plyr_list):\n",
    "    \"\"\"\n",
    "    Justify if there are players in suff_plyr_list is in pick_events.\n",
    "    args:\n",
    "        pick_events: the picked events of the chosen game.\n",
    "    return:\n",
    "        Bool type.\n",
    "        \n",
    "    \"\"\"\n",
    "    for i in pick_events:\n",
    "        if 'player_id' in i.attrib:\n",
    "            player_id = 'p'+i.attrib['player_id']\n",
    "            if player_id in suff_plyr_list:\n",
    "                return True\n",
    "    return False"
   ]
  },
  {
   "cell_type": "code",
   "execution_count": 127,
   "metadata": {
    "scrolled": true
   },
   "outputs": [
    {
     "name": "stderr",
     "output_type": "stream",
     "text": [
      "\n",
      "\n",
      "\n",
      "\n",
      "\n",
      "\n",
      "\n",
      "\n",
      "  0%|          | 0/190 [00:00<?, ?it/s]\u001b[A\u001b[A\u001b[A\u001b[A\u001b[A\u001b[A\u001b[A\u001b[A\n",
      "\n",
      "\n",
      "\n",
      "\n",
      "\n",
      "\n",
      "\n",
      "  1%|          | 1/190 [00:01<05:13,  1.66s/it]\u001b[A\u001b[A\u001b[A\u001b[A\u001b[A\u001b[A\u001b[A\u001b[A\n",
      "\n",
      "\n",
      "\n",
      "\n",
      "\n",
      "\n",
      "\n",
      "  1%|          | 2/190 [00:03<05:06,  1.63s/it]\u001b[A\u001b[A\u001b[A\u001b[A\u001b[A\u001b[A\u001b[A\u001b[A\n",
      "\n",
      "\n",
      "\n",
      "\n",
      "\n",
      "\n",
      "\n",
      "  2%|▏         | 3/190 [00:05<05:13,  1.68s/it]\u001b[A\u001b[A\u001b[A\u001b[A\u001b[A\u001b[A\u001b[A\u001b[A\n",
      "\n",
      "\n",
      "\n",
      "\n",
      "\n",
      "\n",
      "\n",
      "  2%|▏         | 4/190 [00:06<05:11,  1.67s/it]\u001b[A\u001b[A\u001b[A\u001b[A\u001b[A\u001b[A\u001b[A\u001b[A\n",
      "\n",
      "\n",
      "\n",
      "\n",
      "\n",
      "\n",
      "\n",
      "  3%|▎         | 5/190 [00:08<05:08,  1.67s/it]\u001b[A\u001b[A\u001b[A\u001b[A\u001b[A\u001b[A\u001b[A\u001b[A\n",
      "\n",
      "\n",
      "\n",
      "\n",
      "\n",
      "\n",
      "\n",
      "  3%|▎         | 6/190 [00:09<05:05,  1.66s/it]\u001b[A\u001b[A\u001b[A\u001b[A\u001b[A\u001b[A\u001b[A\u001b[A\n",
      "\n",
      "\n",
      "\n",
      "\n",
      "\n",
      "\n",
      "\n",
      "  4%|▎         | 7/190 [00:11<05:01,  1.65s/it]\u001b[A\u001b[A\u001b[A\u001b[A\u001b[A\u001b[A\u001b[A\u001b[A\n",
      "\n",
      "\n",
      "\n",
      "\n",
      "\n",
      "\n",
      "\n",
      "  4%|▍         | 8/190 [00:13<05:00,  1.65s/it]\u001b[A\u001b[A\u001b[A\u001b[A\u001b[A\u001b[A\u001b[A\u001b[A\n",
      "\n",
      "\n",
      "\n",
      "\n",
      "\n",
      "\n",
      "\n",
      "  5%|▍         | 9/190 [00:14<04:53,  1.62s/it]\u001b[A\u001b[A\u001b[A\u001b[A\u001b[A\u001b[A\u001b[A\u001b[A\n",
      "\n",
      "\n",
      "\n",
      "\n",
      "\n",
      "\n",
      "\n",
      "  5%|▌         | 10/190 [00:16<04:51,  1.62s/it]\u001b[A\u001b[A\u001b[A\u001b[A\u001b[A\u001b[A\u001b[A\u001b[A\n",
      "\n",
      "\n",
      "\n",
      "\n",
      "\n",
      "\n",
      "\n",
      "  6%|▌         | 11/190 [00:18<04:48,  1.61s/it]\u001b[A\u001b[A\u001b[A\u001b[A\u001b[A\u001b[A\u001b[A\u001b[A\n",
      "\n",
      "\n",
      "\n",
      "\n",
      "\n",
      "\n",
      "\n",
      "  6%|▋         | 12/190 [00:19<04:50,  1.63s/it]\u001b[A\u001b[A\u001b[A\u001b[A\u001b[A\u001b[A\u001b[A\u001b[A\n",
      "\n",
      "\n",
      "\n",
      "\n",
      "\n",
      "\n",
      "\n",
      "  7%|▋         | 13/190 [00:21<04:45,  1.61s/it]\u001b[A\u001b[A\u001b[A\u001b[A\u001b[A\u001b[A\u001b[A\u001b[A\n",
      "\n",
      "\n",
      "\n",
      "\n",
      "\n",
      "\n",
      "\n",
      "  7%|▋         | 14/190 [00:23<04:51,  1.66s/it]\u001b[A\u001b[A\u001b[A\u001b[A\u001b[A\u001b[A\u001b[A\u001b[A\n",
      "\n",
      "\n",
      "\n",
      "\n",
      "\n",
      "\n",
      "\n",
      "  8%|▊         | 15/190 [00:24<04:54,  1.69s/it]\u001b[A\u001b[A\u001b[A\u001b[A\u001b[A\u001b[A\u001b[A\u001b[A\n",
      "\n",
      "\n",
      "\n",
      "\n",
      "\n",
      "\n",
      "\n",
      "  8%|▊         | 16/190 [00:26<04:48,  1.66s/it]\u001b[A\u001b[A\u001b[A\u001b[A\u001b[A\u001b[A\u001b[A\u001b[A\n",
      "\n",
      "\n",
      "\n",
      "\n",
      "\n",
      "\n",
      "\n",
      "  9%|▉         | 17/190 [00:27<04:42,  1.64s/it]\u001b[A\u001b[A\u001b[A\u001b[A\u001b[A\u001b[A\u001b[A\u001b[A\n",
      "\n",
      "\n",
      "\n",
      "\n",
      "\n",
      "\n",
      "\n",
      "  9%|▉         | 18/190 [00:29<04:41,  1.64s/it]\u001b[A\u001b[A\u001b[A\u001b[A\u001b[A\u001b[A\u001b[A\u001b[A\n",
      "\n",
      "\n",
      "\n",
      "\n",
      "\n",
      "\n",
      "\n",
      " 10%|█         | 19/190 [00:31<04:42,  1.65s/it]\u001b[A\u001b[A\u001b[A\u001b[A\u001b[A\u001b[A\u001b[A\u001b[A\n",
      "\n",
      "\n",
      "\n",
      "\n",
      "\n",
      "\n",
      "\n",
      " 11%|█         | 20/190 [00:32<04:41,  1.65s/it]\u001b[A\u001b[A\u001b[A\u001b[A\u001b[A\u001b[A\u001b[A\u001b[A\n",
      "\n",
      "\n",
      "\n",
      "\n",
      "\n",
      "\n",
      "\n",
      " 11%|█         | 21/190 [00:34<04:40,  1.66s/it]\u001b[A\u001b[A\u001b[A\u001b[A\u001b[A\u001b[A\u001b[A\u001b[A\n",
      "\n",
      "\n",
      "\n",
      "\n",
      "\n",
      "\n",
      "\n",
      " 12%|█▏        | 22/190 [00:36<04:34,  1.63s/it]\u001b[A\u001b[A\u001b[A\u001b[A\u001b[A\u001b[A\u001b[A\u001b[A\n",
      "\n",
      "\n",
      "\n",
      "\n",
      "\n",
      "\n",
      "\n",
      " 12%|█▏        | 23/190 [00:37<04:32,  1.63s/it]\u001b[A\u001b[A\u001b[A\u001b[A\u001b[A\u001b[A\u001b[A\u001b[A\n",
      "\n",
      "\n",
      "\n",
      "\n",
      "\n",
      "\n",
      "\n",
      " 13%|█▎        | 24/190 [00:39<04:31,  1.63s/it]\u001b[A\u001b[A\u001b[A\u001b[A\u001b[A\u001b[A\u001b[A\u001b[A\n",
      "\n",
      "\n",
      "\n",
      "\n",
      "\n",
      "\n",
      "\n",
      " 13%|█▎        | 25/190 [00:41<04:27,  1.62s/it]\u001b[A\u001b[A\u001b[A\u001b[A\u001b[A\u001b[A\u001b[A\u001b[A\n",
      "\n",
      "\n",
      "\n",
      "\n",
      "\n",
      "\n",
      "\n",
      " 14%|█▎        | 26/190 [00:42<04:25,  1.62s/it]\u001b[A\u001b[A\u001b[A\u001b[A\u001b[A\u001b[A\u001b[A\u001b[A\n",
      "\n",
      "\n",
      "\n",
      "\n",
      "\n",
      "\n",
      "\n",
      " 14%|█▍        | 27/190 [00:44<04:23,  1.61s/it]\u001b[A\u001b[A\u001b[A\u001b[A\u001b[A\u001b[A\u001b[A\u001b[A\n",
      "\n",
      "\n",
      "\n",
      "\n",
      "\n",
      "\n",
      "\n",
      " 15%|█▍        | 28/190 [00:45<04:23,  1.63s/it]\u001b[A\u001b[A\u001b[A\u001b[A\u001b[A\u001b[A\u001b[A\u001b[A\n",
      "\n",
      "\n",
      "\n",
      "\n",
      "\n",
      "\n",
      "\n",
      " 15%|█▌        | 29/190 [00:47<04:23,  1.63s/it]\u001b[A\u001b[A\u001b[A\u001b[A\u001b[A\u001b[A\u001b[A\u001b[A\n",
      "\n",
      "\n",
      "\n",
      "\n",
      "\n",
      "\n",
      "\n",
      " 16%|█▌        | 30/190 [00:49<04:18,  1.62s/it]\u001b[A\u001b[A\u001b[A\u001b[A\u001b[A\u001b[A\u001b[A\u001b[A\n",
      "\n",
      "\n",
      "\n",
      "\n",
      "\n",
      "\n",
      "\n",
      " 16%|█▋        | 31/190 [00:50<04:19,  1.63s/it]\u001b[A\u001b[A\u001b[A\u001b[A\u001b[A\u001b[A\u001b[A\u001b[A\n",
      "\n",
      "\n",
      "\n",
      "\n",
      "\n",
      "\n",
      "\n",
      " 17%|█▋        | 32/190 [00:52<04:13,  1.60s/it]\u001b[A\u001b[A\u001b[A\u001b[A\u001b[A\u001b[A\u001b[A\u001b[A\n",
      "\n",
      "\n",
      "\n",
      "\n",
      "\n",
      "\n",
      "\n",
      " 17%|█▋        | 33/190 [00:54<04:15,  1.63s/it]\u001b[A\u001b[A\u001b[A\u001b[A\u001b[A\u001b[A\u001b[A\u001b[A\n",
      "\n",
      "\n",
      "\n",
      "\n",
      "\n",
      "\n",
      "\n",
      " 18%|█▊        | 34/190 [00:55<04:09,  1.60s/it]\u001b[A\u001b[A\u001b[A\u001b[A\u001b[A\u001b[A\u001b[A\u001b[A\n",
      "\n",
      "\n",
      "\n",
      "\n",
      "\n",
      "\n",
      "\n",
      " 18%|█▊        | 35/190 [00:57<04:07,  1.60s/it]\u001b[A\u001b[A\u001b[A\u001b[A\u001b[A\u001b[A\u001b[A\u001b[A\n",
      "\n",
      "\n",
      "\n",
      "\n",
      "\n",
      "\n",
      "\n",
      " 19%|█▉        | 36/190 [00:58<04:09,  1.62s/it]\u001b[A\u001b[A\u001b[A\u001b[A\u001b[A\u001b[A\u001b[A\u001b[A\n",
      "\n",
      "\n",
      "\n",
      "\n",
      "\n",
      "\n",
      "\n",
      " 19%|█▉        | 37/190 [01:00<04:10,  1.64s/it]\u001b[A\u001b[A\u001b[A\u001b[A\u001b[A\u001b[A\u001b[A\u001b[A\n",
      "\n",
      "\n",
      "\n",
      "\n",
      "\n",
      "\n",
      "\n",
      " 20%|██        | 38/190 [01:02<04:12,  1.66s/it]\u001b[A\u001b[A\u001b[A\u001b[A\u001b[A\u001b[A\u001b[A\u001b[A\n",
      "\n",
      "\n",
      "\n",
      "\n",
      "\n",
      "\n",
      "\n",
      " 21%|██        | 39/190 [01:03<04:07,  1.64s/it]\u001b[A\u001b[A\u001b[A\u001b[A\u001b[A\u001b[A\u001b[A\u001b[A\n",
      "\n",
      "\n",
      "\n",
      "\n",
      "\n",
      "\n",
      "\n",
      " 21%|██        | 40/190 [01:05<04:07,  1.65s/it]\u001b[A\u001b[A\u001b[A\u001b[A\u001b[A\u001b[A\u001b[A\u001b[A\n",
      "\n",
      "\n",
      "\n",
      "\n",
      "\n",
      "\n",
      "\n",
      " 22%|██▏       | 41/190 [01:07<04:05,  1.65s/it]\u001b[A\u001b[A\u001b[A\u001b[A\u001b[A\u001b[A\u001b[A\u001b[A\n",
      "\n",
      "\n",
      "\n",
      "\n",
      "\n",
      "\n",
      "\n",
      " 22%|██▏       | 42/190 [01:08<04:02,  1.64s/it]\u001b[A\u001b[A\u001b[A\u001b[A\u001b[A\u001b[A\u001b[A\u001b[A\n",
      "\n",
      "\n",
      "\n",
      "\n",
      "\n",
      "\n",
      "\n",
      " 23%|██▎       | 43/190 [01:10<04:02,  1.65s/it]\u001b[A\u001b[A\u001b[A\u001b[A\u001b[A\u001b[A\u001b[A\u001b[A\n",
      "\n",
      "\n",
      "\n",
      "\n",
      "\n",
      "\n",
      "\n",
      " 23%|██▎       | 44/190 [01:12<04:02,  1.66s/it]\u001b[A\u001b[A\u001b[A\u001b[A\u001b[A\u001b[A\u001b[A\u001b[A\n",
      "\n",
      "\n",
      "\n",
      "\n",
      "\n",
      "\n",
      "\n",
      " 24%|██▎       | 45/190 [01:13<04:02,  1.67s/it]\u001b[A\u001b[A\u001b[A\u001b[A\u001b[A\u001b[A\u001b[A\u001b[A\n",
      "\n",
      "\n",
      "\n",
      "\n",
      "\n",
      "\n",
      "\n",
      " 24%|██▍       | 46/190 [01:15<04:02,  1.68s/it]\u001b[A\u001b[A\u001b[A\u001b[A\u001b[A\u001b[A\u001b[A\u001b[A\n",
      "\n",
      "\n",
      "\n",
      "\n",
      "\n",
      "\n",
      "\n",
      " 25%|██▍       | 47/190 [01:17<03:59,  1.67s/it]\u001b[A\u001b[A\u001b[A\u001b[A\u001b[A\u001b[A\u001b[A\u001b[A\n",
      "\n",
      "\n",
      "\n",
      "\n",
      "\n",
      "\n",
      "\n",
      " 25%|██▌       | 48/190 [01:18<03:58,  1.68s/it]\u001b[A\u001b[A\u001b[A\u001b[A\u001b[A\u001b[A\u001b[A\u001b[A\n",
      "\n",
      "\n",
      "\n",
      "\n",
      "\n",
      "\n",
      "\n",
      " 26%|██▌       | 49/190 [01:20<03:55,  1.67s/it]\u001b[A\u001b[A\u001b[A\u001b[A\u001b[A\u001b[A\u001b[A\u001b[A\n",
      "\n",
      "\n",
      "\n",
      "\n",
      "\n",
      "\n",
      "\n",
      " 26%|██▋       | 50/190 [01:22<03:54,  1.67s/it]\u001b[A\u001b[A\u001b[A\u001b[A\u001b[A\u001b[A\u001b[A\u001b[A\n",
      "\n",
      "\n",
      "\n",
      "\n",
      "\n",
      "\n",
      "\n",
      " 27%|██▋       | 51/190 [01:23<03:49,  1.65s/it]\u001b[A\u001b[A\u001b[A\u001b[A\u001b[A\u001b[A\u001b[A\u001b[A\n",
      "\n",
      "\n",
      "\n",
      "\n",
      "\n",
      "\n",
      "\n",
      " 27%|██▋       | 52/190 [01:25<03:45,  1.63s/it]\u001b[A\u001b[A\u001b[A\u001b[A\u001b[A\u001b[A\u001b[A\u001b[A\n",
      "\n",
      "\n",
      "\n",
      "\n",
      "\n",
      "\n",
      "\n",
      " 28%|██▊       | 53/190 [01:27<03:45,  1.65s/it]\u001b[A\u001b[A\u001b[A\u001b[A\u001b[A\u001b[A\u001b[A\u001b[A\n",
      "\n",
      "\n",
      "\n",
      "\n",
      "\n",
      "\n",
      "\n",
      " 28%|██▊       | 54/190 [01:28<03:45,  1.66s/it]\u001b[A\u001b[A\u001b[A\u001b[A\u001b[A\u001b[A\u001b[A\u001b[A\n",
      "\n",
      "\n",
      "\n",
      "\n",
      "\n",
      "\n",
      "\n",
      " 29%|██▉       | 55/190 [01:30<03:43,  1.66s/it]\u001b[A\u001b[A\u001b[A\u001b[A\u001b[A\u001b[A\u001b[A\u001b[A\n",
      "\n",
      "\n",
      "\n",
      "\n",
      "\n",
      "\n",
      "\n",
      " 29%|██▉       | 56/190 [01:32<03:41,  1.65s/it]\u001b[A\u001b[A\u001b[A\u001b[A\u001b[A\u001b[A\u001b[A\u001b[A\n",
      "\n",
      "\n",
      "\n",
      "\n",
      "\n",
      "\n",
      "\n",
      " 30%|███       | 57/190 [01:33<03:39,  1.65s/it]\u001b[A\u001b[A\u001b[A\u001b[A\u001b[A\u001b[A\u001b[A\u001b[A\n",
      "\n",
      "\n",
      "\n",
      "\n",
      "\n",
      "\n",
      "\n",
      " 31%|███       | 58/190 [01:35<03:37,  1.65s/it]\u001b[A\u001b[A\u001b[A\u001b[A\u001b[A\u001b[A\u001b[A\u001b[A\n",
      "\n",
      "\n",
      "\n",
      "\n",
      "\n",
      "\n",
      "\n",
      " 31%|███       | 59/190 [01:37<03:38,  1.67s/it]\u001b[A\u001b[A\u001b[A\u001b[A\u001b[A\u001b[A\u001b[A\u001b[A\n",
      "\n",
      "\n",
      "\n",
      "\n",
      "\n",
      "\n",
      "\n",
      " 32%|███▏      | 60/190 [01:38<03:33,  1.65s/it]\u001b[A\u001b[A\u001b[A\u001b[A\u001b[A\u001b[A\u001b[A\u001b[A\n",
      "\n",
      "\n",
      "\n",
      "\n",
      "\n",
      "\n",
      "\n",
      " 32%|███▏      | 61/190 [01:40<03:31,  1.64s/it]\u001b[A\u001b[A\u001b[A\u001b[A\u001b[A\u001b[A\u001b[A\u001b[A\n",
      "\n",
      "\n",
      "\n",
      "\n",
      "\n",
      "\n",
      "\n",
      " 33%|███▎      | 62/190 [01:41<03:28,  1.63s/it]\u001b[A\u001b[A\u001b[A\u001b[A\u001b[A\u001b[A\u001b[A\u001b[A\n",
      "\n",
      "\n",
      "\n",
      "\n",
      "\n",
      "\n",
      "\n",
      " 33%|███▎      | 63/190 [01:43<03:26,  1.63s/it]\u001b[A\u001b[A\u001b[A\u001b[A\u001b[A\u001b[A\u001b[A\u001b[A\n",
      "\n",
      "\n",
      "\n",
      "\n",
      "\n",
      "\n",
      "\n",
      " 34%|███▎      | 64/190 [01:45<03:30,  1.67s/it]\u001b[A\u001b[A\u001b[A\u001b[A\u001b[A\u001b[A\u001b[A\u001b[A\n",
      "\n",
      "\n",
      "\n",
      "\n",
      "\n",
      "\n",
      "\n",
      " 34%|███▍      | 65/190 [01:46<03:27,  1.66s/it]\u001b[A\u001b[A\u001b[A\u001b[A\u001b[A\u001b[A\u001b[A\u001b[A\n",
      "\n",
      "\n",
      "\n",
      "\n",
      "\n",
      "\n",
      "\n",
      " 35%|███▍      | 66/190 [01:48<03:22,  1.63s/it]\u001b[A\u001b[A\u001b[A\u001b[A\u001b[A\u001b[A\u001b[A\u001b[A\n",
      "\n",
      "\n",
      "\n",
      "\n",
      "\n",
      "\n",
      "\n",
      " 35%|███▌      | 67/190 [01:50<03:18,  1.61s/it]\u001b[A\u001b[A\u001b[A\u001b[A\u001b[A\u001b[A\u001b[A\u001b[A\n",
      "\n",
      "\n",
      "\n",
      "\n",
      "\n",
      "\n",
      "\n",
      " 36%|███▌      | 68/190 [01:51<03:14,  1.60s/it]\u001b[A\u001b[A\u001b[A\u001b[A\u001b[A\u001b[A\u001b[A\u001b[A\n",
      "\n",
      "\n",
      "\n",
      "\n",
      "\n",
      "\n",
      "\n",
      " 36%|███▋      | 69/190 [01:53<03:12,  1.59s/it]\u001b[A\u001b[A\u001b[A\u001b[A\u001b[A\u001b[A\u001b[A\u001b[A\n",
      "\n",
      "\n",
      "\n",
      "\n",
      "\n",
      "\n",
      "\n",
      " 37%|███▋      | 70/190 [01:54<03:10,  1.59s/it]\u001b[A\u001b[A\u001b[A\u001b[A\u001b[A\u001b[A\u001b[A\u001b[A\n",
      "\n",
      "\n",
      "\n",
      "\n",
      "\n",
      "\n",
      "\n",
      " 37%|███▋      | 71/190 [01:56<03:11,  1.61s/it]\u001b[A\u001b[A\u001b[A\u001b[A\u001b[A\u001b[A\u001b[A\u001b[A\n",
      "\n",
      "\n",
      "\n",
      "\n",
      "\n",
      "\n",
      "\n",
      " 38%|███▊      | 72/190 [01:57<03:08,  1.60s/it]\u001b[A\u001b[A\u001b[A\u001b[A\u001b[A\u001b[A\u001b[A\u001b[A\n",
      "\n",
      "\n",
      "\n",
      "\n",
      "\n",
      "\n",
      "\n",
      " 38%|███▊      | 73/190 [01:59<03:06,  1.59s/it]\u001b[A\u001b[A\u001b[A\u001b[A\u001b[A\u001b[A\u001b[A\u001b[A\n",
      "\n",
      "\n",
      "\n",
      "\n",
      "\n",
      "\n",
      "\n",
      " 39%|███▉      | 74/190 [02:01<03:06,  1.60s/it]\u001b[A\u001b[A\u001b[A\u001b[A\u001b[A\u001b[A\u001b[A\u001b[A\n",
      "\n",
      "\n",
      "\n",
      "\n",
      "\n",
      "\n",
      "\n",
      " 39%|███▉      | 75/190 [02:02<03:06,  1.62s/it]\u001b[A\u001b[A\u001b[A\u001b[A\u001b[A\u001b[A\u001b[A\u001b[A\n",
      "\n",
      "\n",
      "\n",
      "\n",
      "\n",
      "\n",
      "\n",
      " 40%|████      | 76/190 [02:04<03:05,  1.62s/it]\u001b[A\u001b[A\u001b[A\u001b[A\u001b[A\u001b[A\u001b[A\u001b[A\n",
      "\n",
      "\n",
      "\n",
      "\n",
      "\n",
      "\n",
      "\n",
      " 41%|████      | 77/190 [02:06<03:06,  1.65s/it]\u001b[A\u001b[A\u001b[A\u001b[A\u001b[A\u001b[A\u001b[A\u001b[A\n",
      "\n",
      "\n",
      "\n",
      "\n",
      "\n",
      "\n",
      "\n",
      " 41%|████      | 78/190 [02:07<03:06,  1.66s/it]\u001b[A\u001b[A\u001b[A\u001b[A\u001b[A\u001b[A\u001b[A\u001b[A\n",
      "\n",
      "\n",
      "\n",
      "\n",
      "\n",
      "\n",
      "\n",
      " 42%|████▏     | 79/190 [02:09<03:07,  1.69s/it]\u001b[A\u001b[A\u001b[A\u001b[A\u001b[A\u001b[A\u001b[A\u001b[A\n",
      "\n",
      "\n",
      "\n",
      "\n",
      "\n",
      "\n",
      "\n",
      " 42%|████▏     | 80/190 [02:11<03:08,  1.71s/it]\u001b[A\u001b[A\u001b[A\u001b[A\u001b[A\u001b[A\u001b[A\u001b[A\n",
      "\n",
      "\n",
      "\n",
      "\n",
      "\n",
      "\n",
      "\n",
      " 43%|████▎     | 81/190 [02:13<03:04,  1.69s/it]\u001b[A\u001b[A\u001b[A\u001b[A\u001b[A\u001b[A\u001b[A\u001b[A\n",
      "\n",
      "\n",
      "\n",
      "\n",
      "\n",
      "\n",
      "\n",
      " 43%|████▎     | 82/190 [02:14<03:01,  1.68s/it]\u001b[A\u001b[A\u001b[A\u001b[A\u001b[A\u001b[A\u001b[A\u001b[A\n",
      "\n",
      "\n",
      "\n",
      "\n",
      "\n",
      "\n",
      "\n",
      " 44%|████▎     | 83/190 [02:16<02:56,  1.65s/it]\u001b[A\u001b[A\u001b[A\u001b[A\u001b[A\u001b[A\u001b[A\u001b[A\n",
      "\n",
      "\n",
      "\n",
      "\n",
      "\n",
      "\n",
      "\n",
      " 44%|████▍     | 84/190 [02:18<02:58,  1.68s/it]\u001b[A\u001b[A\u001b[A\u001b[A\u001b[A\u001b[A\u001b[A\u001b[A\n",
      "\n",
      "\n",
      "\n",
      "\n",
      "\n",
      "\n",
      "\n",
      " 45%|████▍     | 85/190 [02:19<02:57,  1.69s/it]\u001b[A\u001b[A\u001b[A\u001b[A\u001b[A\u001b[A\u001b[A\u001b[A\n",
      "\n",
      "\n",
      "\n",
      "\n",
      "\n",
      "\n",
      "\n",
      " 45%|████▌     | 86/190 [02:21<02:54,  1.67s/it]\u001b[A\u001b[A\u001b[A\u001b[A\u001b[A\u001b[A\u001b[A\u001b[A\n",
      "\n",
      "\n",
      "\n",
      "\n",
      "\n",
      "\n",
      "\n",
      " 46%|████▌     | 87/190 [02:23<02:52,  1.67s/it]\u001b[A\u001b[A\u001b[A\u001b[A\u001b[A\u001b[A\u001b[A\u001b[A\n",
      "\n",
      "\n",
      "\n",
      "\n",
      "\n",
      "\n",
      "\n",
      " 46%|████▋     | 88/190 [02:24<02:50,  1.67s/it]\u001b[A\u001b[A\u001b[A\u001b[A\u001b[A\u001b[A\u001b[A\u001b[A\n",
      "\n",
      "\n",
      "\n",
      "\n",
      "\n",
      "\n",
      "\n",
      " 47%|████▋     | 89/190 [02:26<02:46,  1.65s/it]\u001b[A\u001b[A\u001b[A\u001b[A\u001b[A\u001b[A\u001b[A\u001b[A\n",
      "\n",
      "\n",
      "\n",
      "\n",
      "\n",
      "\n",
      "\n",
      " 47%|████▋     | 90/190 [02:27<02:45,  1.65s/it]\u001b[A\u001b[A\u001b[A\u001b[A\u001b[A\u001b[A\u001b[A\u001b[A\n",
      "\n",
      "\n",
      "\n",
      "\n",
      "\n",
      "\n",
      "\n",
      " 48%|████▊     | 91/190 [02:29<02:42,  1.65s/it]\u001b[A\u001b[A\u001b[A\u001b[A\u001b[A\u001b[A\u001b[A\u001b[A\n",
      "\n",
      "\n",
      "\n",
      "\n",
      "\n",
      "\n",
      "\n",
      " 48%|████▊     | 92/190 [02:31<02:39,  1.63s/it]\u001b[A\u001b[A\u001b[A\u001b[A\u001b[A\u001b[A\u001b[A\u001b[A\n",
      "\n",
      "\n",
      "\n",
      "\n",
      "\n",
      "\n",
      "\n",
      " 49%|████▉     | 93/190 [02:32<02:36,  1.61s/it]\u001b[A\u001b[A\u001b[A\u001b[A\u001b[A\u001b[A\u001b[A\u001b[A\n",
      "\n",
      "\n",
      "\n",
      "\n",
      "\n",
      "\n",
      "\n",
      " 49%|████▉     | 94/190 [02:34<02:34,  1.61s/it]\u001b[A\u001b[A\u001b[A\u001b[A\u001b[A\u001b[A\u001b[A\u001b[A\n",
      "\n",
      "\n",
      "\n",
      "\n",
      "\n",
      "\n",
      "\n",
      " 50%|█████     | 95/190 [02:35<02:33,  1.62s/it]\u001b[A\u001b[A\u001b[A\u001b[A\u001b[A\u001b[A\u001b[A\u001b[A\n",
      "\n",
      "\n",
      "\n",
      "\n",
      "\n",
      "\n",
      "\n",
      " 51%|█████     | 96/190 [02:37<02:30,  1.60s/it]\u001b[A\u001b[A\u001b[A\u001b[A\u001b[A\u001b[A\u001b[A\u001b[A\n",
      "\n",
      "\n",
      "\n",
      "\n",
      "\n",
      "\n",
      "\n",
      " 51%|█████     | 97/190 [02:39<02:28,  1.60s/it]\u001b[A\u001b[A\u001b[A\u001b[A\u001b[A\u001b[A\u001b[A\u001b[A\n",
      "\n",
      "\n",
      "\n",
      "\n",
      "\n",
      "\n",
      "\n",
      " 52%|█████▏    | 98/190 [02:40<02:28,  1.61s/it]\u001b[A\u001b[A\u001b[A\u001b[A\u001b[A\u001b[A\u001b[A\u001b[A\n",
      "\n",
      "\n",
      "\n",
      "\n",
      "\n",
      "\n",
      "\n",
      " 52%|█████▏    | 99/190 [02:42<02:27,  1.62s/it]\u001b[A\u001b[A\u001b[A\u001b[A\u001b[A\u001b[A\u001b[A\u001b[A\n",
      "\n",
      "\n",
      "\n",
      "\n",
      "\n",
      "\n",
      "\n",
      " 53%|█████▎    | 100/190 [02:44<02:28,  1.65s/it]\u001b[A\u001b[A\u001b[A\u001b[A\u001b[A\u001b[A\u001b[A\u001b[A\n",
      "\n",
      "\n",
      "\n",
      "\n",
      "\n",
      "\n",
      "\n",
      " 53%|█████▎    | 101/190 [02:45<02:27,  1.65s/it]\u001b[A\u001b[A\u001b[A\u001b[A\u001b[A\u001b[A\u001b[A\u001b[A\n",
      "\n",
      "\n",
      "\n",
      "\n",
      "\n",
      "\n",
      "\n",
      " 54%|█████▎    | 102/190 [02:47<02:22,  1.62s/it]\u001b[A\u001b[A\u001b[A\u001b[A\u001b[A\u001b[A\u001b[A\u001b[A\n",
      "\n",
      "\n",
      "\n",
      "\n",
      "\n",
      "\n",
      "\n",
      " 54%|█████▍    | 103/190 [02:49<02:22,  1.63s/it]\u001b[A\u001b[A\u001b[A\u001b[A\u001b[A\u001b[A\u001b[A\u001b[A\n",
      "\n",
      "\n",
      "\n",
      "\n",
      "\n",
      "\n",
      "\n",
      " 55%|█████▍    | 104/190 [02:50<02:20,  1.64s/it]\u001b[A\u001b[A\u001b[A\u001b[A\u001b[A\u001b[A\u001b[A\u001b[A\n",
      "\n",
      "\n",
      "\n",
      "\n",
      "\n",
      "\n",
      "\n",
      " 55%|█████▌    | 105/190 [02:52<02:19,  1.64s/it]\u001b[A\u001b[A\u001b[A\u001b[A\u001b[A\u001b[A\u001b[A\u001b[A\n",
      "\n",
      "\n",
      "\n",
      "\n",
      "\n",
      "\n",
      "\n",
      " 56%|█████▌    | 106/190 [02:53<02:15,  1.61s/it]\u001b[A\u001b[A\u001b[A\u001b[A\u001b[A\u001b[A\u001b[A\u001b[A\n",
      "\n",
      "\n",
      "\n",
      "\n",
      "\n",
      "\n",
      "\n",
      " 56%|█████▋    | 107/190 [02:55<02:12,  1.59s/it]\u001b[A\u001b[A\u001b[A\u001b[A\u001b[A\u001b[A\u001b[A\u001b[A\n",
      "\n",
      "\n",
      "\n",
      "\n",
      "\n",
      "\n",
      "\n",
      " 57%|█████▋    | 108/190 [02:57<02:11,  1.61s/it]\u001b[A\u001b[A\u001b[A\u001b[A\u001b[A\u001b[A\u001b[A\u001b[A\n",
      "\n",
      "\n",
      "\n",
      "\n",
      "\n",
      "\n",
      "\n",
      " 57%|█████▋    | 109/190 [02:58<02:11,  1.63s/it]\u001b[A\u001b[A\u001b[A\u001b[A\u001b[A\u001b[A\u001b[A\u001b[A\n",
      "\n",
      "\n",
      "\n",
      "\n",
      "\n",
      "\n",
      "\n",
      " 58%|█████▊    | 110/190 [03:00<02:09,  1.62s/it]\u001b[A\u001b[A\u001b[A\u001b[A\u001b[A\u001b[A\u001b[A\u001b[A\n",
      "\n",
      "\n",
      "\n",
      "\n",
      "\n",
      "\n",
      "\n",
      " 58%|█████▊    | 111/190 [03:02<02:16,  1.72s/it]\u001b[A\u001b[A\u001b[A\u001b[A\u001b[A\u001b[A\u001b[A\u001b[A\n",
      "\n",
      "\n",
      "\n",
      "\n",
      "\n",
      "\n",
      "\n",
      " 59%|█████▉    | 112/190 [03:03<02:14,  1.72s/it]\u001b[A\u001b[A\u001b[A\u001b[A\u001b[A\u001b[A\u001b[A\u001b[A\n",
      "\n",
      "\n",
      "\n",
      "\n",
      "\n",
      "\n",
      "\n",
      " 59%|█████▉    | 113/190 [03:05<02:13,  1.73s/it]\u001b[A\u001b[A\u001b[A\u001b[A\u001b[A\u001b[A\u001b[A\u001b[A\n",
      "\n",
      "\n",
      "\n",
      "\n",
      "\n",
      "\n",
      "\n",
      " 60%|██████    | 114/190 [03:07<02:11,  1.72s/it]\u001b[A\u001b[A\u001b[A\u001b[A\u001b[A\u001b[A\u001b[A\u001b[A\n",
      "\n",
      "\n",
      "\n",
      "\n",
      "\n",
      "\n",
      "\n",
      " 61%|██████    | 115/190 [03:09<02:11,  1.75s/it]\u001b[A\u001b[A\u001b[A\u001b[A\u001b[A\u001b[A\u001b[A\u001b[A\n",
      "\n",
      "\n",
      "\n",
      "\n",
      "\n",
      "\n",
      "\n",
      " 61%|██████    | 116/190 [03:10<02:08,  1.73s/it]\u001b[A\u001b[A\u001b[A\u001b[A\u001b[A\u001b[A\u001b[A\u001b[A\n",
      "\n",
      "\n",
      "\n",
      "\n",
      "\n",
      "\n",
      "\n",
      " 62%|██████▏   | 117/190 [03:12<02:05,  1.71s/it]\u001b[A\u001b[A\u001b[A\u001b[A\u001b[A\u001b[A\u001b[A\u001b[A\n",
      "\n",
      "\n",
      "\n",
      "\n",
      "\n",
      "\n",
      "\n",
      " 62%|██████▏   | 118/190 [03:14<02:06,  1.76s/it]\u001b[A\u001b[A\u001b[A\u001b[A\u001b[A\u001b[A\u001b[A\u001b[A\n",
      "\n",
      "\n",
      "\n",
      "\n",
      "\n",
      "\n",
      "\n",
      " 63%|██████▎   | 119/190 [03:16<02:04,  1.75s/it]\u001b[A\u001b[A\u001b[A\u001b[A\u001b[A\u001b[A\u001b[A\u001b[A\n",
      "\n",
      "\n",
      "\n",
      "\n",
      "\n",
      "\n",
      "\n",
      " 63%|██████▎   | 120/190 [03:17<02:00,  1.72s/it]\u001b[A\u001b[A\u001b[A\u001b[A\u001b[A\u001b[A\u001b[A\u001b[A\n",
      "\n",
      "\n",
      "\n",
      "\n",
      "\n",
      "\n",
      "\n",
      " 64%|██████▎   | 121/190 [03:19<01:59,  1.73s/it]\u001b[A\u001b[A\u001b[A\u001b[A\u001b[A\u001b[A\u001b[A\u001b[A\n",
      "\n",
      "\n",
      "\n",
      "\n",
      "\n",
      "\n",
      "\n",
      " 64%|██████▍   | 122/190 [03:21<01:59,  1.76s/it]\u001b[A\u001b[A\u001b[A\u001b[A\u001b[A\u001b[A\u001b[A\u001b[A\n",
      "\n",
      "\n",
      "\n",
      "\n",
      "\n",
      "\n",
      "\n",
      " 65%|██████▍   | 123/190 [03:23<01:57,  1.75s/it]\u001b[A\u001b[A\u001b[A\u001b[A\u001b[A\u001b[A\u001b[A\u001b[A\n",
      "\n",
      "\n",
      "\n",
      "\n",
      "\n",
      "\n",
      "\n",
      " 65%|██████▌   | 124/190 [03:25<01:57,  1.78s/it]\u001b[A\u001b[A\u001b[A\u001b[A\u001b[A\u001b[A\u001b[A\u001b[A\n",
      "\n",
      "\n",
      "\n",
      "\n",
      "\n",
      "\n",
      "\n",
      " 66%|██████▌   | 125/190 [03:26<01:55,  1.77s/it]\u001b[A\u001b[A\u001b[A\u001b[A\u001b[A\u001b[A\u001b[A\u001b[A\n",
      "\n",
      "\n",
      "\n",
      "\n",
      "\n",
      "\n",
      "\n",
      " 66%|██████▋   | 126/190 [03:28<01:55,  1.80s/it]\u001b[A\u001b[A\u001b[A\u001b[A\u001b[A\u001b[A\u001b[A\u001b[A\n",
      "\n",
      "\n",
      "\n",
      "\n",
      "\n",
      "\n",
      "\n",
      " 67%|██████▋   | 127/190 [03:30<01:51,  1.77s/it]\u001b[A\u001b[A\u001b[A\u001b[A\u001b[A\u001b[A\u001b[A\u001b[A\n",
      "\n",
      "\n",
      "\n",
      "\n",
      "\n",
      "\n",
      "\n",
      " 67%|██████▋   | 128/190 [03:32<01:50,  1.78s/it]\u001b[A\u001b[A\u001b[A\u001b[A\u001b[A\u001b[A\u001b[A\u001b[A\n",
      "\n",
      "\n",
      "\n",
      "\n",
      "\n",
      "\n",
      "\n",
      " 68%|██████▊   | 129/190 [03:34<01:51,  1.83s/it]\u001b[A\u001b[A\u001b[A\u001b[A\u001b[A\u001b[A\u001b[A\u001b[A\n",
      "\n",
      "\n",
      "\n",
      "\n",
      "\n",
      "\n",
      "\n",
      " 68%|██████▊   | 130/190 [03:35<01:47,  1.79s/it]\u001b[A\u001b[A\u001b[A\u001b[A\u001b[A\u001b[A\u001b[A\u001b[A\n",
      "\n",
      "\n",
      "\n",
      "\n",
      "\n",
      "\n",
      "\n",
      " 69%|██████▉   | 131/190 [03:37<01:46,  1.81s/it]\u001b[A\u001b[A\u001b[A\u001b[A\u001b[A\u001b[A\u001b[A\u001b[A\n",
      "\n",
      "\n",
      "\n",
      "\n",
      "\n",
      "\n",
      "\n",
      " 69%|██████▉   | 132/190 [03:39<01:44,  1.81s/it]\u001b[A\u001b[A\u001b[A\u001b[A\u001b[A\u001b[A\u001b[A\u001b[A\n",
      "\n",
      "\n",
      "\n",
      "\n",
      "\n",
      "\n",
      "\n",
      " 70%|███████   | 133/190 [03:41<01:40,  1.76s/it]\u001b[A\u001b[A\u001b[A\u001b[A\u001b[A\u001b[A\u001b[A\u001b[A\n",
      "\n",
      "\n",
      "\n",
      "\n",
      "\n",
      "\n",
      "\n",
      " 71%|███████   | 134/190 [03:42<01:35,  1.70s/it]\u001b[A\u001b[A\u001b[A\u001b[A\u001b[A\u001b[A\u001b[A\u001b[A\n",
      "\n",
      "\n",
      "\n",
      "\n",
      "\n",
      "\n",
      "\n",
      " 71%|███████   | 135/190 [03:44<01:32,  1.68s/it]\u001b[A\u001b[A\u001b[A\u001b[A\u001b[A\u001b[A\u001b[A\u001b[A\n",
      "\n",
      "\n",
      "\n",
      "\n",
      "\n",
      "\n",
      "\n",
      " 72%|███████▏  | 136/190 [03:45<01:28,  1.65s/it]\u001b[A\u001b[A\u001b[A\u001b[A\u001b[A\u001b[A\u001b[A\u001b[A\n",
      "\n",
      "\n",
      "\n",
      "\n",
      "\n",
      "\n",
      "\n",
      " 72%|███████▏  | 137/190 [03:47<01:24,  1.60s/it]\u001b[A\u001b[A\u001b[A\u001b[A\u001b[A\u001b[A\u001b[A\u001b[A\n",
      "\n",
      "\n",
      "\n",
      "\n",
      "\n",
      "\n",
      "\n",
      " 73%|███████▎  | 138/190 [03:49<01:27,  1.67s/it]\u001b[A\u001b[A\u001b[A\u001b[A\u001b[A\u001b[A\u001b[A\u001b[A\n",
      "\n",
      "\n",
      "\n",
      "\n",
      "\n",
      "\n",
      "\n",
      " 73%|███████▎  | 139/190 [03:50<01:25,  1.67s/it]\u001b[A\u001b[A\u001b[A\u001b[A\u001b[A\u001b[A\u001b[A\u001b[A\n",
      "\n",
      "\n",
      "\n",
      "\n",
      "\n",
      "\n",
      "\n",
      " 74%|███████▎  | 140/190 [03:52<01:23,  1.68s/it]\u001b[A\u001b[A\u001b[A\u001b[A\u001b[A\u001b[A\u001b[A\u001b[A\n",
      "\n",
      "\n",
      "\n",
      "\n",
      "\n",
      "\n",
      "\n",
      " 74%|███████▍  | 141/190 [03:54<01:21,  1.66s/it]\u001b[A\u001b[A\u001b[A\u001b[A\u001b[A\u001b[A\u001b[A\u001b[A\n",
      "\n",
      "\n",
      "\n",
      "\n",
      "\n",
      "\n",
      "\n",
      " 75%|███████▍  | 142/190 [03:55<01:18,  1.64s/it]\u001b[A\u001b[A\u001b[A\u001b[A\u001b[A\u001b[A\u001b[A\u001b[A\n",
      "\n",
      "\n",
      "\n",
      "\n",
      "\n",
      "\n",
      "\n",
      " 75%|███████▌  | 143/190 [03:57<01:16,  1.63s/it]\u001b[A\u001b[A\u001b[A\u001b[A\u001b[A\u001b[A\u001b[A\u001b[A\n",
      "\n",
      "\n",
      "\n",
      "\n",
      "\n",
      "\n",
      "\n",
      " 76%|███████▌  | 144/190 [03:58<01:14,  1.61s/it]\u001b[A\u001b[A\u001b[A\u001b[A\u001b[A\u001b[A\u001b[A\u001b[A\n",
      "\n",
      "\n",
      "\n",
      "\n",
      "\n",
      "\n",
      "\n",
      " 76%|███████▋  | 145/190 [04:00<01:14,  1.65s/it]\u001b[A\u001b[A\u001b[A\u001b[A\u001b[A\u001b[A\u001b[A\u001b[A\n",
      "\n",
      "\n",
      "\n",
      "\n",
      "\n",
      "\n",
      "\n",
      " 77%|███████▋  | 146/190 [04:02<01:11,  1.63s/it]\u001b[A\u001b[A\u001b[A\u001b[A\u001b[A\u001b[A\u001b[A\u001b[A\n",
      "\n",
      "\n",
      "\n",
      "\n",
      "\n",
      "\n",
      "\n",
      " 77%|███████▋  | 147/190 [04:03<01:10,  1.63s/it]\u001b[A\u001b[A\u001b[A\u001b[A\u001b[A\u001b[A\u001b[A\u001b[A\n",
      "\n",
      "\n",
      "\n",
      "\n",
      "\n",
      "\n",
      "\n",
      " 78%|███████▊  | 148/190 [04:05<01:08,  1.62s/it]\u001b[A\u001b[A\u001b[A\u001b[A\u001b[A\u001b[A\u001b[A\u001b[A\n",
      "\n",
      "\n",
      "\n",
      "\n",
      "\n",
      "\n",
      "\n",
      " 78%|███████▊  | 149/190 [04:07<01:06,  1.62s/it]\u001b[A\u001b[A\u001b[A\u001b[A\u001b[A\u001b[A\u001b[A\u001b[A\n",
      "\n",
      "\n",
      "\n",
      "\n",
      "\n",
      "\n",
      "\n",
      " 79%|███████▉  | 150/190 [04:08<01:04,  1.62s/it]\u001b[A\u001b[A\u001b[A\u001b[A\u001b[A\u001b[A\u001b[A\u001b[A\n",
      "\n",
      "\n",
      "\n",
      "\n",
      "\n",
      "\n",
      "\n",
      " 79%|███████▉  | 151/190 [04:10<01:03,  1.63s/it]\u001b[A\u001b[A\u001b[A\u001b[A\u001b[A\u001b[A\u001b[A\u001b[A\n",
      "\n",
      "\n",
      "\n",
      "\n",
      "\n",
      "\n",
      "\n",
      " 80%|████████  | 152/190 [04:12<01:02,  1.65s/it]\u001b[A\u001b[A\u001b[A\u001b[A\u001b[A\u001b[A\u001b[A\u001b[A\n",
      "\n",
      "\n",
      "\n",
      "\n",
      "\n",
      "\n",
      "\n",
      " 81%|████████  | 153/190 [04:13<01:00,  1.63s/it]\u001b[A\u001b[A\u001b[A\u001b[A\u001b[A\u001b[A\u001b[A\u001b[A\n",
      "\n",
      "\n",
      "\n",
      "\n",
      "\n",
      "\n",
      "\n",
      " 81%|████████  | 154/190 [04:15<00:58,  1.63s/it]\u001b[A\u001b[A\u001b[A\u001b[A\u001b[A\u001b[A\u001b[A\u001b[A\n",
      "\n",
      "\n",
      "\n",
      "\n",
      "\n",
      "\n",
      "\n",
      " 82%|████████▏ | 155/190 [04:16<00:57,  1.65s/it]\u001b[A\u001b[A\u001b[A\u001b[A\u001b[A\u001b[A\u001b[A\u001b[A\n",
      "\n",
      "\n",
      "\n",
      "\n",
      "\n",
      "\n",
      "\n",
      " 82%|████████▏ | 156/190 [04:18<00:55,  1.64s/it]\u001b[A\u001b[A\u001b[A\u001b[A\u001b[A\u001b[A\u001b[A\u001b[A\n",
      "\n",
      "\n",
      "\n",
      "\n",
      "\n",
      "\n",
      "\n",
      " 83%|████████▎ | 157/190 [04:20<00:53,  1.62s/it]\u001b[A\u001b[A\u001b[A\u001b[A\u001b[A\u001b[A\u001b[A\u001b[A\n",
      "\n",
      "\n",
      "\n",
      "\n",
      "\n",
      "\n",
      "\n",
      " 83%|████████▎ | 158/190 [04:21<00:52,  1.63s/it]\u001b[A\u001b[A\u001b[A\u001b[A\u001b[A\u001b[A\u001b[A\u001b[A\n",
      "\n",
      "\n",
      "\n",
      "\n",
      "\n",
      "\n",
      "\n",
      " 84%|████████▎ | 159/190 [04:23<00:50,  1.63s/it]\u001b[A\u001b[A\u001b[A\u001b[A\u001b[A\u001b[A\u001b[A\u001b[A\n",
      "\n",
      "\n",
      "\n",
      "\n",
      "\n",
      "\n",
      "\n",
      " 84%|████████▍ | 160/190 [04:25<00:49,  1.64s/it]\u001b[A\u001b[A\u001b[A\u001b[A\u001b[A\u001b[A\u001b[A\u001b[A\n",
      "\n",
      "\n",
      "\n",
      "\n",
      "\n",
      "\n",
      "\n",
      " 85%|████████▍ | 161/190 [04:26<00:47,  1.64s/it]\u001b[A\u001b[A\u001b[A\u001b[A\u001b[A\u001b[A\u001b[A\u001b[A\n",
      "\n",
      "\n",
      "\n",
      "\n",
      "\n",
      "\n",
      "\n",
      " 85%|████████▌ | 162/190 [04:28<00:44,  1.61s/it]\u001b[A\u001b[A\u001b[A\u001b[A\u001b[A\u001b[A\u001b[A\u001b[A\n",
      "\n",
      "\n",
      "\n",
      "\n",
      "\n",
      "\n",
      "\n",
      " 86%|████████▌ | 163/190 [04:29<00:44,  1.63s/it]\u001b[A\u001b[A\u001b[A\u001b[A\u001b[A\u001b[A\u001b[A\u001b[A\n",
      "\n",
      "\n",
      "\n",
      "\n",
      "\n",
      "\n",
      "\n",
      " 86%|████████▋ | 164/190 [04:31<00:42,  1.64s/it]\u001b[A\u001b[A\u001b[A\u001b[A\u001b[A\u001b[A\u001b[A\u001b[A\n",
      "\n",
      "\n",
      "\n",
      "\n",
      "\n",
      "\n",
      "\n",
      " 87%|████████▋ | 165/190 [04:33<00:40,  1.62s/it]\u001b[A\u001b[A\u001b[A\u001b[A\u001b[A\u001b[A\u001b[A\u001b[A\n",
      "\n",
      "\n",
      "\n",
      "\n",
      "\n",
      "\n",
      "\n",
      " 87%|████████▋ | 166/190 [04:34<00:38,  1.62s/it]\u001b[A\u001b[A\u001b[A\u001b[A\u001b[A\u001b[A\u001b[A\u001b[A\n",
      "\n",
      "\n",
      "\n",
      "\n",
      "\n",
      "\n",
      "\n",
      " 88%|████████▊ | 167/190 [04:36<00:37,  1.63s/it]\u001b[A\u001b[A\u001b[A\u001b[A\u001b[A\u001b[A\u001b[A\u001b[A\n",
      "\n",
      "\n",
      "\n",
      "\n",
      "\n",
      "\n",
      "\n",
      " 88%|████████▊ | 168/190 [04:38<00:35,  1.62s/it]\u001b[A\u001b[A\u001b[A\u001b[A\u001b[A\u001b[A\u001b[A\u001b[A\n",
      "\n",
      "\n",
      "\n",
      "\n",
      "\n",
      "\n",
      "\n",
      " 89%|████████▉ | 169/190 [04:39<00:33,  1.60s/it]\u001b[A\u001b[A\u001b[A\u001b[A\u001b[A\u001b[A\u001b[A\u001b[A\n",
      "\n",
      "\n",
      "\n",
      "\n",
      "\n",
      "\n",
      "\n",
      " 89%|████████▉ | 170/190 [04:41<00:31,  1.59s/it]\u001b[A\u001b[A\u001b[A\u001b[A\u001b[A\u001b[A\u001b[A\u001b[A\n",
      "\n",
      "\n",
      "\n",
      "\n",
      "\n",
      "\n",
      "\n",
      " 90%|█████████ | 171/190 [04:42<00:30,  1.59s/it]\u001b[A\u001b[A\u001b[A\u001b[A\u001b[A\u001b[A\u001b[A\u001b[A\n",
      "\n",
      "\n",
      "\n",
      "\n",
      "\n",
      "\n",
      "\n",
      " 91%|█████████ | 172/190 [04:44<00:29,  1.62s/it]\u001b[A\u001b[A\u001b[A\u001b[A\u001b[A\u001b[A\u001b[A\u001b[A\n",
      "\n",
      "\n",
      "\n",
      "\n",
      "\n",
      "\n",
      "\n",
      " 91%|█████████ | 173/190 [04:46<00:27,  1.63s/it]\u001b[A\u001b[A\u001b[A\u001b[A\u001b[A\u001b[A\u001b[A\u001b[A\n",
      "\n",
      "\n",
      "\n",
      "\n",
      "\n",
      "\n",
      "\n",
      " 92%|█████████▏| 174/190 [04:47<00:26,  1.64s/it]\u001b[A\u001b[A\u001b[A\u001b[A\u001b[A\u001b[A\u001b[A\u001b[A\n",
      "\n",
      "\n",
      "\n",
      "\n",
      "\n",
      "\n",
      "\n",
      " 92%|█████████▏| 175/190 [04:49<00:24,  1.60s/it]\u001b[A\u001b[A\u001b[A\u001b[A\u001b[A\u001b[A\u001b[A\u001b[A\n",
      "\n",
      "\n",
      "\n",
      "\n",
      "\n",
      "\n",
      "\n",
      " 93%|█████████▎| 176/190 [04:50<00:22,  1.61s/it]\u001b[A\u001b[A\u001b[A\u001b[A\u001b[A\u001b[A\u001b[A\u001b[A\n",
      "\n",
      "\n",
      "\n",
      "\n",
      "\n",
      "\n",
      "\n",
      " 93%|█████████▎| 177/190 [04:52<00:20,  1.61s/it]\u001b[A\u001b[A\u001b[A\u001b[A\u001b[A\u001b[A\u001b[A\u001b[A\n",
      "\n",
      "\n",
      "\n",
      "\n",
      "\n",
      "\n",
      "\n",
      " 94%|█████████▎| 178/190 [04:54<00:19,  1.61s/it]\u001b[A\u001b[A\u001b[A\u001b[A\u001b[A\u001b[A\u001b[A\u001b[A\n",
      "\n",
      "\n",
      "\n",
      "\n",
      "\n",
      "\n",
      "\n",
      " 94%|█████████▍| 179/190 [04:55<00:17,  1.62s/it]\u001b[A\u001b[A\u001b[A\u001b[A\u001b[A\u001b[A\u001b[A\u001b[A\n",
      "\n",
      "\n",
      "\n",
      "\n",
      "\n",
      "\n",
      "\n",
      " 95%|█████████▍| 180/190 [04:57<00:16,  1.62s/it]\u001b[A\u001b[A\u001b[A\u001b[A\u001b[A\u001b[A\u001b[A\u001b[A\n",
      "\n",
      "\n",
      "\n",
      "\n",
      "\n",
      "\n",
      "\n",
      " 95%|█████████▌| 181/190 [04:59<00:14,  1.65s/it]\u001b[A\u001b[A\u001b[A\u001b[A\u001b[A\u001b[A\u001b[A\u001b[A\n",
      "\n",
      "\n",
      "\n",
      "\n",
      "\n",
      "\n",
      "\n",
      " 96%|█████████▌| 182/190 [05:00<00:13,  1.64s/it]\u001b[A\u001b[A\u001b[A\u001b[A\u001b[A\u001b[A\u001b[A\u001b[A\n",
      "\n",
      "\n",
      "\n",
      "\n",
      "\n",
      "\n",
      "\n",
      " 96%|█████████▋| 183/190 [05:02<00:11,  1.64s/it]\u001b[A\u001b[A\u001b[A\u001b[A\u001b[A\u001b[A\u001b[A\u001b[A\n",
      "\n",
      "\n",
      "\n",
      "\n",
      "\n",
      "\n",
      "\n",
      " 97%|█████████▋| 184/190 [05:04<00:09,  1.65s/it]\u001b[A\u001b[A\u001b[A\u001b[A\u001b[A\u001b[A\u001b[A\u001b[A\n",
      "\n",
      "\n",
      "\n",
      "\n",
      "\n",
      "\n",
      "\n",
      " 97%|█████████▋| 185/190 [05:05<00:08,  1.69s/it]\u001b[A\u001b[A\u001b[A\u001b[A\u001b[A\u001b[A\u001b[A\u001b[A\n",
      "\n",
      "\n",
      "\n",
      "\n",
      "\n",
      "\n",
      "\n",
      " 98%|█████████▊| 186/190 [05:07<00:06,  1.67s/it]\u001b[A\u001b[A\u001b[A\u001b[A\u001b[A\u001b[A\u001b[A\u001b[A\n",
      "\n",
      "\n",
      "\n",
      "\n",
      "\n",
      "\n",
      "\n",
      " 98%|█████████▊| 187/190 [05:09<00:04,  1.67s/it]\u001b[A\u001b[A\u001b[A\u001b[A\u001b[A\u001b[A\u001b[A\u001b[A\n",
      "\n",
      "\n",
      "\n",
      "\n",
      "\n",
      "\n",
      "\n",
      " 99%|█████████▉| 188/190 [05:10<00:03,  1.65s/it]\u001b[A\u001b[A\u001b[A\u001b[A\u001b[A\u001b[A\u001b[A\u001b[A\n",
      "\n",
      "\n",
      "\n",
      "\n",
      "\n",
      "\n",
      "\n",
      " 99%|█████████▉| 189/190 [05:12<00:01,  1.69s/it]\u001b[A\u001b[A\u001b[A\u001b[A\u001b[A\u001b[A\u001b[A\u001b[A\n",
      "\n",
      "\n",
      "\n",
      "\n",
      "\n",
      "\n",
      "\n",
      "100%|██████████| 190/190 [05:14<00:00,  1.70s/it]\u001b[A\u001b[A\u001b[A\u001b[A\u001b[A\u001b[A\u001b[A\u001b[A"
     ]
    }
   ],
   "source": [
    "construct_train_sets()"
   ]
  },
  {
   "cell_type": "code",
   "execution_count": 5,
   "metadata": {},
   "outputs": [],
   "source": [
    "def trans_train_set_to_seq_data(path=train_path):\n",
    "    \"\"\"\n",
    "    Transfer the training data which are in .xml and .csv into 3 sequence data (e.g. .csv).\n",
    "    3 sequences are:\n",
    "        - team event sequence (event sequences before the last 10)\n",
    "        - event sequence (the last 10 events)\n",
    "        - player sequence (all event sequence about some particular player)\n",
    "    args:\n",
    "        \n",
    "    return:\n",
    "        Bool type.\n",
    "        \n",
    "    \"\"\"\n",
    "    dirs = os.listdir(path)\n",
    "    dirs = [i for i in dirs if '.' not in i]\n",
    "    dirs = list(range(len(dirs)))\n",
    "    for d in dirs:\n",
    "        print(d)\n",
    "        d = str(d)\n",
    "        construct_team_seq(path+d+'/')\n",
    "        construct_event_seq(path+d+'/')\n",
    "        #construct_player_seq(path+d+'/')"
   ]
  },
  {
   "cell_type": "code",
   "execution_count": 27,
   "metadata": {},
   "outputs": [],
   "source": [
    "def get_time_fea(df):\n",
    "    \"\"\"\n",
    "    Get time feature of given dataframe.\n",
    "    args:\n",
    "        df: the given dataframe.\n",
    "    return:\n",
    "        df: df with time feature.\n",
    "        \n",
    "    \"\"\"\n",
    "    \n",
    "    df.insert(0,'game_time', df['min']*60+df['sec'])\n",
    "    df.game_time /= (90*60)\n",
    "    df['min'] /= 60\n",
    "    df['sec'] /= 60\n",
    "    df.insert(1,'time_dis_last_event', df['game_time'].shift(1))\n",
    "    df['time_dis_last_event'] = df.game_time - df.time_dis_last_event\n",
    "    df.loc[0, ['time_dis_last_event']] = 0\n",
    "    return df"
   ]
  },
  {
   "cell_type": "code",
   "execution_count": 28,
   "metadata": {},
   "outputs": [],
   "source": [
    "def get_space_fea(df):\n",
    "    \"\"\"\n",
    "    Get space feature of given dataframe.\n",
    "    args:\n",
    "        df: the given dataframe.\n",
    "    return:\n",
    "        df: df with time feature.\n",
    "        \n",
    "    \"\"\"\n",
    "    ### space feature\n",
    "    ## field\n",
    "    df['field_r'] = (df['x']>50).astype('int32')\n",
    "    df['field_l'] = (df['x']<=50).astype('int32')\n",
    "    df.loc[df[df.ball_related==0].index, 'field_l'] = 0\n",
    "    ## zone         \n",
    "    df['left_zone'] = ((0<=df['y']) & (df['y']<=21.1)).astype('int32')\n",
    "    df['middle_zone'] = ((21.1<df['y']) & (df['y']<78.9)).astype('int32')\n",
    "    df['right_zone'] = ((78.9<=df['y']) & (df['y']<=100)).astype('int32') \n",
    "    df.loc[df[df.ball_related==0].index, 'left_zone'] = 0\n",
    "    ## penal zone            \n",
    "    df['penal_zone_l'] = (((0<=df['x']) & (df['x']<=17)) & ((21.1<=df['y']) & (df['y']<=78.9))).astype('int32')\n",
    "    df['penal_zone_r'] = (((83<=df['x']) & (df['x']<=100)) & ((21.1<=df['y']) & (df['y']<=78.9))).astype('int32')\n",
    "    df.loc[df[df.ball_related==0].index, 'penal_zone_l'] = 2\n",
    "    \n",
    "    df['penal_point'] = ((df['x']==88.5) & (df['y']==50)).astype('int32')\n",
    "    df.insert(2,'ball_pos', np.sqrt(df['x']*df['x']+df['y']*df['y']))\n",
    "    \n",
    "    return df"
   ]
  },
  {
   "cell_type": "code",
   "execution_count": 29,
   "metadata": {},
   "outputs": [],
   "source": [
    "def get_type_fea(df):\n",
    "    \"\"\"\n",
    "    Get type feature of given dataframe.\n",
    "    args:\n",
    "        df: the given dataframe.\n",
    "    return:\n",
    "        df: df with type feature.\n",
    "    \"\"\"\n",
    "    not_ball_related = [25, 27, 28, 30, 32, 68, 70, 18, 19, 40, 56, 57, 60, 65]\n",
    "    game_related = [25, 27, 28, 30, 32, 68, 70]\n",
    "    team_related = [18, 19, 40, 56, 57, 60, 65]\n",
    "    \n",
    "    both_related = [4, 5, 44]\n",
    "    attack_related = [1, 2, 13, 14, 15, 16, 3, 42, 74, 6, 50, 49]\n",
    "    defender_related = [10, 11, 41, 52, 53, 54, 58, 59, 7, 8, 12, 45, 51, 55]\n",
    "    \n",
    "    attack_pass = [1,2]\n",
    "    attack_shot = [13, 14, 15]\n",
    "    attack_goal = [16]\n",
    "    attack_drib = [3, 42]\n",
    "    attack_othe = [74, 6, 49, 50]\n",
    "    defend_gk = [10, 11, 41, 52, 53, 54, 58, 59]\n",
    "    \n",
    "    ### ball related?\n",
    "    df['ball_related'] = (df.type_id.apply(lambda x:(x not in not_ball_related))).astype(int)\n",
    "    df['not_ball_related'] = (df.type_id.apply(lambda x:(x in not_ball_related))).astype(int)\n",
    "    \n",
    "    ## not ball related\n",
    "    df['game_related'] = (df.type_id.apply(lambda x:(x in game_related))).astype(int)\n",
    "    df['team_related'] = (df.type_id.apply(lambda x:(x in team_related))).astype(int)\n",
    "    \n",
    "    ## ball related\n",
    "    df['both_related'] = (df.type_id.apply(lambda x:(x in both_related))).astype(int)\n",
    "    df['attack_related'] = (df.type_id.apply(lambda x:(x in attack_related))).astype(int)\n",
    "    df['defender_related'] = (df.type_id.apply(lambda x:(x in defender_related))).astype(int)\n",
    "    # attack related\n",
    "    df['attack_pass'] = (df.type_id.apply(lambda x:(x in attack_pass))).astype(int)\n",
    "    df['attack_shot'] = (df.type_id.apply(lambda x:(x in attack_shot))).astype(int)\n",
    "    df['attack_goal'] = (df.type_id.apply(lambda x:(x in attack_goal))).astype(int)\n",
    "    df['attack_drib'] = (df.type_id.apply(lambda x:(x in attack_drib))).astype(int)\n",
    "    df['attack_othe'] = (df.type_id.apply(lambda x:(x in attack_othe))).astype(int)\n",
    "    # defend related\n",
    "    df['defend_gk'] = (df.type_id.apply(lambda x:(x in defend_gk))).astype(int)\n",
    "    df['defend_1'] = (df.type_id == 7).astype(int)\n",
    "    df['defend_2'] = (df.type_id == 8).astype(int)\n",
    "    df['defend_3'] = (df.type_id == 12).astype(int)\n",
    "    df['defend_4'] = (df.type_id == 45).astype(int)\n",
    "    df['defend_5'] = (df.type_id == 51).astype(int)\n",
    "    df['defend_6'] = (df.type_id == 55).astype(int)\n",
    "    \n",
    "    df.drop(['type_id'], axis=1, inplace=True)\n",
    "    \n",
    "    return df"
   ]
  },
  {
   "cell_type": "code",
   "execution_count": 30,
   "metadata": {},
   "outputs": [],
   "source": [
    "def construct_team_seq(path):\n",
    "    \"\"\"\n",
    "    Construct the team event sequence.\n",
    "    args:\n",
    "        path: the path of given game's xml file.\n",
    "    return:\n",
    "        \n",
    "        \n",
    "    \"\"\"\n",
    "    files = os.listdir(path)\n",
    "    xml_files = [i for i in files if 'xml' in i]\n",
    "    csv_files = [i for i in files if 'csv' in i]\n",
    "    xml_files.sort()\n",
    "    csv_files.sort()\n",
    "    \n",
    "    for file_idx in tqdm(range(len(xml_files))):\n",
    "        team0_df = pd.DataFrame({\"min\":[],\n",
    "                             \"sec\":[],  \n",
    "                             \"type_id\":[],\n",
    "                             \"q_num\":[],\n",
    "                             \"keypass\":[],\n",
    "                             \"nokeypass\":[],\n",
    "                             \"assist\":[],\n",
    "                             \"noassist\":[],\n",
    "                             })\n",
    "        team1_df = pd.DataFrame({\"min\":[],\n",
    "                             \"sec\":[],  \n",
    "                             \"type_id\":[],\n",
    "                             \"q_num\":[],\n",
    "                             \"keypass\":[],\n",
    "                             \"nokeypass\":[],\n",
    "                             \"assist\":[],\n",
    "                             \"noassist\":[],\n",
    "                             })    \n",
    "            \n",
    "        xfile = xml_files[file_idx]\n",
    "        cfile = csv_files[file_idx]\n",
    "        choice_xml = lxml.etree.parse(path+xfile)\n",
    "        events = choice_xml.xpath('//Event')[0:-10]\n",
    "        team_0_events = [i for i in events if i.attrib['team_id']=='0']\n",
    "        team_1_events = [i for i in events if i.attrib['team_id']=='1']\n",
    "        \n",
    "        for i in team_0_events:\n",
    "            mins = int(i.attrib['min'])\n",
    "            secs = int(i.attrib['sec'])\n",
    "            type_id = int(i.attrib['type_id'])\n",
    "            keypass = int('keypass' in i.attrib)\n",
    "            assist = int('assist' in i.attrib)\n",
    "            q_num = len(i.xpath('Q'))/200\n",
    "            temp = pd.DataFrame({\"min\":[mins],\n",
    "                             \"sec\":[secs],  \n",
    "                             \"type_id\":[type_id],\n",
    "                             \"q_num\":[q_num],\n",
    "                             \"keypass\":[keypass],\n",
    "                             \"nokeypass\":[1-keypass],\n",
    "                             \"assist\":[assist],\n",
    "                             \"noassist\":[1-assist],\n",
    "                             })\n",
    "            team0_df = pd.concat([team0_df,temp])\n",
    "            \n",
    "        for i in team_1_events:\n",
    "            mins = int(i.attrib['min'])\n",
    "            secs = int(i.attrib['sec'])\n",
    "            keypass = int('keypass' in i.attrib)\n",
    "            assist = int('assist' in i.attrib)\n",
    "            q_num = len(i.xpath('Q'))\n",
    "            temp = pd.DataFrame({\"min\":[mins],\n",
    "                             \"sec\":[secs],  \n",
    "                             \"type_id\":[type_id],\n",
    "                             \"q_num\":[q_num],\n",
    "                             \"keypass\":[keypass],\n",
    "                             \"nokeypass\":[1-keypass],\n",
    "                             \"assist\":[assist],\n",
    "                             \"noassist\":[1-assist],\n",
    "                             })\n",
    "            team1_df = pd.concat([team1_df,temp])\n",
    "            \n",
    "        team0_df = get_time_fea(team0_df)\n",
    "        team1_df = get_time_fea(team1_df)\n",
    "        \n",
    "        team0_df = get_type_fea(team0_df)\n",
    "        team1_df = get_type_fea(team1_df)\n",
    "        \n",
    "        gc.collect()\n",
    "        \n",
    "        if not os.path.exists(path+'team_seq'):\n",
    "            os.mkdir(path+'team_seq')\n",
    "        \n",
    "        team0_df.to_csv(path+'team_seq/'+xfile[0:-4]+'_team0.tseq', index=False)\n",
    "        team1_df.to_csv(path+'team_seq/'+xfile[0:-4]+'_team1.tseq', index=False)\n",
    "        "
   ]
  },
  {
   "cell_type": "code",
   "execution_count": 31,
   "metadata": {},
   "outputs": [],
   "source": [
    "def construct_event_seq(path):\n",
    "    \"\"\"\n",
    "    Construct the last 10 event sequence.\n",
    "    args:\n",
    "        path: the path of given game's xml file.\n",
    "    return:\n",
    "        \n",
    "    \"\"\"\n",
    "    files = os.listdir(path)\n",
    "    xml_files = [i for i in files if 'xml' in i]\n",
    "    csv_files = [i for i in files if 'csv' in i]\n",
    "    xml_files.sort()\n",
    "    csv_files.sort()\n",
    "    \n",
    "    for file_idx in tqdm(range(len(xml_files))):\n",
    "        event_df = pd.DataFrame({\"min\":[],\n",
    "                             \"sec\":[],  \n",
    "                             \"type_id\":[],\n",
    "                             \"q_num\":[],\n",
    "                             \"x\":[],\n",
    "                             \"y\":[],\n",
    "                             \"keypass\":[],\n",
    "                             \"nokeypass\":[],\n",
    "                             \"assist\":[],\n",
    "                             \"noassist\":[],\n",
    "                             })\n",
    "        xfile = xml_files[file_idx]\n",
    "        cfile = csv_files[file_idx]\n",
    "        choice_xml = lxml.etree.parse(path+xfile)\n",
    "        events = choice_xml.xpath('//Event')[-10:]\n",
    "        \n",
    "        for i in events:\n",
    "            mins = int(i.attrib['min'])\n",
    "            secs = int(i.attrib['sec'])\n",
    "            type_id = int(i.attrib['type_id'])\n",
    "            keypass = int('keypass' in i.attrib)\n",
    "            assist = int('assist' in i.attrib)\n",
    "            q_num = len(i.xpath('Q'))/200\n",
    "            x = float(i.attrib['x'])/100\n",
    "            y = float(i.attrib['y'])/100\n",
    "            temp = pd.DataFrame({\"min\":[mins],\n",
    "                             \"sec\":[secs],  \n",
    "                             \"type_id\":[type_id],\n",
    "                             \"q_num\":[q_num],\n",
    "                             \"x\":[x],\n",
    "                             \"y\":[y],\n",
    "                             \"keypass\":[keypass],\n",
    "                             \"nokeypass\":[1-keypass],\n",
    "                             \"assist\":[assist],\n",
    "                             \"noassist\":[1-assist],\n",
    "                             })\n",
    "            event_df = pd.concat([event_df, temp])\n",
    "        \n",
    "        event_df = get_time_fea(event_df)       \n",
    "        event_df = get_type_fea(event_df)\n",
    "        event_df = get_space_fea(event_df)\n",
    "        gc.collect()\n",
    "        \n",
    "        if not os.path.exists(path+'event_seq'):\n",
    "            os.mkdir(path+'event_seq')\n",
    "        \n",
    "        event_df.to_csv(path+'event_seq/'+xfile[0:-4]+'_event.eseq', index=False)"
   ]
  },
  {
   "cell_type": "code",
   "execution_count": 32,
   "metadata": {},
   "outputs": [],
   "source": [
    "def construct_player_seq(path):\n",
    "    \"\"\"\n",
    "    Construct the player event sequence.\n",
    "    args:\n",
    "        path: the path of given game's xml file.\n",
    "    return:\n",
    "        \n",
    "    \"\"\"\n",
    "    files = os.listdir(path)\n",
    "    xml_files = [i for i in files if 'xml' in i]\n",
    "    csv_files = [i for i in files if 'csv' in i]\n",
    "    xml_files.sort()\n",
    "    csv_files.sort()\n",
    "    \n",
    "    for file_idx in tqdm(range(len(xml_files))):\n",
    "        xfile = xml_files[file_idx]\n",
    "        cfile = csv_files[file_idx]\n",
    "        choice_xml = lxml.etree.parse(path+xfile)\n",
    "        events = choice_xml.xpath('//Event')[0:-10]\n",
    "        \n",
    "         # Get all player list and changed player list\n",
    "        if (os.path.exists(processed_path+\"all_player_data.csv\")):\n",
    "            all_player_df = pd.read_csv(processed_path+\"all_player_data.csv\")\n",
    "        else:\n",
    "            all_player_df = get_player_data()\n",
    "        all_player_df.join_date = all_player_df.join_date.apply(\n",
    "                lambda x:pd.to_datetime(x, format=\"%Y-%m-%d\"))\n",
    "        join_date_plyr = list(\n",
    "            all_player_df[all_player_df.join_date < pd.to_datetime('2017-01-01', format=\"%Y-%m-%d\")].player_id)\n",
    "        \n",
    "        # Get playing time data of all players\n",
    "        if (os.path.exists(processed_path+\"total_play_time_data.csv\")):\n",
    "            total_play_time_data = pd.read_csv(processed_path+\"total_play_time_data.csv\")\n",
    "            total_play_time_data.total_playing_time = total_play_time_data.total_playing_time.apply(\n",
    "                lambda x:pd.Timedelta(x))\n",
    "        else:\n",
    "            total_play_time_data = get_play_time(all_player_df)\n",
    "        suff_time_plyr = list(total_play_time_data[total_play_time_data.total_playing_time > pd.Timedelta(minutes=800)].player_id)\n",
    "        \n",
    "        players = list(set(choice_xml.xpath(\"//Event/@player_id\")))\n",
    "        players = ['p'+_ for _ in players]\n",
    "        players = [_ for _ in players if (_ in suff_time_plyr) and (_ in join_date_plyr)]\n",
    "        \n",
    "        if len(players)==0:\n",
    "            print(xfile)\n",
    "            continue\n",
    "        \n",
    "        for p in players:\n",
    "            player_df = pd.DataFrame({\"min\":[],\n",
    "                             \"sec\":[],  \n",
    "                             \"type_id\":[],\n",
    "                             \"q_num\":[],\n",
    "                             \"keypass\":[],\n",
    "                             \"nokeypass\":[],\n",
    "                             \"assist\":[],\n",
    "                             \"noassist\":[],\n",
    "                             })\n",
    "            p_events = [_ for _ in events if 'player_id' in _.attrib]\n",
    "            p_events = [_ for _ in p_events if ('p'+_.attrib['player_id']) == p]\n",
    "            \n",
    "            if len(p_events)==0:\n",
    "                continue\n",
    "            team_id = p_events[0].attrib['team_id']\n",
    "            for i in p_events:\n",
    "                mins = int(i.attrib['min'])\n",
    "                secs = int(i.attrib['sec'])\n",
    "                type_id = int(i.attrib['type_id'])\n",
    "                keypass = int('keypass' in i.attrib)\n",
    "                assist = int('assist' in i.attrib)\n",
    "                q_num = len(i.xpath('Q'))/200\n",
    "                temp = pd.DataFrame({\"min\":[mins],\n",
    "                                 \"sec\":[secs],  \n",
    "                                 \"type_id\":[type_id],\n",
    "                                 \"q_num\":[q_num],\n",
    "                                 \"keypass\":[keypass],\n",
    "                                 \"nokeypass\":[1-keypass],\n",
    "                                 \"assist\":[assist],\n",
    "                                 \"noassist\":[1-assist],\n",
    "                                 })\n",
    "                player_df = pd.concat([player_df, temp])\n",
    "        \n",
    "            player_df = get_time_fea(player_df)       \n",
    "            player_df = get_type_fea(player_df)\n",
    "            gc.collect()\n",
    "            player_df['player_id'] = p\n",
    "\n",
    "            if not os.path.exists(path+'player_seq'):\n",
    "                os.mkdir(path+'player_seq')\n",
    "\n",
    "            player_df.to_csv(path+'player_seq/'+xfile[0:-4]+'_'+p+'.'+str(team_id)+'.pseq', index=False)\n",
    "        "
   ]
  },
  {
   "cell_type": "code",
   "execution_count": 33,
   "metadata": {
    "scrolled": true
   },
   "outputs": [
    {
     "name": "stderr",
     "output_type": "stream",
     "text": [
      "\r",
      "  0%|          | 0/11 [00:00<?, ?it/s]"
     ]
    },
    {
     "name": "stdout",
     "output_type": "stream",
     "text": [
      "0\n"
     ]
    },
    {
     "name": "stderr",
     "output_type": "stream",
     "text": [
      "100%|██████████| 11/11 [00:05<00:00,  1.89it/s]\n",
      "100%|██████████| 11/11 [00:01<00:00,  7.12it/s]\n",
      "  0%|          | 0/11 [00:00<?, ?it/s]"
     ]
    },
    {
     "name": "stdout",
     "output_type": "stream",
     "text": [
      "1\n"
     ]
    },
    {
     "name": "stderr",
     "output_type": "stream",
     "text": [
      "100%|██████████| 11/11 [00:05<00:00,  2.08it/s]\n",
      "100%|██████████| 11/11 [00:01<00:00,  7.06it/s]\n",
      "  0%|          | 0/11 [00:00<?, ?it/s]"
     ]
    },
    {
     "name": "stdout",
     "output_type": "stream",
     "text": [
      "2\n"
     ]
    },
    {
     "name": "stderr",
     "output_type": "stream",
     "text": [
      "100%|██████████| 11/11 [00:06<00:00,  1.62it/s]\n",
      "100%|██████████| 11/11 [00:01<00:00,  7.27it/s]\n",
      "  0%|          | 0/11 [00:00<?, ?it/s]"
     ]
    },
    {
     "name": "stdout",
     "output_type": "stream",
     "text": [
      "3\n"
     ]
    },
    {
     "name": "stderr",
     "output_type": "stream",
     "text": [
      "100%|██████████| 11/11 [00:05<00:00,  1.87it/s]\n",
      "100%|██████████| 11/11 [00:01<00:00,  7.13it/s]\n",
      "  0%|          | 0/11 [00:00<?, ?it/s]"
     ]
    },
    {
     "name": "stdout",
     "output_type": "stream",
     "text": [
      "4\n"
     ]
    },
    {
     "name": "stderr",
     "output_type": "stream",
     "text": [
      "100%|██████████| 11/11 [00:05<00:00,  2.04it/s]\n",
      "100%|██████████| 11/11 [00:01<00:00,  7.25it/s]\n",
      "  0%|          | 0/11 [00:00<?, ?it/s]"
     ]
    },
    {
     "name": "stdout",
     "output_type": "stream",
     "text": [
      "5\n"
     ]
    },
    {
     "name": "stderr",
     "output_type": "stream",
     "text": [
      "100%|██████████| 11/11 [00:05<00:00,  1.96it/s]\n",
      "100%|██████████| 11/11 [00:01<00:00,  6.88it/s]\n",
      "  0%|          | 0/11 [00:00<?, ?it/s]"
     ]
    },
    {
     "name": "stdout",
     "output_type": "stream",
     "text": [
      "6\n"
     ]
    },
    {
     "name": "stderr",
     "output_type": "stream",
     "text": [
      "100%|██████████| 11/11 [00:05<00:00,  2.02it/s]\n",
      "100%|██████████| 11/11 [00:01<00:00,  6.88it/s]\n",
      "  0%|          | 0/11 [00:00<?, ?it/s]"
     ]
    },
    {
     "name": "stdout",
     "output_type": "stream",
     "text": [
      "7\n"
     ]
    },
    {
     "name": "stderr",
     "output_type": "stream",
     "text": [
      "100%|██████████| 11/11 [00:05<00:00,  1.80it/s]\n",
      "100%|██████████| 11/11 [00:01<00:00,  7.15it/s]\n",
      "  0%|          | 0/11 [00:00<?, ?it/s]"
     ]
    },
    {
     "name": "stdout",
     "output_type": "stream",
     "text": [
      "8\n"
     ]
    },
    {
     "name": "stderr",
     "output_type": "stream",
     "text": [
      "100%|██████████| 11/11 [00:05<00:00,  2.17it/s]\n",
      "100%|██████████| 11/11 [00:01<00:00,  6.79it/s]\n",
      "  0%|          | 0/11 [00:00<?, ?it/s]"
     ]
    },
    {
     "name": "stdout",
     "output_type": "stream",
     "text": [
      "9\n"
     ]
    },
    {
     "name": "stderr",
     "output_type": "stream",
     "text": [
      "100%|██████████| 11/11 [00:05<00:00,  2.06it/s]\n",
      "100%|██████████| 11/11 [00:01<00:00,  6.77it/s]\n",
      "  0%|          | 0/11 [00:00<?, ?it/s]"
     ]
    },
    {
     "name": "stdout",
     "output_type": "stream",
     "text": [
      "10\n"
     ]
    },
    {
     "name": "stderr",
     "output_type": "stream",
     "text": [
      "100%|██████████| 11/11 [00:05<00:00,  2.02it/s]\n",
      "100%|██████████| 11/11 [00:01<00:00,  7.24it/s]\n",
      "  0%|          | 0/11 [00:00<?, ?it/s]"
     ]
    },
    {
     "name": "stdout",
     "output_type": "stream",
     "text": [
      "11\n"
     ]
    },
    {
     "name": "stderr",
     "output_type": "stream",
     "text": [
      "100%|██████████| 11/11 [00:05<00:00,  1.90it/s]\n",
      "100%|██████████| 11/11 [00:01<00:00,  6.55it/s]\n",
      "  0%|          | 0/11 [00:00<?, ?it/s]"
     ]
    },
    {
     "name": "stdout",
     "output_type": "stream",
     "text": [
      "12\n"
     ]
    },
    {
     "name": "stderr",
     "output_type": "stream",
     "text": [
      "100%|██████████| 11/11 [00:05<00:00,  2.01it/s]\n",
      "100%|██████████| 11/11 [00:01<00:00,  7.00it/s]\n",
      "  0%|          | 0/11 [00:00<?, ?it/s]"
     ]
    },
    {
     "name": "stdout",
     "output_type": "stream",
     "text": [
      "13\n"
     ]
    },
    {
     "name": "stderr",
     "output_type": "stream",
     "text": [
      "100%|██████████| 11/11 [00:06<00:00,  1.82it/s]\n",
      "100%|██████████| 11/11 [00:01<00:00,  6.95it/s]\n",
      "  0%|          | 0/11 [00:00<?, ?it/s]"
     ]
    },
    {
     "name": "stdout",
     "output_type": "stream",
     "text": [
      "14\n"
     ]
    },
    {
     "name": "stderr",
     "output_type": "stream",
     "text": [
      "100%|██████████| 11/11 [00:05<00:00,  1.90it/s]\n",
      "100%|██████████| 11/11 [00:01<00:00,  6.76it/s]\n",
      "  0%|          | 0/11 [00:00<?, ?it/s]"
     ]
    },
    {
     "name": "stdout",
     "output_type": "stream",
     "text": [
      "15\n"
     ]
    },
    {
     "name": "stderr",
     "output_type": "stream",
     "text": [
      "100%|██████████| 11/11 [00:05<00:00,  2.18it/s]\n",
      "100%|██████████| 11/11 [00:01<00:00,  7.51it/s]\n",
      "  0%|          | 0/11 [00:00<?, ?it/s]"
     ]
    },
    {
     "name": "stdout",
     "output_type": "stream",
     "text": [
      "16\n"
     ]
    },
    {
     "name": "stderr",
     "output_type": "stream",
     "text": [
      "100%|██████████| 11/11 [00:05<00:00,  1.95it/s]\n",
      "100%|██████████| 11/11 [00:01<00:00,  7.45it/s]\n",
      "  0%|          | 0/11 [00:00<?, ?it/s]"
     ]
    },
    {
     "name": "stdout",
     "output_type": "stream",
     "text": [
      "17\n"
     ]
    },
    {
     "name": "stderr",
     "output_type": "stream",
     "text": [
      "100%|██████████| 11/11 [00:05<00:00,  1.97it/s]\n",
      "100%|██████████| 11/11 [00:01<00:00,  7.62it/s]\n",
      "  0%|          | 0/11 [00:00<?, ?it/s]"
     ]
    },
    {
     "name": "stdout",
     "output_type": "stream",
     "text": [
      "18\n"
     ]
    },
    {
     "name": "stderr",
     "output_type": "stream",
     "text": [
      "100%|██████████| 11/11 [00:05<00:00,  2.09it/s]\n",
      "100%|██████████| 11/11 [00:01<00:00,  7.11it/s]\n",
      "  0%|          | 0/11 [00:00<?, ?it/s]"
     ]
    },
    {
     "name": "stdout",
     "output_type": "stream",
     "text": [
      "19\n"
     ]
    },
    {
     "name": "stderr",
     "output_type": "stream",
     "text": [
      "100%|██████████| 11/11 [00:05<00:00,  2.11it/s]\n",
      "100%|██████████| 11/11 [00:01<00:00,  7.03it/s]\n",
      "  0%|          | 0/11 [00:00<?, ?it/s]"
     ]
    },
    {
     "name": "stdout",
     "output_type": "stream",
     "text": [
      "20\n"
     ]
    },
    {
     "name": "stderr",
     "output_type": "stream",
     "text": [
      "100%|██████████| 11/11 [00:05<00:00,  1.91it/s]\n",
      "100%|██████████| 11/11 [00:01<00:00,  6.92it/s]\n",
      "  0%|          | 0/11 [00:00<?, ?it/s]"
     ]
    },
    {
     "name": "stdout",
     "output_type": "stream",
     "text": [
      "21\n"
     ]
    },
    {
     "name": "stderr",
     "output_type": "stream",
     "text": [
      "100%|██████████| 11/11 [00:05<00:00,  2.06it/s]\n",
      "100%|██████████| 11/11 [00:01<00:00,  7.07it/s]\n",
      "  0%|          | 0/11 [00:00<?, ?it/s]"
     ]
    },
    {
     "name": "stdout",
     "output_type": "stream",
     "text": [
      "22\n"
     ]
    },
    {
     "name": "stderr",
     "output_type": "stream",
     "text": [
      "100%|██████████| 11/11 [00:06<00:00,  1.81it/s]\n",
      "100%|██████████| 11/11 [00:01<00:00,  6.77it/s]\n",
      "  0%|          | 0/11 [00:00<?, ?it/s]"
     ]
    },
    {
     "name": "stdout",
     "output_type": "stream",
     "text": [
      "23\n"
     ]
    },
    {
     "name": "stderr",
     "output_type": "stream",
     "text": [
      "100%|██████████| 11/11 [00:05<00:00,  1.97it/s]\n",
      "100%|██████████| 11/11 [00:01<00:00,  7.10it/s]\n",
      "  0%|          | 0/11 [00:00<?, ?it/s]"
     ]
    },
    {
     "name": "stdout",
     "output_type": "stream",
     "text": [
      "24\n"
     ]
    },
    {
     "name": "stderr",
     "output_type": "stream",
     "text": [
      "100%|██████████| 11/11 [00:05<00:00,  2.18it/s]\n",
      "100%|██████████| 11/11 [00:01<00:00,  6.71it/s]\n",
      "  0%|          | 0/11 [00:00<?, ?it/s]"
     ]
    },
    {
     "name": "stdout",
     "output_type": "stream",
     "text": [
      "25\n"
     ]
    },
    {
     "name": "stderr",
     "output_type": "stream",
     "text": [
      "100%|██████████| 11/11 [00:05<00:00,  1.86it/s]\n",
      "100%|██████████| 11/11 [00:01<00:00,  6.47it/s]\n",
      "  0%|          | 0/11 [00:00<?, ?it/s]"
     ]
    },
    {
     "name": "stdout",
     "output_type": "stream",
     "text": [
      "26\n"
     ]
    },
    {
     "name": "stderr",
     "output_type": "stream",
     "text": [
      "100%|██████████| 11/11 [00:05<00:00,  2.07it/s]\n",
      "100%|██████████| 11/11 [00:01<00:00,  6.69it/s]\n",
      "  0%|          | 0/11 [00:00<?, ?it/s]"
     ]
    },
    {
     "name": "stdout",
     "output_type": "stream",
     "text": [
      "27\n"
     ]
    },
    {
     "name": "stderr",
     "output_type": "stream",
     "text": [
      "100%|██████████| 11/11 [00:05<00:00,  1.92it/s]\n",
      "100%|██████████| 11/11 [00:01<00:00,  6.43it/s]\n",
      "  0%|          | 0/11 [00:00<?, ?it/s]"
     ]
    },
    {
     "name": "stdout",
     "output_type": "stream",
     "text": [
      "28\n"
     ]
    },
    {
     "name": "stderr",
     "output_type": "stream",
     "text": [
      "100%|██████████| 11/11 [00:05<00:00,  1.88it/s]\n",
      "100%|██████████| 11/11 [00:01<00:00,  6.87it/s]\n",
      "  0%|          | 0/11 [00:00<?, ?it/s]"
     ]
    },
    {
     "name": "stdout",
     "output_type": "stream",
     "text": [
      "29\n"
     ]
    },
    {
     "name": "stderr",
     "output_type": "stream",
     "text": [
      "100%|██████████| 11/11 [00:04<00:00,  2.23it/s]\n",
      "100%|██████████| 11/11 [00:01<00:00,  6.85it/s]\n",
      "  0%|          | 0/11 [00:00<?, ?it/s]"
     ]
    },
    {
     "name": "stdout",
     "output_type": "stream",
     "text": [
      "30\n"
     ]
    },
    {
     "name": "stderr",
     "output_type": "stream",
     "text": [
      "100%|██████████| 11/11 [00:05<00:00,  1.72it/s]\n",
      "100%|██████████| 11/11 [00:01<00:00,  6.54it/s]\n",
      "  0%|          | 0/11 [00:00<?, ?it/s]"
     ]
    },
    {
     "name": "stdout",
     "output_type": "stream",
     "text": [
      "31\n"
     ]
    },
    {
     "name": "stderr",
     "output_type": "stream",
     "text": [
      "100%|██████████| 11/11 [00:04<00:00,  2.20it/s]\n",
      "100%|██████████| 11/11 [00:01<00:00,  7.16it/s]\n",
      "  0%|          | 0/11 [00:00<?, ?it/s]"
     ]
    },
    {
     "name": "stdout",
     "output_type": "stream",
     "text": [
      "32\n"
     ]
    },
    {
     "name": "stderr",
     "output_type": "stream",
     "text": [
      "100%|██████████| 11/11 [00:05<00:00,  1.75it/s]\n",
      "100%|██████████| 11/11 [00:01<00:00,  6.42it/s]\n",
      "  0%|          | 0/11 [00:00<?, ?it/s]"
     ]
    },
    {
     "name": "stdout",
     "output_type": "stream",
     "text": [
      "33\n"
     ]
    },
    {
     "name": "stderr",
     "output_type": "stream",
     "text": [
      "100%|██████████| 11/11 [00:05<00:00,  1.88it/s]\n",
      "100%|██████████| 11/11 [00:01<00:00,  7.01it/s]\n",
      "  0%|          | 0/11 [00:00<?, ?it/s]"
     ]
    },
    {
     "name": "stdout",
     "output_type": "stream",
     "text": [
      "34\n"
     ]
    },
    {
     "name": "stderr",
     "output_type": "stream",
     "text": [
      "100%|██████████| 11/11 [00:05<00:00,  2.04it/s]\n",
      "100%|██████████| 11/11 [00:01<00:00,  7.64it/s]\n",
      "  0%|          | 0/11 [00:00<?, ?it/s]"
     ]
    },
    {
     "name": "stdout",
     "output_type": "stream",
     "text": [
      "35\n"
     ]
    },
    {
     "name": "stderr",
     "output_type": "stream",
     "text": [
      "100%|██████████| 11/11 [00:06<00:00,  1.52it/s]\n",
      "100%|██████████| 11/11 [00:01<00:00,  7.33it/s]\n",
      "  0%|          | 0/11 [00:00<?, ?it/s]"
     ]
    },
    {
     "name": "stdout",
     "output_type": "stream",
     "text": [
      "36\n"
     ]
    },
    {
     "name": "stderr",
     "output_type": "stream",
     "text": [
      "100%|██████████| 11/11 [00:05<00:00,  1.89it/s]\n",
      "100%|██████████| 11/11 [00:01<00:00,  6.88it/s]\n",
      "  0%|          | 0/11 [00:00<?, ?it/s]"
     ]
    },
    {
     "name": "stdout",
     "output_type": "stream",
     "text": [
      "37\n"
     ]
    },
    {
     "name": "stderr",
     "output_type": "stream",
     "text": [
      "100%|██████████| 11/11 [00:05<00:00,  2.14it/s]\n",
      "100%|██████████| 11/11 [00:01<00:00,  7.05it/s]\n",
      "  0%|          | 0/11 [00:00<?, ?it/s]"
     ]
    },
    {
     "name": "stdout",
     "output_type": "stream",
     "text": [
      "38\n"
     ]
    },
    {
     "name": "stderr",
     "output_type": "stream",
     "text": [
      "100%|██████████| 11/11 [00:04<00:00,  2.22it/s]\n",
      "100%|██████████| 11/11 [00:01<00:00,  7.15it/s]\n",
      "  0%|          | 0/11 [00:00<?, ?it/s]"
     ]
    },
    {
     "name": "stdout",
     "output_type": "stream",
     "text": [
      "39\n"
     ]
    },
    {
     "name": "stderr",
     "output_type": "stream",
     "text": [
      "100%|██████████| 11/11 [00:05<00:00,  2.00it/s]\n",
      "100%|██████████| 11/11 [00:01<00:00,  6.95it/s]\n",
      "  0%|          | 0/11 [00:00<?, ?it/s]"
     ]
    },
    {
     "name": "stdout",
     "output_type": "stream",
     "text": [
      "40\n"
     ]
    },
    {
     "name": "stderr",
     "output_type": "stream",
     "text": [
      "100%|██████████| 11/11 [00:05<00:00,  1.79it/s]\n",
      "100%|██████████| 11/11 [00:01<00:00,  6.74it/s]\n",
      "  0%|          | 0/11 [00:00<?, ?it/s]"
     ]
    },
    {
     "name": "stdout",
     "output_type": "stream",
     "text": [
      "41\n"
     ]
    },
    {
     "name": "stderr",
     "output_type": "stream",
     "text": [
      "100%|██████████| 11/11 [00:08<00:00,  1.25it/s]\n",
      "100%|██████████| 11/11 [00:01<00:00,  6.80it/s]\n",
      "  0%|          | 0/11 [00:00<?, ?it/s]"
     ]
    },
    {
     "name": "stdout",
     "output_type": "stream",
     "text": [
      "42\n"
     ]
    },
    {
     "name": "stderr",
     "output_type": "stream",
     "text": [
      "100%|██████████| 11/11 [00:05<00:00,  1.88it/s]\n",
      "100%|██████████| 11/11 [00:01<00:00,  6.96it/s]\n",
      "  0%|          | 0/11 [00:00<?, ?it/s]"
     ]
    },
    {
     "name": "stdout",
     "output_type": "stream",
     "text": [
      "43\n"
     ]
    },
    {
     "name": "stderr",
     "output_type": "stream",
     "text": [
      "100%|██████████| 11/11 [00:06<00:00,  1.83it/s]\n",
      "100%|██████████| 11/11 [00:01<00:00,  6.44it/s]\n",
      "  0%|          | 0/11 [00:00<?, ?it/s]"
     ]
    },
    {
     "name": "stdout",
     "output_type": "stream",
     "text": [
      "44\n"
     ]
    },
    {
     "name": "stderr",
     "output_type": "stream",
     "text": [
      "100%|██████████| 11/11 [00:05<00:00,  2.00it/s]\n",
      "100%|██████████| 11/11 [00:01<00:00,  7.59it/s]\n",
      "  0%|          | 0/11 [00:00<?, ?it/s]"
     ]
    },
    {
     "name": "stdout",
     "output_type": "stream",
     "text": [
      "45\n"
     ]
    },
    {
     "name": "stderr",
     "output_type": "stream",
     "text": [
      "100%|██████████| 11/11 [00:05<00:00,  1.83it/s]\n",
      "100%|██████████| 11/11 [00:01<00:00,  7.03it/s]\n",
      "  0%|          | 0/11 [00:00<?, ?it/s]"
     ]
    },
    {
     "name": "stdout",
     "output_type": "stream",
     "text": [
      "46\n"
     ]
    },
    {
     "name": "stderr",
     "output_type": "stream",
     "text": [
      "100%|██████████| 11/11 [00:05<00:00,  1.91it/s]\n",
      "100%|██████████| 11/11 [00:01<00:00,  7.39it/s]\n",
      "  0%|          | 0/11 [00:00<?, ?it/s]"
     ]
    },
    {
     "name": "stdout",
     "output_type": "stream",
     "text": [
      "47\n"
     ]
    },
    {
     "name": "stderr",
     "output_type": "stream",
     "text": [
      "100%|██████████| 11/11 [00:05<00:00,  1.96it/s]\n",
      "100%|██████████| 11/11 [00:01<00:00,  6.51it/s]\n",
      "  0%|          | 0/11 [00:00<?, ?it/s]"
     ]
    },
    {
     "name": "stdout",
     "output_type": "stream",
     "text": [
      "48\n"
     ]
    },
    {
     "name": "stderr",
     "output_type": "stream",
     "text": [
      "100%|██████████| 11/11 [00:05<00:00,  1.98it/s]\n",
      "100%|██████████| 11/11 [00:01<00:00,  6.61it/s]\n",
      "  0%|          | 0/11 [00:00<?, ?it/s]"
     ]
    },
    {
     "name": "stdout",
     "output_type": "stream",
     "text": [
      "49\n"
     ]
    },
    {
     "name": "stderr",
     "output_type": "stream",
     "text": [
      "100%|██████████| 11/11 [00:05<00:00,  1.97it/s]\n",
      "100%|██████████| 11/11 [00:01<00:00,  6.59it/s]\n",
      "  0%|          | 0/11 [00:00<?, ?it/s]"
     ]
    },
    {
     "name": "stdout",
     "output_type": "stream",
     "text": [
      "50\n"
     ]
    },
    {
     "name": "stderr",
     "output_type": "stream",
     "text": [
      "100%|██████████| 11/11 [00:04<00:00,  2.28it/s]\n",
      "100%|██████████| 11/11 [00:01<00:00,  6.62it/s]\n",
      "  0%|          | 0/11 [00:00<?, ?it/s]"
     ]
    },
    {
     "name": "stdout",
     "output_type": "stream",
     "text": [
      "51\n"
     ]
    },
    {
     "name": "stderr",
     "output_type": "stream",
     "text": [
      "100%|██████████| 11/11 [00:04<00:00,  2.20it/s]\n",
      "100%|██████████| 11/11 [00:01<00:00,  7.62it/s]\n",
      "  0%|          | 0/11 [00:00<?, ?it/s]"
     ]
    },
    {
     "name": "stdout",
     "output_type": "stream",
     "text": [
      "52\n"
     ]
    },
    {
     "name": "stderr",
     "output_type": "stream",
     "text": [
      "100%|██████████| 11/11 [00:05<00:00,  2.04it/s]\n",
      "100%|██████████| 11/11 [00:01<00:00,  6.81it/s]\n",
      "  0%|          | 0/11 [00:00<?, ?it/s]"
     ]
    },
    {
     "name": "stdout",
     "output_type": "stream",
     "text": [
      "53\n"
     ]
    },
    {
     "name": "stderr",
     "output_type": "stream",
     "text": [
      "100%|██████████| 11/11 [00:05<00:00,  2.08it/s]\n",
      "100%|██████████| 11/11 [00:01<00:00,  6.89it/s]\n",
      "  0%|          | 0/11 [00:00<?, ?it/s]"
     ]
    },
    {
     "name": "stdout",
     "output_type": "stream",
     "text": [
      "54\n"
     ]
    },
    {
     "name": "stderr",
     "output_type": "stream",
     "text": [
      "100%|██████████| 11/11 [00:05<00:00,  1.83it/s]\n",
      "100%|██████████| 11/11 [00:01<00:00,  7.94it/s]\n",
      "  0%|          | 0/11 [00:00<?, ?it/s]"
     ]
    },
    {
     "name": "stdout",
     "output_type": "stream",
     "text": [
      "55\n"
     ]
    },
    {
     "name": "stderr",
     "output_type": "stream",
     "text": [
      "100%|██████████| 11/11 [00:05<00:00,  1.99it/s]\n",
      "100%|██████████| 11/11 [00:01<00:00,  6.54it/s]\n",
      "  0%|          | 0/11 [00:00<?, ?it/s]"
     ]
    },
    {
     "name": "stdout",
     "output_type": "stream",
     "text": [
      "56\n"
     ]
    },
    {
     "name": "stderr",
     "output_type": "stream",
     "text": [
      "100%|██████████| 11/11 [00:05<00:00,  2.10it/s]\n",
      "100%|██████████| 11/11 [00:01<00:00,  7.68it/s]\n",
      "  0%|          | 0/11 [00:00<?, ?it/s]"
     ]
    },
    {
     "name": "stdout",
     "output_type": "stream",
     "text": [
      "57\n"
     ]
    },
    {
     "name": "stderr",
     "output_type": "stream",
     "text": [
      "100%|██████████| 11/11 [00:05<00:00,  1.88it/s]\n",
      "100%|██████████| 11/11 [00:01<00:00,  6.84it/s]\n",
      "  0%|          | 0/11 [00:00<?, ?it/s]"
     ]
    },
    {
     "name": "stdout",
     "output_type": "stream",
     "text": [
      "58\n"
     ]
    },
    {
     "name": "stderr",
     "output_type": "stream",
     "text": [
      "100%|██████████| 11/11 [00:05<00:00,  1.80it/s]\n",
      "100%|██████████| 11/11 [00:01<00:00,  7.28it/s]\n",
      "  0%|          | 0/11 [00:00<?, ?it/s]"
     ]
    },
    {
     "name": "stdout",
     "output_type": "stream",
     "text": [
      "59\n"
     ]
    },
    {
     "name": "stderr",
     "output_type": "stream",
     "text": [
      "100%|██████████| 11/11 [00:05<00:00,  2.04it/s]\n",
      "100%|██████████| 11/11 [00:01<00:00,  6.91it/s]\n",
      "  0%|          | 0/11 [00:00<?, ?it/s]"
     ]
    },
    {
     "name": "stdout",
     "output_type": "stream",
     "text": [
      "60\n"
     ]
    },
    {
     "name": "stderr",
     "output_type": "stream",
     "text": [
      "100%|██████████| 11/11 [00:05<00:00,  1.95it/s]\n",
      "100%|██████████| 11/11 [00:01<00:00,  6.59it/s]\n",
      "  0%|          | 0/11 [00:00<?, ?it/s]"
     ]
    },
    {
     "name": "stdout",
     "output_type": "stream",
     "text": [
      "61\n"
     ]
    },
    {
     "name": "stderr",
     "output_type": "stream",
     "text": [
      "100%|██████████| 11/11 [00:05<00:00,  1.90it/s]\n",
      "100%|██████████| 11/11 [00:01<00:00,  6.26it/s]\n",
      "  0%|          | 0/11 [00:00<?, ?it/s]"
     ]
    },
    {
     "name": "stdout",
     "output_type": "stream",
     "text": [
      "62\n"
     ]
    },
    {
     "name": "stderr",
     "output_type": "stream",
     "text": [
      "100%|██████████| 11/11 [00:05<00:00,  1.92it/s]\n",
      "100%|██████████| 11/11 [00:01<00:00,  6.57it/s]\n",
      "  0%|          | 0/11 [00:00<?, ?it/s]"
     ]
    },
    {
     "name": "stdout",
     "output_type": "stream",
     "text": [
      "63\n"
     ]
    },
    {
     "name": "stderr",
     "output_type": "stream",
     "text": [
      "100%|██████████| 11/11 [00:06<00:00,  1.84it/s]\n",
      "100%|██████████| 11/11 [00:01<00:00,  6.26it/s]\n",
      "  0%|          | 0/11 [00:00<?, ?it/s]"
     ]
    },
    {
     "name": "stdout",
     "output_type": "stream",
     "text": [
      "64\n"
     ]
    },
    {
     "name": "stderr",
     "output_type": "stream",
     "text": [
      "100%|██████████| 11/11 [00:05<00:00,  1.95it/s]\n",
      "100%|██████████| 11/11 [00:01<00:00,  7.19it/s]\n",
      "  0%|          | 0/11 [00:00<?, ?it/s]"
     ]
    },
    {
     "name": "stdout",
     "output_type": "stream",
     "text": [
      "65\n"
     ]
    },
    {
     "name": "stderr",
     "output_type": "stream",
     "text": [
      "100%|██████████| 11/11 [00:05<00:00,  1.98it/s]\n",
      "100%|██████████| 11/11 [00:01<00:00,  7.21it/s]\n",
      "  0%|          | 0/11 [00:00<?, ?it/s]"
     ]
    },
    {
     "name": "stdout",
     "output_type": "stream",
     "text": [
      "66\n"
     ]
    },
    {
     "name": "stderr",
     "output_type": "stream",
     "text": [
      "100%|██████████| 11/11 [00:05<00:00,  2.08it/s]\n",
      "100%|██████████| 11/11 [00:01<00:00,  7.52it/s]\n",
      "  0%|          | 0/11 [00:00<?, ?it/s]"
     ]
    },
    {
     "name": "stdout",
     "output_type": "stream",
     "text": [
      "67\n"
     ]
    },
    {
     "name": "stderr",
     "output_type": "stream",
     "text": [
      "100%|██████████| 11/11 [00:04<00:00,  2.22it/s]\n",
      "100%|██████████| 11/11 [00:01<00:00,  6.91it/s]\n",
      "  0%|          | 0/11 [00:00<?, ?it/s]"
     ]
    },
    {
     "name": "stdout",
     "output_type": "stream",
     "text": [
      "68\n"
     ]
    },
    {
     "name": "stderr",
     "output_type": "stream",
     "text": [
      "100%|██████████| 11/11 [00:05<00:00,  1.99it/s]\n",
      "100%|██████████| 11/11 [00:01<00:00,  6.72it/s]\n",
      "  0%|          | 0/11 [00:00<?, ?it/s]"
     ]
    },
    {
     "name": "stdout",
     "output_type": "stream",
     "text": [
      "69\n"
     ]
    },
    {
     "name": "stderr",
     "output_type": "stream",
     "text": [
      "100%|██████████| 11/11 [00:05<00:00,  2.03it/s]\n",
      "100%|██████████| 11/11 [00:01<00:00,  7.03it/s]\n",
      "  0%|          | 0/11 [00:00<?, ?it/s]"
     ]
    },
    {
     "name": "stdout",
     "output_type": "stream",
     "text": [
      "70\n"
     ]
    },
    {
     "name": "stderr",
     "output_type": "stream",
     "text": [
      "100%|██████████| 11/11 [00:05<00:00,  1.95it/s]\n",
      "100%|██████████| 11/11 [00:01<00:00,  6.48it/s]\n",
      "  0%|          | 0/11 [00:00<?, ?it/s]"
     ]
    },
    {
     "name": "stdout",
     "output_type": "stream",
     "text": [
      "71\n"
     ]
    },
    {
     "name": "stderr",
     "output_type": "stream",
     "text": [
      "100%|██████████| 11/11 [00:05<00:00,  2.14it/s]\n",
      "100%|██████████| 11/11 [00:01<00:00,  6.39it/s]\n",
      "  0%|          | 0/11 [00:00<?, ?it/s]"
     ]
    },
    {
     "name": "stdout",
     "output_type": "stream",
     "text": [
      "72\n"
     ]
    },
    {
     "name": "stderr",
     "output_type": "stream",
     "text": [
      "100%|██████████| 11/11 [00:05<00:00,  1.90it/s]\n",
      "100%|██████████| 11/11 [00:01<00:00,  7.39it/s]\n",
      "  0%|          | 0/11 [00:00<?, ?it/s]"
     ]
    },
    {
     "name": "stdout",
     "output_type": "stream",
     "text": [
      "73\n"
     ]
    },
    {
     "name": "stderr",
     "output_type": "stream",
     "text": [
      "100%|██████████| 11/11 [00:05<00:00,  1.85it/s]\n",
      "100%|██████████| 11/11 [00:01<00:00,  7.06it/s]\n",
      "  0%|          | 0/11 [00:00<?, ?it/s]"
     ]
    },
    {
     "name": "stdout",
     "output_type": "stream",
     "text": [
      "74\n"
     ]
    },
    {
     "name": "stderr",
     "output_type": "stream",
     "text": [
      "100%|██████████| 11/11 [00:05<00:00,  2.04it/s]\n",
      "100%|██████████| 11/11 [00:01<00:00,  6.71it/s]\n",
      "  0%|          | 0/11 [00:00<?, ?it/s]"
     ]
    },
    {
     "name": "stdout",
     "output_type": "stream",
     "text": [
      "75\n"
     ]
    },
    {
     "name": "stderr",
     "output_type": "stream",
     "text": [
      "100%|██████████| 11/11 [00:05<00:00,  1.91it/s]\n",
      "100%|██████████| 11/11 [00:02<00:00,  5.64it/s]\n",
      "  0%|          | 0/11 [00:00<?, ?it/s]"
     ]
    },
    {
     "name": "stdout",
     "output_type": "stream",
     "text": [
      "76\n"
     ]
    },
    {
     "name": "stderr",
     "output_type": "stream",
     "text": [
      "100%|██████████| 11/11 [00:06<00:00,  1.84it/s]\n",
      "100%|██████████| 11/11 [00:01<00:00,  7.26it/s]\n",
      "  0%|          | 0/11 [00:00<?, ?it/s]"
     ]
    },
    {
     "name": "stdout",
     "output_type": "stream",
     "text": [
      "77\n"
     ]
    },
    {
     "name": "stderr",
     "output_type": "stream",
     "text": [
      "100%|██████████| 11/11 [00:05<00:00,  1.99it/s]\n",
      "100%|██████████| 11/11 [00:01<00:00,  7.19it/s]\n",
      "  0%|          | 0/11 [00:00<?, ?it/s]"
     ]
    },
    {
     "name": "stdout",
     "output_type": "stream",
     "text": [
      "78\n"
     ]
    },
    {
     "name": "stderr",
     "output_type": "stream",
     "text": [
      "100%|██████████| 11/11 [00:06<00:00,  1.87it/s]\n",
      "100%|██████████| 11/11 [00:01<00:00,  6.94it/s]\n",
      "  0%|          | 0/11 [00:00<?, ?it/s]"
     ]
    },
    {
     "name": "stdout",
     "output_type": "stream",
     "text": [
      "79\n"
     ]
    },
    {
     "name": "stderr",
     "output_type": "stream",
     "text": [
      "100%|██████████| 11/11 [00:06<00:00,  1.79it/s]\n",
      "100%|██████████| 11/11 [00:01<00:00,  6.65it/s]\n",
      "  0%|          | 0/11 [00:00<?, ?it/s]"
     ]
    },
    {
     "name": "stdout",
     "output_type": "stream",
     "text": [
      "80\n"
     ]
    },
    {
     "name": "stderr",
     "output_type": "stream",
     "text": [
      "100%|██████████| 11/11 [00:05<00:00,  1.99it/s]\n",
      "100%|██████████| 11/11 [00:01<00:00,  7.24it/s]\n",
      "  0%|          | 0/11 [00:00<?, ?it/s]"
     ]
    },
    {
     "name": "stdout",
     "output_type": "stream",
     "text": [
      "81\n"
     ]
    },
    {
     "name": "stderr",
     "output_type": "stream",
     "text": [
      "100%|██████████| 11/11 [00:05<00:00,  2.18it/s]\n",
      "100%|██████████| 11/11 [00:01<00:00,  6.86it/s]\n",
      "  0%|          | 0/11 [00:00<?, ?it/s]"
     ]
    },
    {
     "name": "stdout",
     "output_type": "stream",
     "text": [
      "82\n"
     ]
    },
    {
     "name": "stderr",
     "output_type": "stream",
     "text": [
      "100%|██████████| 11/11 [00:05<00:00,  2.24it/s]\n",
      "100%|██████████| 11/11 [00:01<00:00,  7.45it/s]\n",
      "  0%|          | 0/11 [00:00<?, ?it/s]"
     ]
    },
    {
     "name": "stdout",
     "output_type": "stream",
     "text": [
      "83\n"
     ]
    },
    {
     "name": "stderr",
     "output_type": "stream",
     "text": [
      "100%|██████████| 11/11 [00:06<00:00,  1.78it/s]\n",
      "100%|██████████| 11/11 [00:01<00:00,  6.51it/s]\n",
      "  0%|          | 0/11 [00:00<?, ?it/s]"
     ]
    },
    {
     "name": "stdout",
     "output_type": "stream",
     "text": [
      "84\n"
     ]
    },
    {
     "name": "stderr",
     "output_type": "stream",
     "text": [
      "100%|██████████| 11/11 [00:06<00:00,  1.82it/s]\n",
      "100%|██████████| 11/11 [00:01<00:00,  7.06it/s]\n",
      "  0%|          | 0/11 [00:00<?, ?it/s]"
     ]
    },
    {
     "name": "stdout",
     "output_type": "stream",
     "text": [
      "85\n"
     ]
    },
    {
     "name": "stderr",
     "output_type": "stream",
     "text": [
      "100%|██████████| 11/11 [00:05<00:00,  1.97it/s]\n",
      "100%|██████████| 11/11 [00:01<00:00,  6.62it/s]\n",
      "  0%|          | 0/11 [00:00<?, ?it/s]"
     ]
    },
    {
     "name": "stdout",
     "output_type": "stream",
     "text": [
      "86\n"
     ]
    },
    {
     "name": "stderr",
     "output_type": "stream",
     "text": [
      "100%|██████████| 11/11 [00:05<00:00,  1.78it/s]\n",
      "100%|██████████| 11/11 [00:01<00:00,  6.88it/s]\n",
      "  0%|          | 0/11 [00:00<?, ?it/s]"
     ]
    },
    {
     "name": "stdout",
     "output_type": "stream",
     "text": [
      "87\n"
     ]
    },
    {
     "name": "stderr",
     "output_type": "stream",
     "text": [
      "100%|██████████| 11/11 [00:06<00:00,  1.76it/s]\n",
      "100%|██████████| 11/11 [00:01<00:00,  6.86it/s]\n",
      "  0%|          | 0/11 [00:00<?, ?it/s]"
     ]
    },
    {
     "name": "stdout",
     "output_type": "stream",
     "text": [
      "88\n"
     ]
    },
    {
     "name": "stderr",
     "output_type": "stream",
     "text": [
      "100%|██████████| 11/11 [00:05<00:00,  1.95it/s]\n",
      "100%|██████████| 11/11 [00:01<00:00,  6.53it/s]\n",
      "  0%|          | 0/11 [00:00<?, ?it/s]"
     ]
    },
    {
     "name": "stdout",
     "output_type": "stream",
     "text": [
      "89\n"
     ]
    },
    {
     "name": "stderr",
     "output_type": "stream",
     "text": [
      "100%|██████████| 11/11 [00:05<00:00,  1.83it/s]\n",
      "100%|██████████| 11/11 [00:01<00:00,  6.29it/s]\n",
      "  0%|          | 0/11 [00:00<?, ?it/s]"
     ]
    },
    {
     "name": "stdout",
     "output_type": "stream",
     "text": [
      "90\n"
     ]
    },
    {
     "name": "stderr",
     "output_type": "stream",
     "text": [
      "100%|██████████| 11/11 [00:05<00:00,  2.05it/s]\n",
      "100%|██████████| 11/11 [00:01<00:00,  7.98it/s]\n",
      "  0%|          | 0/11 [00:00<?, ?it/s]"
     ]
    },
    {
     "name": "stdout",
     "output_type": "stream",
     "text": [
      "91\n"
     ]
    },
    {
     "name": "stderr",
     "output_type": "stream",
     "text": [
      "100%|██████████| 11/11 [00:05<00:00,  2.05it/s]\n",
      "100%|██████████| 11/11 [00:01<00:00,  7.13it/s]\n",
      "  0%|          | 0/11 [00:00<?, ?it/s]"
     ]
    },
    {
     "name": "stdout",
     "output_type": "stream",
     "text": [
      "92\n"
     ]
    },
    {
     "name": "stderr",
     "output_type": "stream",
     "text": [
      "100%|██████████| 11/11 [00:05<00:00,  2.18it/s]\n",
      "100%|██████████| 11/11 [00:01<00:00,  6.51it/s]\n",
      "  0%|          | 0/11 [00:00<?, ?it/s]"
     ]
    },
    {
     "name": "stdout",
     "output_type": "stream",
     "text": [
      "93\n"
     ]
    },
    {
     "name": "stderr",
     "output_type": "stream",
     "text": [
      "100%|██████████| 11/11 [00:05<00:00,  2.20it/s]\n",
      "100%|██████████| 11/11 [00:01<00:00,  7.37it/s]\n",
      "  0%|          | 0/11 [00:00<?, ?it/s]"
     ]
    },
    {
     "name": "stdout",
     "output_type": "stream",
     "text": [
      "94\n"
     ]
    },
    {
     "name": "stderr",
     "output_type": "stream",
     "text": [
      "100%|██████████| 11/11 [00:05<00:00,  2.09it/s]\n",
      "100%|██████████| 11/11 [00:01<00:00,  7.36it/s]\n",
      "  0%|          | 0/11 [00:00<?, ?it/s]"
     ]
    },
    {
     "name": "stdout",
     "output_type": "stream",
     "text": [
      "95\n"
     ]
    },
    {
     "name": "stderr",
     "output_type": "stream",
     "text": [
      "100%|██████████| 11/11 [00:05<00:00,  2.15it/s]\n",
      "100%|██████████| 11/11 [00:01<00:00,  7.27it/s]\n",
      "  0%|          | 0/11 [00:00<?, ?it/s]"
     ]
    },
    {
     "name": "stdout",
     "output_type": "stream",
     "text": [
      "96\n"
     ]
    },
    {
     "name": "stderr",
     "output_type": "stream",
     "text": [
      "100%|██████████| 11/11 [00:05<00:00,  2.04it/s]\n",
      "100%|██████████| 11/11 [00:01<00:00,  6.43it/s]\n",
      "  0%|          | 0/11 [00:00<?, ?it/s]"
     ]
    },
    {
     "name": "stdout",
     "output_type": "stream",
     "text": [
      "97\n"
     ]
    },
    {
     "name": "stderr",
     "output_type": "stream",
     "text": [
      "100%|██████████| 11/11 [00:05<00:00,  1.81it/s]\n",
      "100%|██████████| 11/11 [00:01<00:00,  6.87it/s]\n",
      "  0%|          | 0/11 [00:00<?, ?it/s]"
     ]
    },
    {
     "name": "stdout",
     "output_type": "stream",
     "text": [
      "98\n"
     ]
    },
    {
     "name": "stderr",
     "output_type": "stream",
     "text": [
      "100%|██████████| 11/11 [00:05<00:00,  1.94it/s]\n",
      "100%|██████████| 11/11 [00:01<00:00,  6.97it/s]\n",
      "  0%|          | 0/11 [00:00<?, ?it/s]"
     ]
    },
    {
     "name": "stdout",
     "output_type": "stream",
     "text": [
      "99\n"
     ]
    },
    {
     "name": "stderr",
     "output_type": "stream",
     "text": [
      "100%|██████████| 11/11 [00:05<00:00,  1.75it/s]\n",
      "100%|██████████| 11/11 [00:01<00:00,  6.45it/s]\n",
      "  0%|          | 0/11 [00:00<?, ?it/s]"
     ]
    },
    {
     "name": "stdout",
     "output_type": "stream",
     "text": [
      "100\n"
     ]
    },
    {
     "name": "stderr",
     "output_type": "stream",
     "text": [
      "100%|██████████| 11/11 [00:06<00:00,  1.71it/s]\n",
      "100%|██████████| 11/11 [00:01<00:00,  6.99it/s]\n",
      "  0%|          | 0/11 [00:00<?, ?it/s]"
     ]
    },
    {
     "name": "stdout",
     "output_type": "stream",
     "text": [
      "101\n"
     ]
    },
    {
     "name": "stderr",
     "output_type": "stream",
     "text": [
      "100%|██████████| 11/11 [00:05<00:00,  1.91it/s]\n",
      "100%|██████████| 11/11 [00:01<00:00,  7.49it/s]\n",
      "  0%|          | 0/11 [00:00<?, ?it/s]"
     ]
    },
    {
     "name": "stdout",
     "output_type": "stream",
     "text": [
      "102\n"
     ]
    },
    {
     "name": "stderr",
     "output_type": "stream",
     "text": [
      "100%|██████████| 11/11 [00:05<00:00,  1.90it/s]\n",
      "100%|██████████| 11/11 [00:01<00:00,  6.60it/s]\n",
      "  0%|          | 0/11 [00:00<?, ?it/s]"
     ]
    },
    {
     "name": "stdout",
     "output_type": "stream",
     "text": [
      "103\n"
     ]
    },
    {
     "name": "stderr",
     "output_type": "stream",
     "text": [
      "100%|██████████| 11/11 [00:05<00:00,  1.99it/s]\n",
      "100%|██████████| 11/11 [00:01<00:00,  6.47it/s]\n",
      "  0%|          | 0/11 [00:00<?, ?it/s]"
     ]
    },
    {
     "name": "stdout",
     "output_type": "stream",
     "text": [
      "104\n"
     ]
    },
    {
     "name": "stderr",
     "output_type": "stream",
     "text": [
      "100%|██████████| 11/11 [00:05<00:00,  2.05it/s]\n",
      "100%|██████████| 11/11 [00:01<00:00,  7.32it/s]\n",
      "  0%|          | 0/11 [00:00<?, ?it/s]"
     ]
    },
    {
     "name": "stdout",
     "output_type": "stream",
     "text": [
      "105\n"
     ]
    },
    {
     "name": "stderr",
     "output_type": "stream",
     "text": [
      "100%|██████████| 11/11 [00:04<00:00,  2.24it/s]\n",
      "100%|██████████| 11/11 [00:01<00:00,  6.66it/s]\n",
      "  0%|          | 0/11 [00:00<?, ?it/s]"
     ]
    },
    {
     "name": "stdout",
     "output_type": "stream",
     "text": [
      "106\n"
     ]
    },
    {
     "name": "stderr",
     "output_type": "stream",
     "text": [
      "100%|██████████| 11/11 [00:05<00:00,  2.16it/s]\n",
      "100%|██████████| 11/11 [00:01<00:00,  6.61it/s]\n",
      "  0%|          | 0/11 [00:00<?, ?it/s]"
     ]
    },
    {
     "name": "stdout",
     "output_type": "stream",
     "text": [
      "107\n"
     ]
    },
    {
     "name": "stderr",
     "output_type": "stream",
     "text": [
      "100%|██████████| 11/11 [00:06<00:00,  1.82it/s]\n",
      "100%|██████████| 11/11 [00:01<00:00,  6.59it/s]\n",
      "  0%|          | 0/11 [00:00<?, ?it/s]"
     ]
    },
    {
     "name": "stdout",
     "output_type": "stream",
     "text": [
      "108\n"
     ]
    },
    {
     "name": "stderr",
     "output_type": "stream",
     "text": [
      "100%|██████████| 11/11 [00:06<00:00,  1.80it/s]\n",
      "100%|██████████| 11/11 [00:01<00:00,  7.03it/s]\n",
      "  0%|          | 0/11 [00:00<?, ?it/s]"
     ]
    },
    {
     "name": "stdout",
     "output_type": "stream",
     "text": [
      "109\n"
     ]
    },
    {
     "name": "stderr",
     "output_type": "stream",
     "text": [
      "100%|██████████| 11/11 [00:05<00:00,  2.08it/s]\n",
      "100%|██████████| 11/11 [00:01<00:00,  7.25it/s]\n",
      "  0%|          | 0/11 [00:00<?, ?it/s]"
     ]
    },
    {
     "name": "stdout",
     "output_type": "stream",
     "text": [
      "110\n"
     ]
    },
    {
     "name": "stderr",
     "output_type": "stream",
     "text": [
      "100%|██████████| 11/11 [00:05<00:00,  1.73it/s]\n",
      "100%|██████████| 11/11 [00:01<00:00,  7.44it/s]\n",
      "  0%|          | 0/11 [00:00<?, ?it/s]"
     ]
    },
    {
     "name": "stdout",
     "output_type": "stream",
     "text": [
      "111\n"
     ]
    },
    {
     "name": "stderr",
     "output_type": "stream",
     "text": [
      "100%|██████████| 11/11 [00:05<00:00,  2.17it/s]\n",
      "100%|██████████| 11/11 [00:01<00:00,  7.52it/s]\n",
      "  0%|          | 0/11 [00:00<?, ?it/s]"
     ]
    },
    {
     "name": "stdout",
     "output_type": "stream",
     "text": [
      "112\n"
     ]
    },
    {
     "name": "stderr",
     "output_type": "stream",
     "text": [
      "100%|██████████| 11/11 [00:05<00:00,  2.08it/s]\n",
      "100%|██████████| 11/11 [00:01<00:00,  7.02it/s]\n",
      "  0%|          | 0/11 [00:00<?, ?it/s]"
     ]
    },
    {
     "name": "stdout",
     "output_type": "stream",
     "text": [
      "113\n"
     ]
    },
    {
     "name": "stderr",
     "output_type": "stream",
     "text": [
      "100%|██████████| 11/11 [00:05<00:00,  2.16it/s]\n",
      "100%|██████████| 11/11 [00:01<00:00,  7.02it/s]\n",
      "  0%|          | 0/11 [00:00<?, ?it/s]"
     ]
    },
    {
     "name": "stdout",
     "output_type": "stream",
     "text": [
      "114\n"
     ]
    },
    {
     "name": "stderr",
     "output_type": "stream",
     "text": [
      "100%|██████████| 11/11 [00:04<00:00,  2.27it/s]\n",
      "100%|██████████| 11/11 [00:01<00:00,  6.57it/s]\n",
      "  0%|          | 0/11 [00:00<?, ?it/s]"
     ]
    },
    {
     "name": "stdout",
     "output_type": "stream",
     "text": [
      "115\n"
     ]
    },
    {
     "name": "stderr",
     "output_type": "stream",
     "text": [
      "100%|██████████| 11/11 [00:05<00:00,  2.01it/s]\n",
      "100%|██████████| 11/11 [00:01<00:00,  7.27it/s]\n",
      "  0%|          | 0/11 [00:00<?, ?it/s]"
     ]
    },
    {
     "name": "stdout",
     "output_type": "stream",
     "text": [
      "116\n"
     ]
    },
    {
     "name": "stderr",
     "output_type": "stream",
     "text": [
      "100%|██████████| 11/11 [00:05<00:00,  1.91it/s]\n",
      "100%|██████████| 11/11 [00:01<00:00,  7.42it/s]\n",
      "  0%|          | 0/11 [00:00<?, ?it/s]"
     ]
    },
    {
     "name": "stdout",
     "output_type": "stream",
     "text": [
      "117\n"
     ]
    },
    {
     "name": "stderr",
     "output_type": "stream",
     "text": [
      "100%|██████████| 11/11 [00:05<00:00,  1.88it/s]\n",
      "100%|██████████| 11/11 [00:01<00:00,  7.28it/s]\n",
      "  0%|          | 0/11 [00:00<?, ?it/s]"
     ]
    },
    {
     "name": "stdout",
     "output_type": "stream",
     "text": [
      "118\n"
     ]
    },
    {
     "name": "stderr",
     "output_type": "stream",
     "text": [
      "100%|██████████| 11/11 [00:05<00:00,  1.90it/s]\n",
      "100%|██████████| 11/11 [00:01<00:00,  7.26it/s]\n",
      "  0%|          | 0/11 [00:00<?, ?it/s]"
     ]
    },
    {
     "name": "stdout",
     "output_type": "stream",
     "text": [
      "119\n"
     ]
    },
    {
     "name": "stderr",
     "output_type": "stream",
     "text": [
      "100%|██████████| 11/11 [00:05<00:00,  1.86it/s]\n",
      "100%|██████████| 11/11 [00:01<00:00,  7.01it/s]\n",
      "  0%|          | 0/11 [00:00<?, ?it/s]"
     ]
    },
    {
     "name": "stdout",
     "output_type": "stream",
     "text": [
      "120\n"
     ]
    },
    {
     "name": "stderr",
     "output_type": "stream",
     "text": [
      "100%|██████████| 11/11 [00:06<00:00,  1.86it/s]\n",
      "100%|██████████| 11/11 [00:01<00:00,  7.17it/s]\n",
      "  0%|          | 0/11 [00:00<?, ?it/s]"
     ]
    },
    {
     "name": "stdout",
     "output_type": "stream",
     "text": [
      "121\n"
     ]
    },
    {
     "name": "stderr",
     "output_type": "stream",
     "text": [
      "100%|██████████| 11/11 [00:05<00:00,  1.96it/s]\n",
      "100%|██████████| 11/11 [00:01<00:00,  6.13it/s]\n",
      "  0%|          | 0/11 [00:00<?, ?it/s]"
     ]
    },
    {
     "name": "stdout",
     "output_type": "stream",
     "text": [
      "122\n"
     ]
    },
    {
     "name": "stderr",
     "output_type": "stream",
     "text": [
      "100%|██████████| 11/11 [00:05<00:00,  1.91it/s]\n",
      "100%|██████████| 11/11 [00:01<00:00,  6.84it/s]\n",
      "  0%|          | 0/11 [00:00<?, ?it/s]"
     ]
    },
    {
     "name": "stdout",
     "output_type": "stream",
     "text": [
      "123\n"
     ]
    },
    {
     "name": "stderr",
     "output_type": "stream",
     "text": [
      "100%|██████████| 11/11 [00:05<00:00,  2.04it/s]\n",
      "100%|██████████| 11/11 [00:01<00:00,  7.55it/s]\n",
      "  0%|          | 0/11 [00:00<?, ?it/s]"
     ]
    },
    {
     "name": "stdout",
     "output_type": "stream",
     "text": [
      "124\n"
     ]
    },
    {
     "name": "stderr",
     "output_type": "stream",
     "text": [
      "100%|██████████| 11/11 [00:06<00:00,  1.71it/s]\n",
      "100%|██████████| 11/11 [00:01<00:00,  6.50it/s]\n",
      "  0%|          | 0/11 [00:00<?, ?it/s]"
     ]
    },
    {
     "name": "stdout",
     "output_type": "stream",
     "text": [
      "125\n"
     ]
    },
    {
     "name": "stderr",
     "output_type": "stream",
     "text": [
      "100%|██████████| 11/11 [00:05<00:00,  2.00it/s]\n",
      "100%|██████████| 11/11 [00:01<00:00,  7.13it/s]\n",
      "  0%|          | 0/11 [00:00<?, ?it/s]"
     ]
    },
    {
     "name": "stdout",
     "output_type": "stream",
     "text": [
      "126\n"
     ]
    },
    {
     "name": "stderr",
     "output_type": "stream",
     "text": [
      "100%|██████████| 11/11 [00:05<00:00,  2.07it/s]\n",
      "100%|██████████| 11/11 [00:01<00:00,  6.61it/s]\n",
      "  0%|          | 0/11 [00:00<?, ?it/s]"
     ]
    },
    {
     "name": "stdout",
     "output_type": "stream",
     "text": [
      "127\n"
     ]
    },
    {
     "name": "stderr",
     "output_type": "stream",
     "text": [
      "100%|██████████| 11/11 [00:04<00:00,  2.34it/s]\n",
      "100%|██████████| 11/11 [00:01<00:00,  5.87it/s]\n",
      "  0%|          | 0/11 [00:00<?, ?it/s]"
     ]
    },
    {
     "name": "stdout",
     "output_type": "stream",
     "text": [
      "128\n"
     ]
    },
    {
     "name": "stderr",
     "output_type": "stream",
     "text": [
      "100%|██████████| 11/11 [00:06<00:00,  1.99it/s]\n",
      "100%|██████████| 11/11 [00:01<00:00,  7.15it/s]\n",
      "  0%|          | 0/11 [00:00<?, ?it/s]"
     ]
    },
    {
     "name": "stdout",
     "output_type": "stream",
     "text": [
      "129\n"
     ]
    },
    {
     "name": "stderr",
     "output_type": "stream",
     "text": [
      "100%|██████████| 11/11 [00:05<00:00,  2.13it/s]\n",
      "100%|██████████| 11/11 [00:01<00:00,  7.26it/s]\n",
      "  0%|          | 0/11 [00:00<?, ?it/s]"
     ]
    },
    {
     "name": "stdout",
     "output_type": "stream",
     "text": [
      "130\n"
     ]
    },
    {
     "name": "stderr",
     "output_type": "stream",
     "text": [
      "100%|██████████| 11/11 [00:05<00:00,  1.94it/s]\n",
      "100%|██████████| 11/11 [00:01<00:00,  7.17it/s]\n",
      "  0%|          | 0/11 [00:00<?, ?it/s]"
     ]
    },
    {
     "name": "stdout",
     "output_type": "stream",
     "text": [
      "131\n"
     ]
    },
    {
     "name": "stderr",
     "output_type": "stream",
     "text": [
      "100%|██████████| 11/11 [00:05<00:00,  2.16it/s]\n",
      "100%|██████████| 11/11 [00:01<00:00,  7.34it/s]\n",
      "  0%|          | 0/11 [00:00<?, ?it/s]"
     ]
    },
    {
     "name": "stdout",
     "output_type": "stream",
     "text": [
      "132\n"
     ]
    },
    {
     "name": "stderr",
     "output_type": "stream",
     "text": [
      "100%|██████████| 11/11 [00:05<00:00,  1.99it/s]\n",
      "100%|██████████| 11/11 [00:01<00:00,  7.43it/s]\n",
      "  0%|          | 0/11 [00:00<?, ?it/s]"
     ]
    },
    {
     "name": "stdout",
     "output_type": "stream",
     "text": [
      "133\n"
     ]
    },
    {
     "name": "stderr",
     "output_type": "stream",
     "text": [
      "100%|██████████| 11/11 [00:05<00:00,  2.21it/s]\n",
      "100%|██████████| 11/11 [00:01<00:00,  6.58it/s]\n",
      "  0%|          | 0/11 [00:00<?, ?it/s]"
     ]
    },
    {
     "name": "stdout",
     "output_type": "stream",
     "text": [
      "134\n"
     ]
    },
    {
     "name": "stderr",
     "output_type": "stream",
     "text": [
      "100%|██████████| 11/11 [00:05<00:00,  2.10it/s]\n",
      "100%|██████████| 11/11 [00:01<00:00,  6.65it/s]\n",
      "  0%|          | 0/11 [00:00<?, ?it/s]"
     ]
    },
    {
     "name": "stdout",
     "output_type": "stream",
     "text": [
      "135\n"
     ]
    },
    {
     "name": "stderr",
     "output_type": "stream",
     "text": [
      "100%|██████████| 11/11 [00:05<00:00,  1.95it/s]\n",
      "100%|██████████| 11/11 [00:01<00:00,  7.44it/s]\n",
      "  0%|          | 0/11 [00:00<?, ?it/s]"
     ]
    },
    {
     "name": "stdout",
     "output_type": "stream",
     "text": [
      "136\n"
     ]
    },
    {
     "name": "stderr",
     "output_type": "stream",
     "text": [
      "100%|██████████| 11/11 [00:05<00:00,  2.07it/s]\n",
      "100%|██████████| 11/11 [00:01<00:00,  6.62it/s]\n",
      "  0%|          | 0/11 [00:00<?, ?it/s]"
     ]
    },
    {
     "name": "stdout",
     "output_type": "stream",
     "text": [
      "137\n"
     ]
    },
    {
     "name": "stderr",
     "output_type": "stream",
     "text": [
      "100%|██████████| 11/11 [00:06<00:00,  1.66it/s]\n",
      "100%|██████████| 11/11 [00:01<00:00,  6.83it/s]\n",
      "  0%|          | 0/11 [00:00<?, ?it/s]"
     ]
    },
    {
     "name": "stdout",
     "output_type": "stream",
     "text": [
      "138\n"
     ]
    },
    {
     "name": "stderr",
     "output_type": "stream",
     "text": [
      "100%|██████████| 11/11 [00:05<00:00,  1.83it/s]\n",
      "100%|██████████| 11/11 [00:01<00:00,  6.75it/s]\n",
      "  0%|          | 0/11 [00:00<?, ?it/s]"
     ]
    },
    {
     "name": "stdout",
     "output_type": "stream",
     "text": [
      "139\n"
     ]
    },
    {
     "name": "stderr",
     "output_type": "stream",
     "text": [
      "100%|██████████| 11/11 [00:07<00:00,  1.70it/s]\n",
      "100%|██████████| 11/11 [00:01<00:00,  5.93it/s]\n",
      "  0%|          | 0/11 [00:00<?, ?it/s]"
     ]
    },
    {
     "name": "stdout",
     "output_type": "stream",
     "text": [
      "140\n"
     ]
    },
    {
     "name": "stderr",
     "output_type": "stream",
     "text": [
      "100%|██████████| 11/11 [00:06<00:00,  1.92it/s]\n",
      "100%|██████████| 11/11 [00:01<00:00,  7.12it/s]\n",
      "  0%|          | 0/11 [00:00<?, ?it/s]"
     ]
    },
    {
     "name": "stdout",
     "output_type": "stream",
     "text": [
      "141\n"
     ]
    },
    {
     "name": "stderr",
     "output_type": "stream",
     "text": [
      "100%|██████████| 11/11 [00:05<00:00,  1.91it/s]\n",
      "100%|██████████| 11/11 [00:01<00:00,  6.52it/s]\n",
      "  0%|          | 0/11 [00:00<?, ?it/s]"
     ]
    },
    {
     "name": "stdout",
     "output_type": "stream",
     "text": [
      "142\n"
     ]
    },
    {
     "name": "stderr",
     "output_type": "stream",
     "text": [
      "100%|██████████| 11/11 [00:05<00:00,  1.89it/s]\n",
      "100%|██████████| 11/11 [00:01<00:00,  7.55it/s]\n",
      "  0%|          | 0/11 [00:00<?, ?it/s]"
     ]
    },
    {
     "name": "stdout",
     "output_type": "stream",
     "text": [
      "143\n"
     ]
    },
    {
     "name": "stderr",
     "output_type": "stream",
     "text": [
      "100%|██████████| 11/11 [00:05<00:00,  2.02it/s]\n",
      "100%|██████████| 11/11 [00:01<00:00,  6.87it/s]\n",
      "  0%|          | 0/11 [00:00<?, ?it/s]"
     ]
    },
    {
     "name": "stdout",
     "output_type": "stream",
     "text": [
      "144\n"
     ]
    },
    {
     "name": "stderr",
     "output_type": "stream",
     "text": [
      "100%|██████████| 11/11 [00:06<00:00,  1.81it/s]\n",
      "100%|██████████| 11/11 [00:01<00:00,  6.84it/s]\n",
      "  0%|          | 0/11 [00:00<?, ?it/s]"
     ]
    },
    {
     "name": "stdout",
     "output_type": "stream",
     "text": [
      "145\n"
     ]
    },
    {
     "name": "stderr",
     "output_type": "stream",
     "text": [
      "100%|██████████| 11/11 [00:05<00:00,  2.01it/s]\n",
      "100%|██████████| 11/11 [00:01<00:00,  6.61it/s]\n",
      "  0%|          | 0/11 [00:00<?, ?it/s]"
     ]
    },
    {
     "name": "stdout",
     "output_type": "stream",
     "text": [
      "146\n"
     ]
    },
    {
     "name": "stderr",
     "output_type": "stream",
     "text": [
      "100%|██████████| 11/11 [00:05<00:00,  1.82it/s]\n",
      "100%|██████████| 11/11 [00:01<00:00,  7.00it/s]\n",
      "  0%|          | 0/11 [00:00<?, ?it/s]"
     ]
    },
    {
     "name": "stdout",
     "output_type": "stream",
     "text": [
      "147\n"
     ]
    },
    {
     "name": "stderr",
     "output_type": "stream",
     "text": [
      "100%|██████████| 11/11 [00:05<00:00,  2.03it/s]\n",
      "100%|██████████| 11/11 [00:01<00:00,  6.67it/s]\n",
      "  0%|          | 0/11 [00:00<?, ?it/s]"
     ]
    },
    {
     "name": "stdout",
     "output_type": "stream",
     "text": [
      "148\n"
     ]
    },
    {
     "name": "stderr",
     "output_type": "stream",
     "text": [
      "100%|██████████| 11/11 [00:05<00:00,  1.89it/s]\n",
      "100%|██████████| 11/11 [00:01<00:00,  7.43it/s]\n",
      "  0%|          | 0/11 [00:00<?, ?it/s]"
     ]
    },
    {
     "name": "stdout",
     "output_type": "stream",
     "text": [
      "149\n"
     ]
    },
    {
     "name": "stderr",
     "output_type": "stream",
     "text": [
      "100%|██████████| 11/11 [00:05<00:00,  1.96it/s]\n",
      "100%|██████████| 11/11 [00:01<00:00,  7.17it/s]\n",
      "  0%|          | 0/11 [00:00<?, ?it/s]"
     ]
    },
    {
     "name": "stdout",
     "output_type": "stream",
     "text": [
      "150\n"
     ]
    },
    {
     "name": "stderr",
     "output_type": "stream",
     "text": [
      "100%|██████████| 11/11 [00:05<00:00,  1.92it/s]\n",
      "100%|██████████| 11/11 [00:01<00:00,  6.88it/s]\n",
      "  0%|          | 0/11 [00:00<?, ?it/s]"
     ]
    },
    {
     "name": "stdout",
     "output_type": "stream",
     "text": [
      "151\n"
     ]
    },
    {
     "name": "stderr",
     "output_type": "stream",
     "text": [
      "100%|██████████| 11/11 [00:06<00:00,  1.85it/s]\n",
      "100%|██████████| 11/11 [00:01<00:00,  6.74it/s]\n",
      "  0%|          | 0/11 [00:00<?, ?it/s]"
     ]
    },
    {
     "name": "stdout",
     "output_type": "stream",
     "text": [
      "152\n"
     ]
    },
    {
     "name": "stderr",
     "output_type": "stream",
     "text": [
      "100%|██████████| 11/11 [00:05<00:00,  2.10it/s]\n",
      "100%|██████████| 11/11 [00:01<00:00,  7.20it/s]\n",
      "  0%|          | 0/11 [00:00<?, ?it/s]"
     ]
    },
    {
     "name": "stdout",
     "output_type": "stream",
     "text": [
      "153\n"
     ]
    },
    {
     "name": "stderr",
     "output_type": "stream",
     "text": [
      "100%|██████████| 11/11 [00:05<00:00,  2.07it/s]\n",
      "100%|██████████| 11/11 [00:01<00:00,  7.31it/s]\n",
      "  0%|          | 0/11 [00:00<?, ?it/s]"
     ]
    },
    {
     "name": "stdout",
     "output_type": "stream",
     "text": [
      "154\n"
     ]
    },
    {
     "name": "stderr",
     "output_type": "stream",
     "text": [
      "100%|██████████| 11/11 [00:06<00:00,  1.75it/s]\n",
      "100%|██████████| 11/11 [00:01<00:00,  6.51it/s]\n",
      "  0%|          | 0/11 [00:00<?, ?it/s]"
     ]
    },
    {
     "name": "stdout",
     "output_type": "stream",
     "text": [
      "155\n"
     ]
    },
    {
     "name": "stderr",
     "output_type": "stream",
     "text": [
      "100%|██████████| 11/11 [00:05<00:00,  1.83it/s]\n",
      "100%|██████████| 11/11 [00:01<00:00,  6.81it/s]\n",
      "  0%|          | 0/11 [00:00<?, ?it/s]"
     ]
    },
    {
     "name": "stdout",
     "output_type": "stream",
     "text": [
      "156\n"
     ]
    },
    {
     "name": "stderr",
     "output_type": "stream",
     "text": [
      "100%|██████████| 11/11 [00:05<00:00,  1.92it/s]\n",
      "100%|██████████| 11/11 [00:01<00:00,  7.45it/s]\n",
      "  0%|          | 0/11 [00:00<?, ?it/s]"
     ]
    },
    {
     "name": "stdout",
     "output_type": "stream",
     "text": [
      "157\n"
     ]
    },
    {
     "name": "stderr",
     "output_type": "stream",
     "text": [
      "100%|██████████| 11/11 [00:06<00:00,  1.76it/s]\n",
      "100%|██████████| 11/11 [00:01<00:00,  6.54it/s]\n",
      "  0%|          | 0/11 [00:00<?, ?it/s]"
     ]
    },
    {
     "name": "stdout",
     "output_type": "stream",
     "text": [
      "158\n"
     ]
    },
    {
     "name": "stderr",
     "output_type": "stream",
     "text": [
      "100%|██████████| 11/11 [00:05<00:00,  1.91it/s]\n",
      "100%|██████████| 11/11 [00:01<00:00,  6.49it/s]\n",
      "  0%|          | 0/11 [00:00<?, ?it/s]"
     ]
    },
    {
     "name": "stdout",
     "output_type": "stream",
     "text": [
      "159\n"
     ]
    },
    {
     "name": "stderr",
     "output_type": "stream",
     "text": [
      "100%|██████████| 11/11 [00:05<00:00,  1.93it/s]\n",
      "100%|██████████| 11/11 [00:01<00:00,  6.85it/s]\n",
      "  0%|          | 0/11 [00:00<?, ?it/s]"
     ]
    },
    {
     "name": "stdout",
     "output_type": "stream",
     "text": [
      "160\n"
     ]
    },
    {
     "name": "stderr",
     "output_type": "stream",
     "text": [
      "100%|██████████| 11/11 [00:05<00:00,  2.02it/s]\n",
      "100%|██████████| 11/11 [00:01<00:00,  6.61it/s]\n",
      "  0%|          | 0/11 [00:00<?, ?it/s]"
     ]
    },
    {
     "name": "stdout",
     "output_type": "stream",
     "text": [
      "161\n"
     ]
    },
    {
     "name": "stderr",
     "output_type": "stream",
     "text": [
      "100%|██████████| 11/11 [00:05<00:00,  2.08it/s]\n",
      "100%|██████████| 11/11 [00:01<00:00,  6.44it/s]\n",
      "  0%|          | 0/11 [00:00<?, ?it/s]"
     ]
    },
    {
     "name": "stdout",
     "output_type": "stream",
     "text": [
      "162\n"
     ]
    },
    {
     "name": "stderr",
     "output_type": "stream",
     "text": [
      "100%|██████████| 11/11 [00:06<00:00,  1.67it/s]\n",
      "100%|██████████| 11/11 [00:01<00:00,  6.43it/s]\n",
      "  0%|          | 0/11 [00:00<?, ?it/s]"
     ]
    },
    {
     "name": "stdout",
     "output_type": "stream",
     "text": [
      "163\n"
     ]
    },
    {
     "name": "stderr",
     "output_type": "stream",
     "text": [
      "100%|██████████| 11/11 [00:06<00:00,  1.64it/s]\n",
      "100%|██████████| 11/11 [00:01<00:00,  6.84it/s]\n",
      "  0%|          | 0/11 [00:00<?, ?it/s]"
     ]
    },
    {
     "name": "stdout",
     "output_type": "stream",
     "text": [
      "164\n"
     ]
    },
    {
     "name": "stderr",
     "output_type": "stream",
     "text": [
      "100%|██████████| 11/11 [00:06<00:00,  1.88it/s]\n",
      "100%|██████████| 11/11 [00:01<00:00,  5.37it/s]\n",
      "  0%|          | 0/11 [00:00<?, ?it/s]"
     ]
    },
    {
     "name": "stdout",
     "output_type": "stream",
     "text": [
      "165\n"
     ]
    },
    {
     "name": "stderr",
     "output_type": "stream",
     "text": [
      "100%|██████████| 11/11 [00:05<00:00,  1.94it/s]\n",
      "100%|██████████| 11/11 [00:01<00:00,  7.30it/s]\n",
      "  0%|          | 0/11 [00:00<?, ?it/s]"
     ]
    },
    {
     "name": "stdout",
     "output_type": "stream",
     "text": [
      "166\n"
     ]
    },
    {
     "name": "stderr",
     "output_type": "stream",
     "text": [
      "100%|██████████| 11/11 [00:06<00:00,  1.60it/s]\n",
      "100%|██████████| 11/11 [00:01<00:00,  7.12it/s]\n",
      "  0%|          | 0/11 [00:00<?, ?it/s]"
     ]
    },
    {
     "name": "stdout",
     "output_type": "stream",
     "text": [
      "167\n"
     ]
    },
    {
     "name": "stderr",
     "output_type": "stream",
     "text": [
      "100%|██████████| 11/11 [00:06<00:00,  1.79it/s]\n",
      "100%|██████████| 11/11 [00:01<00:00,  6.66it/s]\n",
      "  0%|          | 0/11 [00:00<?, ?it/s]"
     ]
    },
    {
     "name": "stdout",
     "output_type": "stream",
     "text": [
      "168\n"
     ]
    },
    {
     "name": "stderr",
     "output_type": "stream",
     "text": [
      "100%|██████████| 11/11 [00:05<00:00,  1.94it/s]\n",
      "100%|██████████| 11/11 [00:01<00:00,  6.84it/s]\n",
      "  0%|          | 0/11 [00:00<?, ?it/s]"
     ]
    },
    {
     "name": "stdout",
     "output_type": "stream",
     "text": [
      "169\n"
     ]
    },
    {
     "name": "stderr",
     "output_type": "stream",
     "text": [
      "100%|██████████| 11/11 [00:05<00:00,  1.92it/s]\n",
      "100%|██████████| 11/11 [00:01<00:00,  6.94it/s]\n",
      "  0%|          | 0/11 [00:00<?, ?it/s]"
     ]
    },
    {
     "name": "stdout",
     "output_type": "stream",
     "text": [
      "170\n"
     ]
    },
    {
     "name": "stderr",
     "output_type": "stream",
     "text": [
      "100%|██████████| 11/11 [00:05<00:00,  1.94it/s]\n",
      "100%|██████████| 11/11 [00:01<00:00,  6.87it/s]\n",
      "  0%|          | 0/11 [00:00<?, ?it/s]"
     ]
    },
    {
     "name": "stdout",
     "output_type": "stream",
     "text": [
      "171\n"
     ]
    },
    {
     "name": "stderr",
     "output_type": "stream",
     "text": [
      "100%|██████████| 11/11 [00:05<00:00,  1.80it/s]\n",
      "100%|██████████| 11/11 [00:01<00:00,  6.93it/s]\n",
      "  0%|          | 0/11 [00:00<?, ?it/s]"
     ]
    },
    {
     "name": "stdout",
     "output_type": "stream",
     "text": [
      "172\n"
     ]
    },
    {
     "name": "stderr",
     "output_type": "stream",
     "text": [
      "100%|██████████| 11/11 [00:05<00:00,  1.78it/s]\n",
      "100%|██████████| 11/11 [00:01<00:00,  6.78it/s]\n",
      "  0%|          | 0/11 [00:00<?, ?it/s]"
     ]
    },
    {
     "name": "stdout",
     "output_type": "stream",
     "text": [
      "173\n"
     ]
    },
    {
     "name": "stderr",
     "output_type": "stream",
     "text": [
      "100%|██████████| 11/11 [00:06<00:00,  1.76it/s]\n",
      "100%|██████████| 11/11 [00:01<00:00,  6.74it/s]\n",
      "  0%|          | 0/11 [00:00<?, ?it/s]"
     ]
    },
    {
     "name": "stdout",
     "output_type": "stream",
     "text": [
      "174\n"
     ]
    },
    {
     "name": "stderr",
     "output_type": "stream",
     "text": [
      "100%|██████████| 11/11 [00:05<00:00,  2.02it/s]\n",
      "100%|██████████| 11/11 [00:01<00:00,  6.92it/s]\n",
      "  0%|          | 0/11 [00:00<?, ?it/s]"
     ]
    },
    {
     "name": "stdout",
     "output_type": "stream",
     "text": [
      "175\n"
     ]
    },
    {
     "name": "stderr",
     "output_type": "stream",
     "text": [
      "100%|██████████| 11/11 [00:05<00:00,  1.82it/s]\n",
      "100%|██████████| 11/11 [00:01<00:00,  6.90it/s]\n",
      "  0%|          | 0/11 [00:00<?, ?it/s]"
     ]
    },
    {
     "name": "stdout",
     "output_type": "stream",
     "text": [
      "176\n"
     ]
    },
    {
     "name": "stderr",
     "output_type": "stream",
     "text": [
      "100%|██████████| 11/11 [00:05<00:00,  2.02it/s]\n",
      "100%|██████████| 11/11 [00:01<00:00,  6.92it/s]\n",
      "  0%|          | 0/11 [00:00<?, ?it/s]"
     ]
    },
    {
     "name": "stdout",
     "output_type": "stream",
     "text": [
      "177\n"
     ]
    },
    {
     "name": "stderr",
     "output_type": "stream",
     "text": [
      "100%|██████████| 11/11 [00:05<00:00,  1.84it/s]\n",
      "100%|██████████| 11/11 [00:01<00:00,  6.87it/s]\n",
      "  0%|          | 0/11 [00:00<?, ?it/s]"
     ]
    },
    {
     "name": "stdout",
     "output_type": "stream",
     "text": [
      "178\n"
     ]
    },
    {
     "name": "stderr",
     "output_type": "stream",
     "text": [
      "100%|██████████| 11/11 [00:05<00:00,  1.92it/s]\n",
      "100%|██████████| 11/11 [00:01<00:00,  6.87it/s]\n",
      "  0%|          | 0/11 [00:00<?, ?it/s]"
     ]
    },
    {
     "name": "stdout",
     "output_type": "stream",
     "text": [
      "179\n"
     ]
    },
    {
     "name": "stderr",
     "output_type": "stream",
     "text": [
      "100%|██████████| 11/11 [00:05<00:00,  1.89it/s]\n",
      "100%|██████████| 11/11 [00:01<00:00,  6.78it/s]\n",
      "  0%|          | 0/11 [00:00<?, ?it/s]"
     ]
    },
    {
     "name": "stdout",
     "output_type": "stream",
     "text": [
      "180\n"
     ]
    },
    {
     "name": "stderr",
     "output_type": "stream",
     "text": [
      "100%|██████████| 11/11 [00:05<00:00,  1.89it/s]\n",
      "100%|██████████| 11/11 [00:01<00:00,  6.78it/s]\n",
      "  0%|          | 0/11 [00:00<?, ?it/s]"
     ]
    },
    {
     "name": "stdout",
     "output_type": "stream",
     "text": [
      "181\n"
     ]
    },
    {
     "name": "stderr",
     "output_type": "stream",
     "text": [
      "100%|██████████| 11/11 [00:05<00:00,  1.89it/s]\n",
      "100%|██████████| 11/11 [00:01<00:00,  6.74it/s]\n",
      "  0%|          | 0/11 [00:00<?, ?it/s]"
     ]
    },
    {
     "name": "stdout",
     "output_type": "stream",
     "text": [
      "182\n"
     ]
    },
    {
     "name": "stderr",
     "output_type": "stream",
     "text": [
      "100%|██████████| 11/11 [00:05<00:00,  1.98it/s]\n",
      "100%|██████████| 11/11 [00:01<00:00,  6.82it/s]\n",
      "  0%|          | 0/11 [00:00<?, ?it/s]"
     ]
    },
    {
     "name": "stdout",
     "output_type": "stream",
     "text": [
      "183\n"
     ]
    },
    {
     "name": "stderr",
     "output_type": "stream",
     "text": [
      "100%|██████████| 11/11 [00:05<00:00,  1.86it/s]\n",
      "100%|██████████| 11/11 [00:01<00:00,  6.75it/s]\n",
      "  0%|          | 0/11 [00:00<?, ?it/s]"
     ]
    },
    {
     "name": "stdout",
     "output_type": "stream",
     "text": [
      "184\n"
     ]
    },
    {
     "name": "stderr",
     "output_type": "stream",
     "text": [
      "100%|██████████| 11/11 [00:05<00:00,  1.84it/s]\n",
      "100%|██████████| 11/11 [00:01<00:00,  6.64it/s]\n",
      "  0%|          | 0/11 [00:00<?, ?it/s]"
     ]
    },
    {
     "name": "stdout",
     "output_type": "stream",
     "text": [
      "185\n"
     ]
    },
    {
     "name": "stderr",
     "output_type": "stream",
     "text": [
      "100%|██████████| 11/11 [00:05<00:00,  1.88it/s]\n",
      "100%|██████████| 11/11 [00:01<00:00,  6.81it/s]\n",
      "  0%|          | 0/11 [00:00<?, ?it/s]"
     ]
    },
    {
     "name": "stdout",
     "output_type": "stream",
     "text": [
      "186\n"
     ]
    },
    {
     "name": "stderr",
     "output_type": "stream",
     "text": [
      "100%|██████████| 11/11 [00:05<00:00,  1.89it/s]\n",
      "100%|██████████| 11/11 [00:01<00:00,  6.84it/s]\n",
      "  0%|          | 0/11 [00:00<?, ?it/s]"
     ]
    },
    {
     "name": "stdout",
     "output_type": "stream",
     "text": [
      "187\n"
     ]
    },
    {
     "name": "stderr",
     "output_type": "stream",
     "text": [
      "100%|██████████| 11/11 [00:05<00:00,  1.99it/s]\n",
      "100%|██████████| 11/11 [00:01<00:00,  6.86it/s]\n",
      "  0%|          | 0/11 [00:00<?, ?it/s]"
     ]
    },
    {
     "name": "stdout",
     "output_type": "stream",
     "text": [
      "188\n"
     ]
    },
    {
     "name": "stderr",
     "output_type": "stream",
     "text": [
      "100%|██████████| 11/11 [00:05<00:00,  1.94it/s]\n",
      "100%|██████████| 11/11 [00:01<00:00,  6.85it/s]\n",
      "  0%|          | 0/11 [00:00<?, ?it/s]"
     ]
    },
    {
     "name": "stdout",
     "output_type": "stream",
     "text": [
      "189\n"
     ]
    },
    {
     "name": "stderr",
     "output_type": "stream",
     "text": [
      "100%|██████████| 11/11 [00:06<00:00,  1.86it/s]\n",
      "100%|██████████| 11/11 [00:01<00:00,  6.76it/s]\n"
     ]
    }
   ],
   "source": [
    "trans_train_set_to_seq_data()"
   ]
  },
  {
   "cell_type": "code",
   "execution_count": 108,
   "metadata": {},
   "outputs": [],
   "source": [
    "team_seq_file = 'tr_'+str(0.0)+'_team0.tseq'\n",
    "team_seq = pd.read_csv(train_path+'0/team_seq/'+team_seq_file).values\n",
    "total_team_seq = 150"
   ]
  },
  {
   "cell_type": "code",
   "execution_count": 17,
   "metadata": {},
   "outputs": [],
   "source": [
    "all_player_df = pd.read_csv(processed_path+\"all_player_data.csv\")"
   ]
  },
  {
   "cell_type": "code",
   "execution_count": 22,
   "metadata": {},
   "outputs": [
    {
     "data": {
      "text/plain": [
       "position\n",
       "Defender      247\n",
       "Forward       151\n",
       "Goalkeeper     78\n",
       "Midfielder    303\n",
       "Name: player_id, dtype: int64"
      ]
     },
     "execution_count": 22,
     "metadata": {},
     "output_type": "execute_result"
    }
   ],
   "source": [
    "all_player_df.groupby('position').count().player_id"
   ]
  },
  {
   "cell_type": "code",
   "execution_count": 28,
   "metadata": {},
   "outputs": [
    {
     "data": {
      "text/plain": [
       "'1'"
      ]
     },
     "execution_count": 28,
     "metadata": {},
     "output_type": "execute_result"
    }
   ],
   "source": [
    "all_player_df.iloc[0,3]"
   ]
  },
  {
   "cell_type": "code",
   "execution_count": 31,
   "metadata": {},
   "outputs": [],
   "source": [
    "files = os.listdir(train_path+'1/')\n",
    "csv_files = [i for i in files if 'csv' in i]\n",
    "label_file = [i for i in csv_files if '_'+str(0.0) in i]\n",
    "label_file = pd.read_csv(train_path+'1/'+label_file[0], header=None)"
   ]
  },
  {
   "cell_type": "code",
   "execution_count": 38,
   "metadata": {},
   "outputs": [
    {
     "data": {
      "text/plain": [
       "array([55.2, 97.1])"
      ]
     },
     "execution_count": 38,
     "metadata": {},
     "output_type": "execute_result"
    }
   ],
   "source": [
    "np.array(label_file.iloc[0,2:])"
   ]
  },
  {
   "cell_type": "code",
   "execution_count": 37,
   "metadata": {},
   "outputs": [
    {
     "data": {
      "text/plain": [
       "2    55.2\n",
       "3    97.1\n",
       "Name: 0, dtype: float64"
      ]
     },
     "execution_count": 37,
     "metadata": {},
     "output_type": "execute_result"
    }
   ],
   "source": [
    "label_file.iloc[0,2:]"
   ]
  },
  {
   "cell_type": "code",
   "execution_count": 43,
   "metadata": {},
   "outputs": [
    {
     "data": {
      "text/plain": [
       "(1,)"
      ]
     },
     "execution_count": 43,
     "metadata": {},
     "output_type": "execute_result"
    }
   ],
   "source": [
    "np.array([1]).shape"
   ]
  },
  {
   "cell_type": "code",
   "execution_count": 17,
   "metadata": {},
   "outputs": [],
   "source": [
    "a = pd.read_csv(processed_path+'q_detail.csv')"
   ]
  },
  {
   "cell_type": "code",
   "execution_count": 19,
   "metadata": {},
   "outputs": [],
   "source": [
    "a['stat'] = np.sum(a==0])"
   ]
  },
  {
   "cell_type": "code",
   "execution_count": 44,
   "metadata": {},
   "outputs": [],
   "source": [
    "all_player_df = get_player_data()"
   ]
  },
  {
   "cell_type": "code",
   "execution_count": 53,
   "metadata": {},
   "outputs": [],
   "source": [
    "player_id = str(180299)\n",
    "pos_name = ['Forward', 'Midfielder', 'Defender', 'Goalkeeper']\n",
    "player_pos = all_player_df[all_player_df.player_id==('p'+player_id)].iloc[0]['position']\n",
    "label_pos = pos_name.index(player_pos)\n",
    "pos_players = list(all_player_df[all_player_df.position==player_pos].player_id)\n",
    "label_player = pos_players.index('p'+player_id)"
   ]
  },
  {
   "cell_type": "code",
   "execution_count": 54,
   "metadata": {},
   "outputs": [
    {
     "data": {
      "text/plain": [
       "8"
      ]
     },
     "execution_count": 54,
     "metadata": {},
     "output_type": "execute_result"
    }
   ],
   "source": [
    "gc.collect()"
   ]
  },
  {
   "cell_type": "code",
   "execution_count": 55,
   "metadata": {},
   "outputs": [
    {
     "data": {
      "text/plain": [
       "2"
      ]
     },
     "execution_count": 55,
     "metadata": {},
     "output_type": "execute_result"
    }
   ],
   "source": [
    "label_pos"
   ]
  },
  {
   "cell_type": "code",
   "execution_count": 56,
   "metadata": {},
   "outputs": [
    {
     "data": {
      "text/plain": [
       "1"
      ]
     },
     "execution_count": 56,
     "metadata": {},
     "output_type": "execute_result"
    }
   ],
   "source": [
    "label_player"
   ]
  },
  {
   "cell_type": "code",
   "execution_count": 51,
   "metadata": {},
   "outputs": [
    {
     "data": {
      "text/html": [
       "<div>\n",
       "<style scoped>\n",
       "    .dataframe tbody tr th:only-of-type {\n",
       "        vertical-align: middle;\n",
       "    }\n",
       "\n",
       "    .dataframe tbody tr th {\n",
       "        vertical-align: top;\n",
       "    }\n",
       "\n",
       "    .dataframe thead th {\n",
       "        text-align: right;\n",
       "    }\n",
       "</style>\n",
       "<table border=\"1\" class=\"dataframe\">\n",
       "  <thead>\n",
       "    <tr style=\"text-align: right;\">\n",
       "      <th></th>\n",
       "      <th>player_id</th>\n",
       "      <th>player_name</th>\n",
       "      <th>position</th>\n",
       "      <th>jersey_num</th>\n",
       "      <th>team_id</th>\n",
       "      <th>team_name</th>\n",
       "      <th>join_date</th>\n",
       "    </tr>\n",
       "  </thead>\n",
       "  <tbody>\n",
       "    <tr>\n",
       "      <th>0</th>\n",
       "      <td>p40511</td>\n",
       "      <td>Denis Petric</td>\n",
       "      <td>Goalkeeper</td>\n",
       "      <td>1</td>\n",
       "      <td>t2128</td>\n",
       "      <td>Angers</td>\n",
       "      <td>2016-01-02</td>\n",
       "    </tr>\n",
       "    <tr>\n",
       "      <th>1</th>\n",
       "      <td>p119744</td>\n",
       "      <td>Mathieu Michel</td>\n",
       "      <td>Goalkeeper</td>\n",
       "      <td>1</td>\n",
       "      <td>t2128</td>\n",
       "      <td>Angers</td>\n",
       "      <td>2016-08-18</td>\n",
       "    </tr>\n",
       "    <tr>\n",
       "      <th>2</th>\n",
       "      <td>p85577</td>\n",
       "      <td>Alexandre Letellier</td>\n",
       "      <td>Goalkeeper</td>\n",
       "      <td>30</td>\n",
       "      <td>t2128</td>\n",
       "      <td>Angers</td>\n",
       "      <td>2010-07-01</td>\n",
       "    </tr>\n",
       "    <tr>\n",
       "      <th>3</th>\n",
       "      <td>p174272</td>\n",
       "      <td>Anthony Mandrea</td>\n",
       "      <td>Goalkeeper</td>\n",
       "      <td>40</td>\n",
       "      <td>t2128</td>\n",
       "      <td>Angers</td>\n",
       "      <td>2016-07-01</td>\n",
       "    </tr>\n",
       "    <tr>\n",
       "      <th>4</th>\n",
       "      <td>p218123</td>\n",
       "      <td>Maxime Sivis</td>\n",
       "      <td>Defender</td>\n",
       "      <td>Unknown</td>\n",
       "      <td>t2128</td>\n",
       "      <td>Angers</td>\n",
       "      <td>2016-07-01</td>\n",
       "    </tr>\n",
       "    <tr>\n",
       "      <th>5</th>\n",
       "      <td>p180299</td>\n",
       "      <td>Gabriel Mutombo Kupa</td>\n",
       "      <td>Defender</td>\n",
       "      <td>Unknown</td>\n",
       "      <td>t2128</td>\n",
       "      <td>Angers</td>\n",
       "      <td>2014-02-27</td>\n",
       "    </tr>\n",
       "    <tr>\n",
       "      <th>6</th>\n",
       "      <td>p58309</td>\n",
       "      <td>Yoann Andreu</td>\n",
       "      <td>Defender</td>\n",
       "      <td>3</td>\n",
       "      <td>t2128</td>\n",
       "      <td>Angers</td>\n",
       "      <td>2015-07-01</td>\n",
       "    </tr>\n",
       "    <tr>\n",
       "      <th>7</th>\n",
       "      <td>p68545</td>\n",
       "      <td>Mateo Pavlovic</td>\n",
       "      <td>Defender</td>\n",
       "      <td>4</td>\n",
       "      <td>t2128</td>\n",
       "      <td>Angers</td>\n",
       "      <td>2016-07-01</td>\n",
       "    </tr>\n",
       "    <tr>\n",
       "      <th>8</th>\n",
       "      <td>p42416</td>\n",
       "      <td>Ismael Traoré</td>\n",
       "      <td>Defender</td>\n",
       "      <td>8</td>\n",
       "      <td>t2128</td>\n",
       "      <td>Angers</td>\n",
       "      <td>2015-07-01</td>\n",
       "    </tr>\n",
       "    <tr>\n",
       "      <th>9</th>\n",
       "      <td>p93622</td>\n",
       "      <td>Pablo Martinez</td>\n",
       "      <td>Defender</td>\n",
       "      <td>21</td>\n",
       "      <td>t2128</td>\n",
       "      <td>Angers</td>\n",
       "      <td>2016-07-01</td>\n",
       "    </tr>\n",
       "    <tr>\n",
       "      <th>10</th>\n",
       "      <td>p45505</td>\n",
       "      <td>Romain Thomas</td>\n",
       "      <td>Defender</td>\n",
       "      <td>24</td>\n",
       "      <td>t2128</td>\n",
       "      <td>Angers</td>\n",
       "      <td>2013-07-01</td>\n",
       "    </tr>\n",
       "    <tr>\n",
       "      <th>11</th>\n",
       "      <td>p57266</td>\n",
       "      <td>Abdoulaye Bamba</td>\n",
       "      <td>Defender</td>\n",
       "      <td>25</td>\n",
       "      <td>t2128</td>\n",
       "      <td>Angers</td>\n",
       "      <td>2017-01-01</td>\n",
       "    </tr>\n",
       "    <tr>\n",
       "      <th>12</th>\n",
       "      <td>p213575</td>\n",
       "      <td>Mehdi Tahrat</td>\n",
       "      <td>Defender</td>\n",
       "      <td>26</td>\n",
       "      <td>t2128</td>\n",
       "      <td>Angers</td>\n",
       "      <td>2016-08-31</td>\n",
       "    </tr>\n",
       "    <tr>\n",
       "      <th>13</th>\n",
       "      <td>p96195</td>\n",
       "      <td>Issa Cissokho</td>\n",
       "      <td>Defender</td>\n",
       "      <td>28</td>\n",
       "      <td>t2128</td>\n",
       "      <td>Angers</td>\n",
       "      <td>2017-01-31</td>\n",
       "    </tr>\n",
       "    <tr>\n",
       "      <th>14</th>\n",
       "      <td>p54518</td>\n",
       "      <td>Vincent Manceau</td>\n",
       "      <td>Defender</td>\n",
       "      <td>29</td>\n",
       "      <td>t2128</td>\n",
       "      <td>Angers</td>\n",
       "      <td>2008-08-01</td>\n",
       "    </tr>\n",
       "    <tr>\n",
       "      <th>15</th>\n",
       "      <td>p212600</td>\n",
       "      <td>Mathias Serin</td>\n",
       "      <td>Midfielder</td>\n",
       "      <td>Unknown</td>\n",
       "      <td>t2128</td>\n",
       "      <td>Angers</td>\n",
       "      <td>2015-07-01</td>\n",
       "    </tr>\n",
       "    <tr>\n",
       "      <th>16</th>\n",
       "      <td>p18574</td>\n",
       "      <td>Thomas Mangani</td>\n",
       "      <td>Midfielder</td>\n",
       "      <td>5</td>\n",
       "      <td>t2128</td>\n",
       "      <td>Angers</td>\n",
       "      <td>2015-02-02</td>\n",
       "    </tr>\n",
       "    <tr>\n",
       "      <th>17</th>\n",
       "      <td>p15304</td>\n",
       "      <td>Grégory Bourillon</td>\n",
       "      <td>Midfielder</td>\n",
       "      <td>6</td>\n",
       "      <td>t2128</td>\n",
       "      <td>Angers</td>\n",
       "      <td>2016-01-25</td>\n",
       "    </tr>\n",
       "    <tr>\n",
       "      <th>18</th>\n",
       "      <td>p220994</td>\n",
       "      <td>Aissa Laidouni</td>\n",
       "      <td>Midfielder</td>\n",
       "      <td>13</td>\n",
       "      <td>t2128</td>\n",
       "      <td>Angers</td>\n",
       "      <td>2015-07-01</td>\n",
       "    </tr>\n",
       "    <tr>\n",
       "      <th>19</th>\n",
       "      <td>p112580</td>\n",
       "      <td>Pierrick Capelle</td>\n",
       "      <td>Midfielder</td>\n",
       "      <td>15</td>\n",
       "      <td>t2128</td>\n",
       "      <td>Angers</td>\n",
       "      <td>2015-07-01</td>\n",
       "    </tr>\n",
       "    <tr>\n",
       "      <th>20</th>\n",
       "      <td>p168109</td>\n",
       "      <td>Cheikh N'Doye</td>\n",
       "      <td>Midfielder</td>\n",
       "      <td>17</td>\n",
       "      <td>t2128</td>\n",
       "      <td>Angers</td>\n",
       "      <td>2015-07-01</td>\n",
       "    </tr>\n",
       "    <tr>\n",
       "      <th>21</th>\n",
       "      <td>p168985</td>\n",
       "      <td>Baptiste Santamaría</td>\n",
       "      <td>Midfielder</td>\n",
       "      <td>18</td>\n",
       "      <td>t2128</td>\n",
       "      <td>Angers</td>\n",
       "      <td>2016-07-01</td>\n",
       "    </tr>\n",
       "    <tr>\n",
       "      <th>22</th>\n",
       "      <td>p154011</td>\n",
       "      <td>Flavien Tait</td>\n",
       "      <td>Midfielder</td>\n",
       "      <td>20</td>\n",
       "      <td>t2128</td>\n",
       "      <td>Angers</td>\n",
       "      <td>2016-07-01</td>\n",
       "    </tr>\n",
       "    <tr>\n",
       "      <th>23</th>\n",
       "      <td>p195883</td>\n",
       "      <td>Jonathan Bamba</td>\n",
       "      <td>Midfielder</td>\n",
       "      <td>22</td>\n",
       "      <td>t2128</td>\n",
       "      <td>Angers</td>\n",
       "      <td>2017-01-04</td>\n",
       "    </tr>\n",
       "    <tr>\n",
       "      <th>24</th>\n",
       "      <td>p44485</td>\n",
       "      <td>Jamel Saihi</td>\n",
       "      <td>Midfielder</td>\n",
       "      <td>23</td>\n",
       "      <td>t2128</td>\n",
       "      <td>Angers</td>\n",
       "      <td>2016-08-31</td>\n",
       "    </tr>\n",
       "    <tr>\n",
       "      <th>25</th>\n",
       "      <td>p52002</td>\n",
       "      <td>Goran Karanoviç</td>\n",
       "      <td>Forward</td>\n",
       "      <td>Unknown</td>\n",
       "      <td>t2128</td>\n",
       "      <td>Angers</td>\n",
       "      <td>2015-08-02</td>\n",
       "    </tr>\n",
       "    <tr>\n",
       "      <th>26</th>\n",
       "      <td>p80485</td>\n",
       "      <td>Kévin Berigaud</td>\n",
       "      <td>Forward</td>\n",
       "      <td>2</td>\n",
       "      <td>t2128</td>\n",
       "      <td>Angers</td>\n",
       "      <td>2017-01-03</td>\n",
       "    </tr>\n",
       "    <tr>\n",
       "      <th>27</th>\n",
       "      <td>p193454</td>\n",
       "      <td>Karl Toko Ekambi</td>\n",
       "      <td>Forward</td>\n",
       "      <td>7</td>\n",
       "      <td>t2128</td>\n",
       "      <td>Angers</td>\n",
       "      <td>2016-07-01</td>\n",
       "    </tr>\n",
       "    <tr>\n",
       "      <th>28</th>\n",
       "      <td>p149535</td>\n",
       "      <td>Famara Diedhiou</td>\n",
       "      <td>Forward</td>\n",
       "      <td>9</td>\n",
       "      <td>t2128</td>\n",
       "      <td>Angers</td>\n",
       "      <td>2016-07-01</td>\n",
       "    </tr>\n",
       "    <tr>\n",
       "      <th>29</th>\n",
       "      <td>p66589</td>\n",
       "      <td>Gilles Sunu</td>\n",
       "      <td>Forward</td>\n",
       "      <td>10</td>\n",
       "      <td>t2128</td>\n",
       "      <td>Angers</td>\n",
       "      <td>2015-07-01</td>\n",
       "    </tr>\n",
       "    <tr>\n",
       "      <th>...</th>\n",
       "      <td>...</td>\n",
       "      <td>...</td>\n",
       "      <td>...</td>\n",
       "      <td>...</td>\n",
       "      <td>...</td>\n",
       "      <td>...</td>\n",
       "      <td>...</td>\n",
       "    </tr>\n",
       "    <tr>\n",
       "      <th>749</th>\n",
       "      <td>p18693</td>\n",
       "      <td>Vágner Love</td>\n",
       "      <td>Forward</td>\n",
       "      <td>39</td>\n",
       "      <td>t146</td>\n",
       "      <td>Monaco</td>\n",
       "      <td>2016-01-09</td>\n",
       "    </tr>\n",
       "    <tr>\n",
       "      <th>750</th>\n",
       "      <td>p166324</td>\n",
       "      <td>Ivan Cavaleiro</td>\n",
       "      <td>Forward</td>\n",
       "      <td>17</td>\n",
       "      <td>t146</td>\n",
       "      <td>Monaco</td>\n",
       "      <td>2015-07-11</td>\n",
       "    </tr>\n",
       "    <tr>\n",
       "      <th>751</th>\n",
       "      <td>p18679</td>\n",
       "      <td>Anthony Vanden Borre</td>\n",
       "      <td>Defender</td>\n",
       "      <td>20</td>\n",
       "      <td>t147</td>\n",
       "      <td>Montpellier</td>\n",
       "      <td>2016-07-08</td>\n",
       "    </tr>\n",
       "    <tr>\n",
       "      <th>752</th>\n",
       "      <td>p93835</td>\n",
       "      <td>Dylan Gissi</td>\n",
       "      <td>Defender</td>\n",
       "      <td>35</td>\n",
       "      <td>t147</td>\n",
       "      <td>Montpellier</td>\n",
       "      <td>2014-08-01</td>\n",
       "    </tr>\n",
       "    <tr>\n",
       "      <th>753</th>\n",
       "      <td>p171101</td>\n",
       "      <td>Clément Lenglet</td>\n",
       "      <td>Defender</td>\n",
       "      <td>2</td>\n",
       "      <td>t148</td>\n",
       "      <td>Nancy</td>\n",
       "      <td>2013-09-01</td>\n",
       "    </tr>\n",
       "    <tr>\n",
       "      <th>754</th>\n",
       "      <td>p175598</td>\n",
       "      <td>Romain Bauchet</td>\n",
       "      <td>Forward</td>\n",
       "      <td>Unknown</td>\n",
       "      <td>t148</td>\n",
       "      <td>Nancy</td>\n",
       "      <td>2013-11-01</td>\n",
       "    </tr>\n",
       "    <tr>\n",
       "      <th>755</th>\n",
       "      <td>p148616</td>\n",
       "      <td>Fernando Aristeguieta</td>\n",
       "      <td>Forward</td>\n",
       "      <td>2</td>\n",
       "      <td>t430</td>\n",
       "      <td>Nantes</td>\n",
       "      <td>2013-01-08</td>\n",
       "    </tr>\n",
       "    <tr>\n",
       "      <th>756</th>\n",
       "      <td>p76507</td>\n",
       "      <td>Nicolaj Thomsen</td>\n",
       "      <td>Midfielder</td>\n",
       "      <td>23</td>\n",
       "      <td>t430</td>\n",
       "      <td>Nantes</td>\n",
       "      <td>2016-07-01</td>\n",
       "    </tr>\n",
       "    <tr>\n",
       "      <th>757</th>\n",
       "      <td>p16106</td>\n",
       "      <td>Lorik Cana</td>\n",
       "      <td>Defender</td>\n",
       "      <td>5</td>\n",
       "      <td>t430</td>\n",
       "      <td>Nantes</td>\n",
       "      <td>2015-08-31</td>\n",
       "    </tr>\n",
       "    <tr>\n",
       "      <th>758</th>\n",
       "      <td>p146603</td>\n",
       "      <td>Julien Vercauteren</td>\n",
       "      <td>Forward</td>\n",
       "      <td>7</td>\n",
       "      <td>t1395</td>\n",
       "      <td>Nice</td>\n",
       "      <td>2014-07-01</td>\n",
       "    </tr>\n",
       "    <tr>\n",
       "      <th>759</th>\n",
       "      <td>p244563</td>\n",
       "      <td>Joakim Balmy</td>\n",
       "      <td>Defender</td>\n",
       "      <td>Unknown</td>\n",
       "      <td>t1395</td>\n",
       "      <td>Nice</td>\n",
       "      <td>2016-11-07</td>\n",
       "    </tr>\n",
       "    <tr>\n",
       "      <th>760</th>\n",
       "      <td>p244561</td>\n",
       "      <td>William Suaut</td>\n",
       "      <td>Midfielder</td>\n",
       "      <td>Unknown</td>\n",
       "      <td>t1395</td>\n",
       "      <td>Nice</td>\n",
       "      <td>2016-12-07</td>\n",
       "    </tr>\n",
       "    <tr>\n",
       "      <th>761</th>\n",
       "      <td>p115363</td>\n",
       "      <td>Lucas Rougeaux</td>\n",
       "      <td>Defender</td>\n",
       "      <td>15</td>\n",
       "      <td>t1395</td>\n",
       "      <td>Nice</td>\n",
       "      <td>2012-07-01</td>\n",
       "    </tr>\n",
       "    <tr>\n",
       "      <th>762</th>\n",
       "      <td>p56842</td>\n",
       "      <td>Kevin Gomis</td>\n",
       "      <td>Defender</td>\n",
       "      <td>5</td>\n",
       "      <td>t1395</td>\n",
       "      <td>Nice</td>\n",
       "      <td>2011-07-01</td>\n",
       "    </tr>\n",
       "    <tr>\n",
       "      <th>763</th>\n",
       "      <td>p129497</td>\n",
       "      <td>Hervin Ongenda</td>\n",
       "      <td>Forward</td>\n",
       "      <td>35</td>\n",
       "      <td>t149</td>\n",
       "      <td>Paris Saint-Germain</td>\n",
       "      <td>2012-07-01</td>\n",
       "    </tr>\n",
       "    <tr>\n",
       "      <th>764</th>\n",
       "      <td>p225897</td>\n",
       "      <td>Fode Ballo-Toure</td>\n",
       "      <td>Defender</td>\n",
       "      <td>Unknown</td>\n",
       "      <td>t149</td>\n",
       "      <td>Paris Saint-Germain</td>\n",
       "      <td>2016-07-01</td>\n",
       "    </tr>\n",
       "    <tr>\n",
       "      <th>765</th>\n",
       "      <td>p41270</td>\n",
       "      <td>David Luiz</td>\n",
       "      <td>Defender</td>\n",
       "      <td>32</td>\n",
       "      <td>t149</td>\n",
       "      <td>Paris Saint-Germain</td>\n",
       "      <td>2014-06-10</td>\n",
       "    </tr>\n",
       "    <tr>\n",
       "      <th>766</th>\n",
       "      <td>p80710</td>\n",
       "      <td>Benjamin Stambouli</td>\n",
       "      <td>Midfielder</td>\n",
       "      <td>4</td>\n",
       "      <td>t149</td>\n",
       "      <td>Paris Saint-Germain</td>\n",
       "      <td>2015-07-20</td>\n",
       "    </tr>\n",
       "    <tr>\n",
       "      <th>767</th>\n",
       "      <td>p49957</td>\n",
       "      <td>Kamil Grosicki</td>\n",
       "      <td>Midfielder</td>\n",
       "      <td>10</td>\n",
       "      <td>t150</td>\n",
       "      <td>Rennes</td>\n",
       "      <td>2014-01-24</td>\n",
       "    </tr>\n",
       "    <tr>\n",
       "      <th>768</th>\n",
       "      <td>p55250</td>\n",
       "      <td>Christian Brüls</td>\n",
       "      <td>Midfielder</td>\n",
       "      <td>37</td>\n",
       "      <td>t150</td>\n",
       "      <td>Rennes</td>\n",
       "      <td>2014-07-30</td>\n",
       "    </tr>\n",
       "    <tr>\n",
       "      <th>769</th>\n",
       "      <td>p54685</td>\n",
       "      <td>Mouhamadou Habib Habibou</td>\n",
       "      <td>Forward</td>\n",
       "      <td>38</td>\n",
       "      <td>t150</td>\n",
       "      <td>Rennes</td>\n",
       "      <td>2014-09-04</td>\n",
       "    </tr>\n",
       "    <tr>\n",
       "      <th>770</th>\n",
       "      <td>p111516</td>\n",
       "      <td>Pedro Henrique</td>\n",
       "      <td>Midfielder</td>\n",
       "      <td>18</td>\n",
       "      <td>t150</td>\n",
       "      <td>Rennes</td>\n",
       "      <td>2014-07-01</td>\n",
       "    </tr>\n",
       "    <tr>\n",
       "      <th>771</th>\n",
       "      <td>p90126</td>\n",
       "      <td>Paul-Georges Ntep</td>\n",
       "      <td>Forward</td>\n",
       "      <td>7</td>\n",
       "      <td>t150</td>\n",
       "      <td>Rennes</td>\n",
       "      <td>2014-01-28</td>\n",
       "    </tr>\n",
       "    <tr>\n",
       "      <th>772</th>\n",
       "      <td>p107098</td>\n",
       "      <td>Paul Nardi</td>\n",
       "      <td>Goalkeeper</td>\n",
       "      <td>Unknown</td>\n",
       "      <td>t150</td>\n",
       "      <td>Rennes</td>\n",
       "      <td>2016-07-01</td>\n",
       "    </tr>\n",
       "    <tr>\n",
       "      <th>773</th>\n",
       "      <td>p40832</td>\n",
       "      <td>Anthony Mounier</td>\n",
       "      <td>Midfielder</td>\n",
       "      <td>Unknown</td>\n",
       "      <td>t152</td>\n",
       "      <td>St Etienne</td>\n",
       "      <td>2017-01-27</td>\n",
       "    </tr>\n",
       "    <tr>\n",
       "      <th>774</th>\n",
       "      <td>p244204</td>\n",
       "      <td>Benjamin Aulagnier</td>\n",
       "      <td>Midfielder</td>\n",
       "      <td>Unknown</td>\n",
       "      <td>t152</td>\n",
       "      <td>St Etienne</td>\n",
       "      <td>2016-11-25</td>\n",
       "    </tr>\n",
       "    <tr>\n",
       "      <th>775</th>\n",
       "      <td>p229921</td>\n",
       "      <td>Clement Cabaton</td>\n",
       "      <td>Midfielder</td>\n",
       "      <td>Unknown</td>\n",
       "      <td>t152</td>\n",
       "      <td>St Etienne</td>\n",
       "      <td>2016-07-01</td>\n",
       "    </tr>\n",
       "    <tr>\n",
       "      <th>776</th>\n",
       "      <td>p55134</td>\n",
       "      <td>Yohan Mollo</td>\n",
       "      <td>Midfielder</td>\n",
       "      <td>20</td>\n",
       "      <td>t152</td>\n",
       "      <td>St Etienne</td>\n",
       "      <td>2013-09-01</td>\n",
       "    </tr>\n",
       "    <tr>\n",
       "      <th>777</th>\n",
       "      <td>p243743</td>\n",
       "      <td>Quentin Depehi</td>\n",
       "      <td>Forward</td>\n",
       "      <td>Unknown</td>\n",
       "      <td>t427</td>\n",
       "      <td>Toulouse</td>\n",
       "      <td>2016-11-01</td>\n",
       "    </tr>\n",
       "    <tr>\n",
       "      <th>778</th>\n",
       "      <td>p199669</td>\n",
       "      <td>Maxime Pelican</td>\n",
       "      <td>Forward</td>\n",
       "      <td>Unknown</td>\n",
       "      <td>t427</td>\n",
       "      <td>Toulouse</td>\n",
       "      <td>2016-07-01</td>\n",
       "    </tr>\n",
       "  </tbody>\n",
       "</table>\n",
       "<p>779 rows × 7 columns</p>\n",
       "</div>"
      ],
      "text/plain": [
       "    player_id               player_name    position jersey_num team_id  \\\n",
       "0      p40511              Denis Petric  Goalkeeper          1   t2128   \n",
       "1     p119744            Mathieu Michel  Goalkeeper          1   t2128   \n",
       "2      p85577       Alexandre Letellier  Goalkeeper         30   t2128   \n",
       "3     p174272           Anthony Mandrea  Goalkeeper         40   t2128   \n",
       "4     p218123              Maxime Sivis    Defender    Unknown   t2128   \n",
       "5     p180299      Gabriel Mutombo Kupa    Defender    Unknown   t2128   \n",
       "6      p58309              Yoann Andreu    Defender          3   t2128   \n",
       "7      p68545            Mateo Pavlovic    Defender          4   t2128   \n",
       "8      p42416             Ismael Traoré    Defender          8   t2128   \n",
       "9      p93622            Pablo Martinez    Defender         21   t2128   \n",
       "10     p45505             Romain Thomas    Defender         24   t2128   \n",
       "11     p57266           Abdoulaye Bamba    Defender         25   t2128   \n",
       "12    p213575              Mehdi Tahrat    Defender         26   t2128   \n",
       "13     p96195             Issa Cissokho    Defender         28   t2128   \n",
       "14     p54518           Vincent Manceau    Defender         29   t2128   \n",
       "15    p212600             Mathias Serin  Midfielder    Unknown   t2128   \n",
       "16     p18574            Thomas Mangani  Midfielder          5   t2128   \n",
       "17     p15304         Grégory Bourillon  Midfielder          6   t2128   \n",
       "18    p220994            Aissa Laidouni  Midfielder         13   t2128   \n",
       "19    p112580          Pierrick Capelle  Midfielder         15   t2128   \n",
       "20    p168109             Cheikh N'Doye  Midfielder         17   t2128   \n",
       "21    p168985       Baptiste Santamaría  Midfielder         18   t2128   \n",
       "22    p154011              Flavien Tait  Midfielder         20   t2128   \n",
       "23    p195883            Jonathan Bamba  Midfielder         22   t2128   \n",
       "24     p44485               Jamel Saihi  Midfielder         23   t2128   \n",
       "25     p52002           Goran Karanoviç     Forward    Unknown   t2128   \n",
       "26     p80485            Kévin Berigaud     Forward          2   t2128   \n",
       "27    p193454          Karl Toko Ekambi     Forward          7   t2128   \n",
       "28    p149535           Famara Diedhiou     Forward          9   t2128   \n",
       "29     p66589               Gilles Sunu     Forward         10   t2128   \n",
       "..        ...                       ...         ...        ...     ...   \n",
       "749    p18693               Vágner Love     Forward         39    t146   \n",
       "750   p166324            Ivan Cavaleiro     Forward         17    t146   \n",
       "751    p18679      Anthony Vanden Borre    Defender         20    t147   \n",
       "752    p93835               Dylan Gissi    Defender         35    t147   \n",
       "753   p171101           Clément Lenglet    Defender          2    t148   \n",
       "754   p175598            Romain Bauchet     Forward    Unknown    t148   \n",
       "755   p148616     Fernando Aristeguieta     Forward          2    t430   \n",
       "756    p76507           Nicolaj Thomsen  Midfielder         23    t430   \n",
       "757    p16106                Lorik Cana    Defender          5    t430   \n",
       "758   p146603        Julien Vercauteren     Forward          7   t1395   \n",
       "759   p244563              Joakim Balmy    Defender    Unknown   t1395   \n",
       "760   p244561             William Suaut  Midfielder    Unknown   t1395   \n",
       "761   p115363            Lucas Rougeaux    Defender         15   t1395   \n",
       "762    p56842               Kevin Gomis    Defender          5   t1395   \n",
       "763   p129497            Hervin Ongenda     Forward         35    t149   \n",
       "764   p225897          Fode Ballo-Toure    Defender    Unknown    t149   \n",
       "765    p41270                David Luiz    Defender         32    t149   \n",
       "766    p80710        Benjamin Stambouli  Midfielder          4    t149   \n",
       "767    p49957            Kamil Grosicki  Midfielder         10    t150   \n",
       "768    p55250           Christian Brüls  Midfielder         37    t150   \n",
       "769    p54685  Mouhamadou Habib Habibou     Forward         38    t150   \n",
       "770   p111516            Pedro Henrique  Midfielder         18    t150   \n",
       "771    p90126         Paul-Georges Ntep     Forward          7    t150   \n",
       "772   p107098                Paul Nardi  Goalkeeper    Unknown    t150   \n",
       "773    p40832           Anthony Mounier  Midfielder    Unknown    t152   \n",
       "774   p244204        Benjamin Aulagnier  Midfielder    Unknown    t152   \n",
       "775   p229921           Clement Cabaton  Midfielder    Unknown    t152   \n",
       "776    p55134               Yohan Mollo  Midfielder         20    t152   \n",
       "777   p243743            Quentin Depehi     Forward    Unknown    t427   \n",
       "778   p199669            Maxime Pelican     Forward    Unknown    t427   \n",
       "\n",
       "               team_name   join_date  \n",
       "0                 Angers  2016-01-02  \n",
       "1                 Angers  2016-08-18  \n",
       "2                 Angers  2010-07-01  \n",
       "3                 Angers  2016-07-01  \n",
       "4                 Angers  2016-07-01  \n",
       "5                 Angers  2014-02-27  \n",
       "6                 Angers  2015-07-01  \n",
       "7                 Angers  2016-07-01  \n",
       "8                 Angers  2015-07-01  \n",
       "9                 Angers  2016-07-01  \n",
       "10                Angers  2013-07-01  \n",
       "11                Angers  2017-01-01  \n",
       "12                Angers  2016-08-31  \n",
       "13                Angers  2017-01-31  \n",
       "14                Angers  2008-08-01  \n",
       "15                Angers  2015-07-01  \n",
       "16                Angers  2015-02-02  \n",
       "17                Angers  2016-01-25  \n",
       "18                Angers  2015-07-01  \n",
       "19                Angers  2015-07-01  \n",
       "20                Angers  2015-07-01  \n",
       "21                Angers  2016-07-01  \n",
       "22                Angers  2016-07-01  \n",
       "23                Angers  2017-01-04  \n",
       "24                Angers  2016-08-31  \n",
       "25                Angers  2015-08-02  \n",
       "26                Angers  2017-01-03  \n",
       "27                Angers  2016-07-01  \n",
       "28                Angers  2016-07-01  \n",
       "29                Angers  2015-07-01  \n",
       "..                   ...         ...  \n",
       "749               Monaco  2016-01-09  \n",
       "750               Monaco  2015-07-11  \n",
       "751          Montpellier  2016-07-08  \n",
       "752          Montpellier  2014-08-01  \n",
       "753                Nancy  2013-09-01  \n",
       "754                Nancy  2013-11-01  \n",
       "755               Nantes  2013-01-08  \n",
       "756               Nantes  2016-07-01  \n",
       "757               Nantes  2015-08-31  \n",
       "758                 Nice  2014-07-01  \n",
       "759                 Nice  2016-11-07  \n",
       "760                 Nice  2016-12-07  \n",
       "761                 Nice  2012-07-01  \n",
       "762                 Nice  2011-07-01  \n",
       "763  Paris Saint-Germain  2012-07-01  \n",
       "764  Paris Saint-Germain  2016-07-01  \n",
       "765  Paris Saint-Germain  2014-06-10  \n",
       "766  Paris Saint-Germain  2015-07-20  \n",
       "767               Rennes  2014-01-24  \n",
       "768               Rennes  2014-07-30  \n",
       "769               Rennes  2014-09-04  \n",
       "770               Rennes  2014-07-01  \n",
       "771               Rennes  2014-01-28  \n",
       "772               Rennes  2016-07-01  \n",
       "773           St Etienne  2017-01-27  \n",
       "774           St Etienne  2016-11-25  \n",
       "775           St Etienne  2016-07-01  \n",
       "776           St Etienne  2013-09-01  \n",
       "777             Toulouse  2016-11-01  \n",
       "778             Toulouse  2016-07-01  \n",
       "\n",
       "[779 rows x 7 columns]"
      ]
     },
     "execution_count": 51,
     "metadata": {},
     "output_type": "execute_result"
    }
   ],
   "source": [
    "all_player_df"
   ]
  },
  {
   "cell_type": "code",
   "execution_count": null,
   "metadata": {},
   "outputs": [],
   "source": []
  }
 ],
 "metadata": {
  "kernelspec": {
   "display_name": "Python ml",
   "language": "python",
   "name": "ml"
  },
  "language_info": {
   "codemirror_mode": {
    "name": "ipython",
    "version": 3
   },
   "file_extension": ".py",
   "mimetype": "text/x-python",
   "name": "python",
   "nbconvert_exporter": "python",
   "pygments_lexer": "ipython3",
   "version": "3.6.2"
  }
 },
 "nbformat": 4,
 "nbformat_minor": 2
}
